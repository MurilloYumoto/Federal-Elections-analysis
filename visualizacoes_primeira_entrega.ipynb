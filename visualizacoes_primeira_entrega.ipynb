{
 "cells": [
  {
   "cell_type": "code",
   "execution_count": 13,
   "metadata": {
    "colab": {
     "base_uri": "https://localhost:8080/"
    },
    "id": "bgjsoH-ItMD_",
    "outputId": "0a4471e9-8d51-49e7-9604-7097c4b679dc"
   },
   "outputs": [
    {
     "data": {
      "text/plain": [
       "DataTransformerRegistry.enable('vegafusion')"
      ]
     },
     "execution_count": 13,
     "metadata": {},
     "output_type": "execute_result"
    }
   ],
   "source": [
    "import pandas as pd\n",
    "import geopandas as gpd\n",
    "import numpy as np\n",
    "import geopy\n",
    "import altair as alt\n",
    "import openml\n",
    "from scipy.stats import kruskal\n",
    "from scipy.stats import mannwhitneyu\n",
    "import scikit_posthocs as sp\n",
    "\n",
    "from sklearn.experimental import enable_iterative_imputer\n",
    "from sklearn.impute import IterativeImputer\n",
    "from sklearn.ensemble import RandomForestRegressor, RandomForestClassifier\n",
    "import plotly.graph_objects as go\n",
    "\n",
    "from tqdm import tqdm\n",
    "import time\n",
    "\n",
    "alt.data_transformers.enable(\"vegafusion\")\n",
    "alt.data_transformers.disable_max_rows()"
   ]
  },
  {
   "cell_type": "code",
   "execution_count": 14,
   "metadata": {
    "id": "_1ijS-CSyzrz"
   },
   "outputs": [],
   "source": [
    "# Alterar isso\n",
    "\n",
    "dataset = openml.datasets.get_dataset(42080)\n",
    "df, _, _, _ = dataset.get_data(dataset_format='dataframe')"
   ]
  },
  {
   "cell_type": "code",
   "execution_count": 19,
   "metadata": {},
   "outputs": [
    {
     "data": {
      "text/html": [
       "<div>\n",
       "<style scoped>\n",
       "    .dataframe tbody tr th:only-of-type {\n",
       "        vertical-align: middle;\n",
       "    }\n",
       "\n",
       "    .dataframe tbody tr th {\n",
       "        vertical-align: top;\n",
       "    }\n",
       "\n",
       "    .dataframe thead th {\n",
       "        text-align: right;\n",
       "    }\n",
       "</style>\n",
       "<table border=\"1\" class=\"dataframe\">\n",
       "  <thead>\n",
       "    <tr style=\"text-align: right;\">\n",
       "      <th></th>\n",
       "      <th>cmte_id</th>\n",
       "      <th>amndt_ind</th>\n",
       "      <th>rpt_tp</th>\n",
       "      <th>transaction_pgi</th>\n",
       "      <th>transaction_tp</th>\n",
       "      <th>entity_tp</th>\n",
       "      <th>city</th>\n",
       "      <th>state</th>\n",
       "      <th>zip_code</th>\n",
       "      <th>employer</th>\n",
       "      <th>occupation</th>\n",
       "      <th>transaction_dt</th>\n",
       "      <th>transaction_amt</th>\n",
       "      <th>file_num</th>\n",
       "    </tr>\n",
       "  </thead>\n",
       "  <tbody>\n",
       "    <tr>\n",
       "      <th>1079858</th>\n",
       "      <td>C00034157</td>\n",
       "      <td>N</td>\n",
       "      <td>M5</td>\n",
       "      <td>Desconhecido</td>\n",
       "      <td>15</td>\n",
       "      <td>IND</td>\n",
       "      <td>MINNEAPOLIS</td>\n",
       "      <td>MN</td>\n",
       "      <td>55439.0</td>\n",
       "      <td>missing</td>\n",
       "      <td>retired</td>\n",
       "      <td>2012-04-01</td>\n",
       "      <td>6.030685</td>\n",
       "      <td>783390.0</td>\n",
       "    </tr>\n",
       "    <tr>\n",
       "      <th>1346510</th>\n",
       "      <td>C00505552</td>\n",
       "      <td>A</td>\n",
       "      <td>30G</td>\n",
       "      <td>G</td>\n",
       "      <td>15E</td>\n",
       "      <td>IND</td>\n",
       "      <td>BETHESDA</td>\n",
       "      <td>MD</td>\n",
       "      <td>20816.0</td>\n",
       "      <td>missing</td>\n",
       "      <td>retired</td>\n",
       "      <td>2012-11-04</td>\n",
       "      <td>5.521461</td>\n",
       "      <td>857344.0</td>\n",
       "    </tr>\n",
       "    <tr>\n",
       "      <th>8888</th>\n",
       "      <td>C00328211</td>\n",
       "      <td>N</td>\n",
       "      <td>Q1</td>\n",
       "      <td>P</td>\n",
       "      <td>15</td>\n",
       "      <td>IND</td>\n",
       "      <td>CHEVY CHASE</td>\n",
       "      <td>MD</td>\n",
       "      <td>20815.0</td>\n",
       "      <td>missing</td>\n",
       "      <td>retired</td>\n",
       "      <td>2011-03-15</td>\n",
       "      <td>6.907755</td>\n",
       "      <td>726710.0</td>\n",
       "    </tr>\n",
       "    <tr>\n",
       "      <th>2502508</th>\n",
       "      <td>C00506931</td>\n",
       "      <td>A</td>\n",
       "      <td>12C</td>\n",
       "      <td>C</td>\n",
       "      <td>15</td>\n",
       "      <td>IND</td>\n",
       "      <td>ARLINGTON</td>\n",
       "      <td>VA</td>\n",
       "      <td>22203.0</td>\n",
       "      <td>missing</td>\n",
       "      <td>retired</td>\n",
       "      <td>2012-01-25</td>\n",
       "      <td>6.907755</td>\n",
       "      <td>850871.0</td>\n",
       "    </tr>\n",
       "    <tr>\n",
       "      <th>1128381</th>\n",
       "      <td>C00476564</td>\n",
       "      <td>N</td>\n",
       "      <td>Q2</td>\n",
       "      <td>P</td>\n",
       "      <td>15</td>\n",
       "      <td>IND</td>\n",
       "      <td>WASHINGTON</td>\n",
       "      <td>DC</td>\n",
       "      <td>20003.0</td>\n",
       "      <td>missing</td>\n",
       "      <td>retired</td>\n",
       "      <td>2012-06-21</td>\n",
       "      <td>5.521461</td>\n",
       "      <td>798378.0</td>\n",
       "    </tr>\n",
       "    <tr>\n",
       "      <th>...</th>\n",
       "      <td>...</td>\n",
       "      <td>...</td>\n",
       "      <td>...</td>\n",
       "      <td>...</td>\n",
       "      <td>...</td>\n",
       "      <td>...</td>\n",
       "      <td>...</td>\n",
       "      <td>...</td>\n",
       "      <td>...</td>\n",
       "      <td>...</td>\n",
       "      <td>...</td>\n",
       "      <td>...</td>\n",
       "      <td>...</td>\n",
       "      <td>...</td>\n",
       "    </tr>\n",
       "    <tr>\n",
       "      <th>1070271</th>\n",
       "      <td>C00431171</td>\n",
       "      <td>A</td>\n",
       "      <td>M3</td>\n",
       "      <td>P</td>\n",
       "      <td>15</td>\n",
       "      <td>IND</td>\n",
       "      <td>VALDOSTA</td>\n",
       "      <td>GA</td>\n",
       "      <td>31601.0</td>\n",
       "      <td>missing</td>\n",
       "      <td>retired</td>\n",
       "      <td>2012-02-24</td>\n",
       "      <td>6.907755</td>\n",
       "      <td>780124.0</td>\n",
       "    </tr>\n",
       "    <tr>\n",
       "      <th>222486</th>\n",
       "      <td>C00495028</td>\n",
       "      <td>N</td>\n",
       "      <td>YE</td>\n",
       "      <td>Desconhecido</td>\n",
       "      <td>10</td>\n",
       "      <td>PAC</td>\n",
       "      <td>WASHINGTON</td>\n",
       "      <td>DC</td>\n",
       "      <td>20005.0</td>\n",
       "      <td>missing</td>\n",
       "      <td>retired</td>\n",
       "      <td>2011-12-20</td>\n",
       "      <td>8.517193</td>\n",
       "      <td>763491.0</td>\n",
       "    </tr>\n",
       "    <tr>\n",
       "      <th>3042627</th>\n",
       "      <td>C00431304</td>\n",
       "      <td>A</td>\n",
       "      <td>30G</td>\n",
       "      <td>G</td>\n",
       "      <td>15</td>\n",
       "      <td>IND</td>\n",
       "      <td>CLAYTON</td>\n",
       "      <td>MO</td>\n",
       "      <td>63105.0</td>\n",
       "      <td>missing</td>\n",
       "      <td>retired</td>\n",
       "      <td>2012-10-27</td>\n",
       "      <td>6.214608</td>\n",
       "      <td>878471.0</td>\n",
       "    </tr>\n",
       "    <tr>\n",
       "      <th>2884697</th>\n",
       "      <td>C00498634</td>\n",
       "      <td>N</td>\n",
       "      <td>12G</td>\n",
       "      <td>G</td>\n",
       "      <td>15</td>\n",
       "      <td>IND</td>\n",
       "      <td>MUNDELEIN</td>\n",
       "      <td>IL</td>\n",
       "      <td>60060.0</td>\n",
       "      <td>missing</td>\n",
       "      <td>retired</td>\n",
       "      <td>2012-10-10</td>\n",
       "      <td>6.214608</td>\n",
       "      <td>827719.0</td>\n",
       "    </tr>\n",
       "    <tr>\n",
       "      <th>3330894</th>\n",
       "      <td>C00431171</td>\n",
       "      <td>A</td>\n",
       "      <td>M10</td>\n",
       "      <td>G</td>\n",
       "      <td>15</td>\n",
       "      <td>IND</td>\n",
       "      <td>BEAVER DAM</td>\n",
       "      <td>WI</td>\n",
       "      <td>53916.0</td>\n",
       "      <td>missing</td>\n",
       "      <td>retired</td>\n",
       "      <td>2012-09-10</td>\n",
       "      <td>5.298317</td>\n",
       "      <td>944828.0</td>\n",
       "    </tr>\n",
       "  </tbody>\n",
       "</table>\n",
       "<p>33378 rows × 14 columns</p>\n",
       "</div>"
      ],
      "text/plain": [
       "           cmte_id amndt_ind rpt_tp transaction_pgi transaction_tp entity_tp  \\\n",
       "1079858  C00034157         N     M5    Desconhecido             15       IND   \n",
       "1346510  C00505552         A    30G               G            15E       IND   \n",
       "8888     C00328211         N     Q1               P             15       IND   \n",
       "2502508  C00506931         A    12C               C             15       IND   \n",
       "1128381  C00476564         N     Q2               P             15       IND   \n",
       "...            ...       ...    ...             ...            ...       ...   \n",
       "1070271  C00431171         A     M3               P             15       IND   \n",
       "222486   C00495028         N     YE    Desconhecido             10       PAC   \n",
       "3042627  C00431304         A    30G               G             15       IND   \n",
       "2884697  C00498634         N    12G               G             15       IND   \n",
       "3330894  C00431171         A    M10               G             15       IND   \n",
       "\n",
       "                city state  zip_code employer occupation transaction_dt  \\\n",
       "1079858  MINNEAPOLIS    MN   55439.0  missing    retired     2012-04-01   \n",
       "1346510     BETHESDA    MD   20816.0  missing    retired     2012-11-04   \n",
       "8888     CHEVY CHASE    MD   20815.0  missing    retired     2011-03-15   \n",
       "2502508    ARLINGTON    VA   22203.0  missing    retired     2012-01-25   \n",
       "1128381   WASHINGTON    DC   20003.0  missing    retired     2012-06-21   \n",
       "...              ...   ...       ...      ...        ...            ...   \n",
       "1070271     VALDOSTA    GA   31601.0  missing    retired     2012-02-24   \n",
       "222486    WASHINGTON    DC   20005.0  missing    retired     2011-12-20   \n",
       "3042627      CLAYTON    MO   63105.0  missing    retired     2012-10-27   \n",
       "2884697    MUNDELEIN    IL   60060.0  missing    retired     2012-10-10   \n",
       "3330894   BEAVER DAM    WI   53916.0  missing    retired     2012-09-10   \n",
       "\n",
       "         transaction_amt  file_num  \n",
       "1079858         6.030685  783390.0  \n",
       "1346510         5.521461  857344.0  \n",
       "8888            6.907755  726710.0  \n",
       "2502508         6.907755  850871.0  \n",
       "1128381         5.521461  798378.0  \n",
       "...                  ...       ...  \n",
       "1070271         6.907755  780124.0  \n",
       "222486          8.517193  763491.0  \n",
       "3042627         6.214608  878471.0  \n",
       "2884697         6.214608  827719.0  \n",
       "3330894         5.298317  944828.0  \n",
       "\n",
       "[33378 rows x 14 columns]"
      ]
     },
     "execution_count": 19,
     "metadata": {},
     "output_type": "execute_result"
    }
   ],
   "source": [
    "df = pd.read_csv(\"amostra.csv\", index_col=0)\n",
    "df"
   ]
  },
  {
   "cell_type": "markdown",
   "metadata": {
    "id": "PLIMmYSndeJu"
   },
   "source": [
    "# Data Visualization"
   ]
  },
  {
   "cell_type": "code",
   "execution_count": 20,
   "metadata": {
    "id": "Vkghf8ibe-Ej"
   },
   "outputs": [],
   "source": [
    "colorscale = ['#0b132b', '#1b2740', '#2a3c56',\n",
    "              '#354964', '#3a506b', '#3a506b',\n",
    "              '#57b1b1', '#63d8cd', ' #6fffe9']"
   ]
  },
  {
   "cell_type": "markdown",
   "metadata": {
    "id": "q1iftkWEoib7"
   },
   "source": [
    "## 1. Perfis mais comums de Contribuintes"
   ]
  },
  {
   "cell_type": "code",
   "execution_count": 21,
   "metadata": {
    "id": "mZH2FjN5osCq"
   },
   "outputs": [],
   "source": [
    "columns = ['amndt_ind', 'rpt_tp', 'transaction_pgi', 'transaction_tp', 'entity_tp', 'occupation']\n",
    "freq_table = df.groupby(columns).size().reset_index(name='counts')\n",
    "freq_table = freq_table.sort_values('counts', ascending=False)\n",
    "\n",
    "data = freq_table.head(9)\n",
    "sankey = data.copy()"
   ]
  },
  {
   "cell_type": "code",
   "execution_count": 22,
   "metadata": {
    "colab": {
     "base_uri": "https://localhost:8080/",
     "height": 332
    },
    "id": "wyTmf-9fbIS-",
    "outputId": "eb768db2-a821-4249-be9a-a8742d7680cb"
   },
   "outputs": [
    {
     "data": {
      "text/html": [
       "<div>\n",
       "<style scoped>\n",
       "    .dataframe tbody tr th:only-of-type {\n",
       "        vertical-align: middle;\n",
       "    }\n",
       "\n",
       "    .dataframe tbody tr th {\n",
       "        vertical-align: top;\n",
       "    }\n",
       "\n",
       "    .dataframe thead th {\n",
       "        text-align: right;\n",
       "    }\n",
       "</style>\n",
       "<table border=\"1\" class=\"dataframe\">\n",
       "  <thead>\n",
       "    <tr style=\"text-align: right;\">\n",
       "      <th></th>\n",
       "      <th>amndt_ind</th>\n",
       "      <th>rpt_tp</th>\n",
       "      <th>transaction_pgi</th>\n",
       "      <th>transaction_tp</th>\n",
       "      <th>entity_tp</th>\n",
       "      <th>occupation</th>\n",
       "      <th>counts</th>\n",
       "    </tr>\n",
       "  </thead>\n",
       "  <tbody>\n",
       "    <tr>\n",
       "      <th>291</th>\n",
       "      <td>A</td>\n",
       "      <td>Q3</td>\n",
       "      <td>P</td>\n",
       "      <td>15</td>\n",
       "      <td>IND</td>\n",
       "      <td>retired</td>\n",
       "      <td>1968</td>\n",
       "    </tr>\n",
       "    <tr>\n",
       "      <th>261</th>\n",
       "      <td>A</td>\n",
       "      <td>Q2</td>\n",
       "      <td>P</td>\n",
       "      <td>15</td>\n",
       "      <td>IND</td>\n",
       "      <td>retired</td>\n",
       "      <td>1756</td>\n",
       "    </tr>\n",
       "    <tr>\n",
       "      <th>14</th>\n",
       "      <td>A</td>\n",
       "      <td>12G</td>\n",
       "      <td>G</td>\n",
       "      <td>15</td>\n",
       "      <td>IND</td>\n",
       "      <td>retired</td>\n",
       "      <td>1342</td>\n",
       "    </tr>\n",
       "    <tr>\n",
       "      <th>317</th>\n",
       "      <td>A</td>\n",
       "      <td>YE</td>\n",
       "      <td>P</td>\n",
       "      <td>15</td>\n",
       "      <td>IND</td>\n",
       "      <td>retired</td>\n",
       "      <td>1227</td>\n",
       "    </tr>\n",
       "    <tr>\n",
       "      <th>54</th>\n",
       "      <td>A</td>\n",
       "      <td>30G</td>\n",
       "      <td>G</td>\n",
       "      <td>15</td>\n",
       "      <td>IND</td>\n",
       "      <td>retired</td>\n",
       "      <td>1128</td>\n",
       "    </tr>\n",
       "    <tr>\n",
       "      <th>85</th>\n",
       "      <td>A</td>\n",
       "      <td>M10</td>\n",
       "      <td>G</td>\n",
       "      <td>15</td>\n",
       "      <td>IND</td>\n",
       "      <td>retired</td>\n",
       "      <td>1008</td>\n",
       "    </tr>\n",
       "    <tr>\n",
       "      <th>238</th>\n",
       "      <td>A</td>\n",
       "      <td>Q1</td>\n",
       "      <td>P</td>\n",
       "      <td>15</td>\n",
       "      <td>IND</td>\n",
       "      <td>retired</td>\n",
       "      <td>937</td>\n",
       "    </tr>\n",
       "    <tr>\n",
       "      <th>212</th>\n",
       "      <td>A</td>\n",
       "      <td>M9</td>\n",
       "      <td>P</td>\n",
       "      <td>15</td>\n",
       "      <td>IND</td>\n",
       "      <td>retired</td>\n",
       "      <td>918</td>\n",
       "    </tr>\n",
       "    <tr>\n",
       "      <th>577</th>\n",
       "      <td>N</td>\n",
       "      <td>Q2</td>\n",
       "      <td>P</td>\n",
       "      <td>15</td>\n",
       "      <td>IND</td>\n",
       "      <td>retired</td>\n",
       "      <td>889</td>\n",
       "    </tr>\n",
       "  </tbody>\n",
       "</table>\n",
       "</div>"
      ],
      "text/plain": [
       "    amndt_ind rpt_tp transaction_pgi transaction_tp entity_tp occupation  \\\n",
       "291         A     Q3               P             15       IND    retired   \n",
       "261         A     Q2               P             15       IND    retired   \n",
       "14          A    12G               G             15       IND    retired   \n",
       "317         A     YE               P             15       IND    retired   \n",
       "54          A    30G               G             15       IND    retired   \n",
       "85          A    M10               G             15       IND    retired   \n",
       "238         A     Q1               P             15       IND    retired   \n",
       "212         A     M9               P             15       IND    retired   \n",
       "577         N     Q2               P             15       IND    retired   \n",
       "\n",
       "     counts  \n",
       "291    1968  \n",
       "261    1756  \n",
       "14     1342  \n",
       "317    1227  \n",
       "54     1128  \n",
       "85     1008  \n",
       "238     937  \n",
       "212     918  \n",
       "577     889  "
      ]
     },
     "execution_count": 22,
     "metadata": {},
     "output_type": "execute_result"
    }
   ],
   "source": [
    "sankey"
   ]
  },
  {
   "cell_type": "code",
   "execution_count": 23,
   "metadata": {
    "colab": {
     "base_uri": "https://localhost:8080/",
     "height": 542
    },
    "id": "SwzKjuvTo34s",
    "outputId": "0c0ec88f-58e7-4a0f-bf89-b350eab2bf0b"
   },
   "outputs": [
    {
     "data": {
      "application/vnd.plotly.v1+json": {
       "config": {
        "plotlyServerURL": "https://plot.ly"
       },
       "data": [
        {
         "arrangement": "snap",
         "link": {
          "color": [
           "rgba(239, 247, 246, 0.4)",
           "rgba(163, 171, 178, 0.4)",
           "rgba(112, 120, 133, 0.4)",
           "rgba(62, 70, 88, 0.4)",
           "rgba(36, 44, 66, 0.4)",
           "rgba(239, 247, 246, 0.4)",
           "rgba(163, 171, 178, 0.4)",
           "rgba(112, 120, 133, 0.4)",
           "rgba(62, 70, 88, 0.4)",
           "rgba(36, 44, 66, 0.4)",
           "rgba(239, 247, 246, 0.4)",
           "rgba(163, 171, 178, 0.4)",
           "rgba(112, 120, 133, 0.4)",
           "rgba(62, 70, 88, 0.4)",
           "rgba(36, 44, 66, 0.4)",
           "rgba(239, 247, 246, 0.4)",
           "rgba(163, 171, 178, 0.4)",
           "rgba(112, 120, 133, 0.4)",
           "rgba(62, 70, 88, 0.4)",
           "rgba(36, 44, 66, 0.4)",
           "rgba(239, 247, 246, 0.4)",
           "rgba(163, 171, 178, 0.4)",
           "rgba(112, 120, 133, 0.4)",
           "rgba(62, 70, 88, 0.4)",
           "rgba(36, 44, 66, 0.4)",
           "rgba(239, 247, 246, 0.4)",
           "rgba(163, 171, 178, 0.4)",
           "rgba(112, 120, 133, 0.4)",
           "rgba(62, 70, 88, 0.4)",
           "rgba(36, 44, 66, 0.4)",
           "rgba(239, 247, 246, 0.4)",
           "rgba(163, 171, 178, 0.4)",
           "rgba(112, 120, 133, 0.4)",
           "rgba(62, 70, 88, 0.4)",
           "rgba(36, 44, 66, 0.4)",
           "rgba(239, 247, 246, 0.4)",
           "rgba(163, 171, 178, 0.4)",
           "rgba(112, 120, 133, 0.4)",
           "rgba(62, 70, 88, 0.4)",
           "rgba(36, 44, 66, 0.4)",
           "rgba(239, 247, 246, 0.4)",
           "rgba(163, 171, 178, 0.4)",
           "rgba(112, 120, 133, 0.4)",
           "rgba(62, 70, 88, 0.4)",
           "rgba(36, 44, 66, 0.4)"
          ],
          "hovertemplate": "Origem: %{source.label}<br>Destino: %{target.label}<br>Número de contribuintes: %{value}<extra></extra>",
          "source": [
           0,
           1,
           2,
           4,
           5,
           0,
           1,
           2,
           4,
           5,
           0,
           1,
           2,
           4,
           6,
           0,
           1,
           2,
           4,
           5,
           0,
           1,
           2,
           4,
           6,
           0,
           1,
           2,
           4,
           6,
           0,
           1,
           2,
           4,
           5,
           0,
           1,
           2,
           4,
           5,
           0,
           1,
           3,
           4,
           5
          ],
          "target": [
           1,
           2,
           4,
           5,
           7,
           1,
           2,
           4,
           5,
           8,
           1,
           2,
           4,
           6,
           9,
           1,
           2,
           4,
           5,
           10,
           1,
           2,
           4,
           6,
           11,
           1,
           2,
           4,
           6,
           12,
           1,
           2,
           4,
           5,
           13,
           1,
           2,
           4,
           5,
           14,
           1,
           3,
           4,
           5,
           8
          ],
          "value": [
           1968,
           1968,
           1968,
           1968,
           1968,
           1756,
           1756,
           1756,
           1756,
           1756,
           1342,
           1342,
           1342,
           1342,
           1342,
           1227,
           1227,
           1227,
           1227,
           1227,
           1128,
           1128,
           1128,
           1128,
           1128,
           1008,
           1008,
           1008,
           1008,
           1008,
           937,
           937,
           937,
           937,
           937,
           918,
           918,
           918,
           918,
           918,
           889,
           889,
           889,
           889,
           889
          ]
         },
         "node": {
          "color": [
           "#eff7f6",
           "#a3abb2",
           "#707885",
           "#707885",
           "#3e4658",
           "#242c42",
           "#242c42",
           "#0b132b",
           "#0b132b",
           "#0b132b",
           "#0b132b",
           "#0b132b",
           "#0b132b",
           "#0b132b",
           "#0b132b"
          ],
          "customdata": [
           [
            "Tipo de Transação",
            11173
           ],
           [
            "Tipo de Entidade",
            11173
           ],
           [
            "Indicador de Emenda",
            10284
           ],
           [
            "Indicador de Emenda",
            889
           ],
           [
            "Ocupação",
            11173
           ],
           [
            "Etapa do Ciclo Eleitoral",
            7695
           ],
           [
            "Etapa do Ciclo Eleitoral",
            3478
           ],
           [
            "Tipo de Relatório",
            1968
           ],
           [
            "Tipo de Relatório",
            2645
           ],
           [
            "Tipo de Relatório",
            1342
           ],
           [
            "Tipo de Relatório",
            1227
           ],
           [
            "Tipo de Relatório",
            1128
           ],
           [
            "Tipo de Relatório",
            1008
           ],
           [
            "Tipo de Relatório",
            937
           ],
           [
            "Tipo de Relatório",
            918
           ]
          ],
          "hovertemplate": "%{customdata[0]}: %{label}<br>Número de contribuintes: %{customdata[1]}<extra></extra>",
          "label": [
           "15",
           "IND",
           "A",
           "N",
           "retired",
           "P",
           "G",
           "Q3",
           "Q2",
           "12G",
           "YE",
           "30G",
           "M10",
           "Q1",
           "M9"
          ],
          "line": {
           "color": "black",
           "width": 0.5
          },
          "pad": 15,
          "thickness": 20
         },
         "type": "sankey"
        }
       ],
       "layout": {
        "font": {
         "color": "black",
         "size": 12
        },
        "paper_bgcolor": "rgba(0,0,0,0)",
        "template": {
         "data": {
          "bar": [
           {
            "error_x": {
             "color": "#2a3f5f"
            },
            "error_y": {
             "color": "#2a3f5f"
            },
            "marker": {
             "line": {
              "color": "#E5ECF6",
              "width": 0.5
             },
             "pattern": {
              "fillmode": "overlay",
              "size": 10,
              "solidity": 0.2
             }
            },
            "type": "bar"
           }
          ],
          "barpolar": [
           {
            "marker": {
             "line": {
              "color": "#E5ECF6",
              "width": 0.5
             },
             "pattern": {
              "fillmode": "overlay",
              "size": 10,
              "solidity": 0.2
             }
            },
            "type": "barpolar"
           }
          ],
          "carpet": [
           {
            "aaxis": {
             "endlinecolor": "#2a3f5f",
             "gridcolor": "white",
             "linecolor": "white",
             "minorgridcolor": "white",
             "startlinecolor": "#2a3f5f"
            },
            "baxis": {
             "endlinecolor": "#2a3f5f",
             "gridcolor": "white",
             "linecolor": "white",
             "minorgridcolor": "white",
             "startlinecolor": "#2a3f5f"
            },
            "type": "carpet"
           }
          ],
          "choropleth": [
           {
            "colorbar": {
             "outlinewidth": 0,
             "ticks": ""
            },
            "type": "choropleth"
           }
          ],
          "contour": [
           {
            "colorbar": {
             "outlinewidth": 0,
             "ticks": ""
            },
            "colorscale": [
             [
              0,
              "#0d0887"
             ],
             [
              0.1111111111111111,
              "#46039f"
             ],
             [
              0.2222222222222222,
              "#7201a8"
             ],
             [
              0.3333333333333333,
              "#9c179e"
             ],
             [
              0.4444444444444444,
              "#bd3786"
             ],
             [
              0.5555555555555556,
              "#d8576b"
             ],
             [
              0.6666666666666666,
              "#ed7953"
             ],
             [
              0.7777777777777778,
              "#fb9f3a"
             ],
             [
              0.8888888888888888,
              "#fdca26"
             ],
             [
              1,
              "#f0f921"
             ]
            ],
            "type": "contour"
           }
          ],
          "contourcarpet": [
           {
            "colorbar": {
             "outlinewidth": 0,
             "ticks": ""
            },
            "type": "contourcarpet"
           }
          ],
          "heatmap": [
           {
            "colorbar": {
             "outlinewidth": 0,
             "ticks": ""
            },
            "colorscale": [
             [
              0,
              "#0d0887"
             ],
             [
              0.1111111111111111,
              "#46039f"
             ],
             [
              0.2222222222222222,
              "#7201a8"
             ],
             [
              0.3333333333333333,
              "#9c179e"
             ],
             [
              0.4444444444444444,
              "#bd3786"
             ],
             [
              0.5555555555555556,
              "#d8576b"
             ],
             [
              0.6666666666666666,
              "#ed7953"
             ],
             [
              0.7777777777777778,
              "#fb9f3a"
             ],
             [
              0.8888888888888888,
              "#fdca26"
             ],
             [
              1,
              "#f0f921"
             ]
            ],
            "type": "heatmap"
           }
          ],
          "heatmapgl": [
           {
            "colorbar": {
             "outlinewidth": 0,
             "ticks": ""
            },
            "colorscale": [
             [
              0,
              "#0d0887"
             ],
             [
              0.1111111111111111,
              "#46039f"
             ],
             [
              0.2222222222222222,
              "#7201a8"
             ],
             [
              0.3333333333333333,
              "#9c179e"
             ],
             [
              0.4444444444444444,
              "#bd3786"
             ],
             [
              0.5555555555555556,
              "#d8576b"
             ],
             [
              0.6666666666666666,
              "#ed7953"
             ],
             [
              0.7777777777777778,
              "#fb9f3a"
             ],
             [
              0.8888888888888888,
              "#fdca26"
             ],
             [
              1,
              "#f0f921"
             ]
            ],
            "type": "heatmapgl"
           }
          ],
          "histogram": [
           {
            "marker": {
             "pattern": {
              "fillmode": "overlay",
              "size": 10,
              "solidity": 0.2
             }
            },
            "type": "histogram"
           }
          ],
          "histogram2d": [
           {
            "colorbar": {
             "outlinewidth": 0,
             "ticks": ""
            },
            "colorscale": [
             [
              0,
              "#0d0887"
             ],
             [
              0.1111111111111111,
              "#46039f"
             ],
             [
              0.2222222222222222,
              "#7201a8"
             ],
             [
              0.3333333333333333,
              "#9c179e"
             ],
             [
              0.4444444444444444,
              "#bd3786"
             ],
             [
              0.5555555555555556,
              "#d8576b"
             ],
             [
              0.6666666666666666,
              "#ed7953"
             ],
             [
              0.7777777777777778,
              "#fb9f3a"
             ],
             [
              0.8888888888888888,
              "#fdca26"
             ],
             [
              1,
              "#f0f921"
             ]
            ],
            "type": "histogram2d"
           }
          ],
          "histogram2dcontour": [
           {
            "colorbar": {
             "outlinewidth": 0,
             "ticks": ""
            },
            "colorscale": [
             [
              0,
              "#0d0887"
             ],
             [
              0.1111111111111111,
              "#46039f"
             ],
             [
              0.2222222222222222,
              "#7201a8"
             ],
             [
              0.3333333333333333,
              "#9c179e"
             ],
             [
              0.4444444444444444,
              "#bd3786"
             ],
             [
              0.5555555555555556,
              "#d8576b"
             ],
             [
              0.6666666666666666,
              "#ed7953"
             ],
             [
              0.7777777777777778,
              "#fb9f3a"
             ],
             [
              0.8888888888888888,
              "#fdca26"
             ],
             [
              1,
              "#f0f921"
             ]
            ],
            "type": "histogram2dcontour"
           }
          ],
          "mesh3d": [
           {
            "colorbar": {
             "outlinewidth": 0,
             "ticks": ""
            },
            "type": "mesh3d"
           }
          ],
          "parcoords": [
           {
            "line": {
             "colorbar": {
              "outlinewidth": 0,
              "ticks": ""
             }
            },
            "type": "parcoords"
           }
          ],
          "pie": [
           {
            "automargin": true,
            "type": "pie"
           }
          ],
          "scatter": [
           {
            "fillpattern": {
             "fillmode": "overlay",
             "size": 10,
             "solidity": 0.2
            },
            "type": "scatter"
           }
          ],
          "scatter3d": [
           {
            "line": {
             "colorbar": {
              "outlinewidth": 0,
              "ticks": ""
             }
            },
            "marker": {
             "colorbar": {
              "outlinewidth": 0,
              "ticks": ""
             }
            },
            "type": "scatter3d"
           }
          ],
          "scattercarpet": [
           {
            "marker": {
             "colorbar": {
              "outlinewidth": 0,
              "ticks": ""
             }
            },
            "type": "scattercarpet"
           }
          ],
          "scattergeo": [
           {
            "marker": {
             "colorbar": {
              "outlinewidth": 0,
              "ticks": ""
             }
            },
            "type": "scattergeo"
           }
          ],
          "scattergl": [
           {
            "marker": {
             "colorbar": {
              "outlinewidth": 0,
              "ticks": ""
             }
            },
            "type": "scattergl"
           }
          ],
          "scattermapbox": [
           {
            "marker": {
             "colorbar": {
              "outlinewidth": 0,
              "ticks": ""
             }
            },
            "type": "scattermapbox"
           }
          ],
          "scatterpolar": [
           {
            "marker": {
             "colorbar": {
              "outlinewidth": 0,
              "ticks": ""
             }
            },
            "type": "scatterpolar"
           }
          ],
          "scatterpolargl": [
           {
            "marker": {
             "colorbar": {
              "outlinewidth": 0,
              "ticks": ""
             }
            },
            "type": "scatterpolargl"
           }
          ],
          "scatterternary": [
           {
            "marker": {
             "colorbar": {
              "outlinewidth": 0,
              "ticks": ""
             }
            },
            "type": "scatterternary"
           }
          ],
          "surface": [
           {
            "colorbar": {
             "outlinewidth": 0,
             "ticks": ""
            },
            "colorscale": [
             [
              0,
              "#0d0887"
             ],
             [
              0.1111111111111111,
              "#46039f"
             ],
             [
              0.2222222222222222,
              "#7201a8"
             ],
             [
              0.3333333333333333,
              "#9c179e"
             ],
             [
              0.4444444444444444,
              "#bd3786"
             ],
             [
              0.5555555555555556,
              "#d8576b"
             ],
             [
              0.6666666666666666,
              "#ed7953"
             ],
             [
              0.7777777777777778,
              "#fb9f3a"
             ],
             [
              0.8888888888888888,
              "#fdca26"
             ],
             [
              1,
              "#f0f921"
             ]
            ],
            "type": "surface"
           }
          ],
          "table": [
           {
            "cells": {
             "fill": {
              "color": "#EBF0F8"
             },
             "line": {
              "color": "white"
             }
            },
            "header": {
             "fill": {
              "color": "#C8D4E3"
             },
             "line": {
              "color": "white"
             }
            },
            "type": "table"
           }
          ]
         },
         "layout": {
          "annotationdefaults": {
           "arrowcolor": "#2a3f5f",
           "arrowhead": 0,
           "arrowwidth": 1
          },
          "autotypenumbers": "strict",
          "coloraxis": {
           "colorbar": {
            "outlinewidth": 0,
            "ticks": ""
           }
          },
          "colorscale": {
           "diverging": [
            [
             0,
             "#8e0152"
            ],
            [
             0.1,
             "#c51b7d"
            ],
            [
             0.2,
             "#de77ae"
            ],
            [
             0.3,
             "#f1b6da"
            ],
            [
             0.4,
             "#fde0ef"
            ],
            [
             0.5,
             "#f7f7f7"
            ],
            [
             0.6,
             "#e6f5d0"
            ],
            [
             0.7,
             "#b8e186"
            ],
            [
             0.8,
             "#7fbc41"
            ],
            [
             0.9,
             "#4d9221"
            ],
            [
             1,
             "#276419"
            ]
           ],
           "sequential": [
            [
             0,
             "#0d0887"
            ],
            [
             0.1111111111111111,
             "#46039f"
            ],
            [
             0.2222222222222222,
             "#7201a8"
            ],
            [
             0.3333333333333333,
             "#9c179e"
            ],
            [
             0.4444444444444444,
             "#bd3786"
            ],
            [
             0.5555555555555556,
             "#d8576b"
            ],
            [
             0.6666666666666666,
             "#ed7953"
            ],
            [
             0.7777777777777778,
             "#fb9f3a"
            ],
            [
             0.8888888888888888,
             "#fdca26"
            ],
            [
             1,
             "#f0f921"
            ]
           ],
           "sequentialminus": [
            [
             0,
             "#0d0887"
            ],
            [
             0.1111111111111111,
             "#46039f"
            ],
            [
             0.2222222222222222,
             "#7201a8"
            ],
            [
             0.3333333333333333,
             "#9c179e"
            ],
            [
             0.4444444444444444,
             "#bd3786"
            ],
            [
             0.5555555555555556,
             "#d8576b"
            ],
            [
             0.6666666666666666,
             "#ed7953"
            ],
            [
             0.7777777777777778,
             "#fb9f3a"
            ],
            [
             0.8888888888888888,
             "#fdca26"
            ],
            [
             1,
             "#f0f921"
            ]
           ]
          },
          "colorway": [
           "#636efa",
           "#EF553B",
           "#00cc96",
           "#ab63fa",
           "#FFA15A",
           "#19d3f3",
           "#FF6692",
           "#B6E880",
           "#FF97FF",
           "#FECB52"
          ],
          "font": {
           "color": "#2a3f5f"
          },
          "geo": {
           "bgcolor": "white",
           "lakecolor": "white",
           "landcolor": "#E5ECF6",
           "showlakes": true,
           "showland": true,
           "subunitcolor": "white"
          },
          "hoverlabel": {
           "align": "left"
          },
          "hovermode": "closest",
          "mapbox": {
           "style": "light"
          },
          "paper_bgcolor": "white",
          "plot_bgcolor": "#E5ECF6",
          "polar": {
           "angularaxis": {
            "gridcolor": "white",
            "linecolor": "white",
            "ticks": ""
           },
           "bgcolor": "#E5ECF6",
           "radialaxis": {
            "gridcolor": "white",
            "linecolor": "white",
            "ticks": ""
           }
          },
          "scene": {
           "xaxis": {
            "backgroundcolor": "#E5ECF6",
            "gridcolor": "white",
            "gridwidth": 2,
            "linecolor": "white",
            "showbackground": true,
            "ticks": "",
            "zerolinecolor": "white"
           },
           "yaxis": {
            "backgroundcolor": "#E5ECF6",
            "gridcolor": "white",
            "gridwidth": 2,
            "linecolor": "white",
            "showbackground": true,
            "ticks": "",
            "zerolinecolor": "white"
           },
           "zaxis": {
            "backgroundcolor": "#E5ECF6",
            "gridcolor": "white",
            "gridwidth": 2,
            "linecolor": "white",
            "showbackground": true,
            "ticks": "",
            "zerolinecolor": "white"
           }
          },
          "shapedefaults": {
           "line": {
            "color": "#2a3f5f"
           }
          },
          "ternary": {
           "aaxis": {
            "gridcolor": "white",
            "linecolor": "white",
            "ticks": ""
           },
           "baxis": {
            "gridcolor": "white",
            "linecolor": "white",
            "ticks": ""
           },
           "bgcolor": "#E5ECF6",
           "caxis": {
            "gridcolor": "white",
            "linecolor": "white",
            "ticks": ""
           }
          },
          "title": {
           "x": 0.05
          },
          "xaxis": {
           "automargin": true,
           "gridcolor": "white",
           "linecolor": "white",
           "ticks": "",
           "title": {
            "standoff": 15
           },
           "zerolinecolor": "white",
           "zerolinewidth": 2
          },
          "yaxis": {
           "automargin": true,
           "gridcolor": "white",
           "linecolor": "white",
           "ticks": "",
           "title": {
            "standoff": 15
           },
           "zerolinecolor": "white",
           "zerolinewidth": 2
          }
         }
        },
        "title": {
         "text": "Perfis mais comuns dos contribuintes"
        }
       }
      }
     },
     "metadata": {},
     "output_type": "display_data"
    }
   ],
   "source": [
    "#@title .\n",
    "\n",
    "sankey = sankey[['transaction_tp', 'entity_tp', 'amndt_ind',\n",
    "                 'occupation', 'transaction_pgi', 'rpt_tp', 'counts']]\n",
    "\n",
    "original_attributes = ['transaction_tp', 'entity_tp', 'amndt_ind',\n",
    "                       'occupation', 'transaction_pgi', 'rpt_tp']\n",
    "\n",
    "display_attributes = ['Tipo de Transação', 'Tipo de Entidade', 'Indicador de Emenda',\n",
    "                      'Ocupação', 'Etapa do Ciclo Eleitoral', 'Tipo de Relatório']\n",
    "\n",
    "attribute_name_mapping = dict(zip(original_attributes, display_attributes))\n",
    "\n",
    "\n",
    "node_labels = []\n",
    "node_colors = []\n",
    "node_attrs = []\n",
    "node_indices = {}\n",
    "color_palette = [\"#eff7f6\", \"#a3abb2\", \"#707885\", \"#3e4658\", \"#242c42\", \"#0b132b\",\n",
    "                 \"#2a3c56\", \"#354964\", \"#3a506b\", \"#57b1b1\", \"#63d8cd\", \"#6fffe9\"]\n",
    "\n",
    "\n",
    "attr_colors = {attr: color_palette[i % len(color_palette)] for i, attr in enumerate(original_attributes)}\n",
    "\n",
    "current_index = 0\n",
    "for attr in original_attributes:\n",
    "    values = sankey[attr].unique()\n",
    "    for val in values:\n",
    "        node_name = str(val)\n",
    "        if node_name not in node_indices:\n",
    "            node_indices[node_name] = current_index\n",
    "            node_labels.append(node_name)\n",
    "            node_colors.append(attr_colors[attr])\n",
    "\n",
    "            node_attrs.append(attribute_name_mapping[attr])\n",
    "            current_index += 1\n",
    "\n",
    "\n",
    "links = []\n",
    "node_in_counts = {index: 0 for index in range(len(node_labels))}\n",
    "node_out_counts = {index: 0 for index in range(len(node_labels))}\n",
    "\n",
    "for _, row in sankey.iterrows():\n",
    "    counts = row['counts']\n",
    "    for i in range(len(original_attributes) - 1):\n",
    "        source_attr = original_attributes[i]\n",
    "        target_attr = original_attributes[i + 1]\n",
    "        source_node = str(row[source_attr])\n",
    "        target_node = str(row[target_attr])\n",
    "\n",
    "        source_index = node_indices[source_node]\n",
    "        target_index = node_indices[target_node]\n",
    "\n",
    "\n",
    "        base_color = node_colors[source_index]\n",
    "        link_color = base_color.replace('#', '0x')\n",
    "        rgb_color = tuple(int(link_color[i:i+2], 16) for i in (2, 4, 6))\n",
    "        rgba_color = f'rgba({rgb_color[0]}, {rgb_color[1]}, {rgb_color[2]}, 0.4)'\n",
    "\n",
    "        links.append({\n",
    "            'source': source_index,\n",
    "            'target': target_index,\n",
    "            'value': counts,\n",
    "            'color': rgba_color\n",
    "        })\n",
    "\n",
    "        node_out_counts[source_index] += counts\n",
    "        node_in_counts[target_index] += counts\n",
    "\n",
    "node_counts = {}\n",
    "for node_index in range(len(node_labels)):\n",
    "    node_counts[node_index] = max(node_in_counts[node_index], node_out_counts[node_index])\n",
    "\n",
    "sankey_nodes = {\n",
    "    'label': node_labels,\n",
    "    'color': node_colors,\n",
    "    'customdata': list(zip(\n",
    "        node_attrs,\n",
    "        [node_counts[index] for index in range(len(node_labels))]\n",
    "    )),\n",
    "    'hovertemplate': '%{customdata[0]}: %{label}<br>Número de contribuintes: %{customdata[1]}<extra></extra>'\n",
    "}\n",
    "\n",
    "sankey_links = {\n",
    "    'source': [link['source'] for link in links],\n",
    "    'target': [link['target'] for link in links],\n",
    "    'value': [link['value'] for link in links],\n",
    "    'color': [link['color'] for link in links],\n",
    "    'hovertemplate': (\n",
    "        'Origem: %{source.label}<br>' +\n",
    "        'Destino: %{target.label}<br>' +\n",
    "        'Número de contribuintes: %{value}<extra></extra>'\n",
    "    )\n",
    "}\n",
    "\n",
    "fig = go.Figure(go.Sankey(\n",
    "    arrangement='snap',\n",
    "    node=dict(\n",
    "        pad=15,\n",
    "        thickness=20,\n",
    "        line=dict(color=\"black\", width=0.5),\n",
    "        label=sankey_nodes['label'],\n",
    "        color=sankey_nodes['color'],\n",
    "        customdata=sankey_nodes['customdata'],\n",
    "        hovertemplate=sankey_nodes['hovertemplate']\n",
    "    ),\n",
    "    link=dict(\n",
    "        source=sankey_links['source'],\n",
    "        target=sankey_links['target'],\n",
    "        value=sankey_links['value'],\n",
    "        color=sankey_links['color'],\n",
    "        hovertemplate=sankey_links['hovertemplate']\n",
    "    )\n",
    "))\n",
    "\n",
    "# Título do gráfico\n",
    "fig.update_layout(\n",
    "    title_text=\"Perfis mais comuns dos contribuintes\",\n",
    "    font_size=12,\n",
    "    paper_bgcolor=\"rgba(0,0,0,0)\",\n",
    "    font_color='black'\n",
    ")\n",
    "\n",
    "# Exibir o Sankey Diagram\n",
    "fig.show()\n"
   ]
  },
  {
   "cell_type": "code",
   "execution_count": null,
   "metadata": {
    "id": "qGw6QAJPh0fS"
   },
   "outputs": [],
   "source": [
    "fig.write_html(\"sankey_diagram.html\")"
   ]
  },
  {
   "cell_type": "markdown",
   "metadata": {
    "id": "5plgdX5Z0jn8"
   },
   "source": [
    "## 2. Proporção dos tipos de entidades, Indicadores de Emenda e tipos de transações."
   ]
  },
  {
   "cell_type": "code",
   "execution_count": 24,
   "metadata": {
    "colab": {
     "base_uri": "https://localhost:8080/",
     "height": 143
    },
    "id": "ATpPJDi8YPcp",
    "outputId": "fe05a761-670b-417b-bf4a-4f390b83ee24"
   },
   "outputs": [
    {
     "data": {
      "text/html": [
       "<div>\n",
       "<style scoped>\n",
       "    .dataframe tbody tr th:only-of-type {\n",
       "        vertical-align: middle;\n",
       "    }\n",
       "\n",
       "    .dataframe tbody tr th {\n",
       "        vertical-align: top;\n",
       "    }\n",
       "\n",
       "    .dataframe thead th {\n",
       "        text-align: right;\n",
       "    }\n",
       "</style>\n",
       "<table border=\"1\" class=\"dataframe\">\n",
       "  <thead>\n",
       "    <tr style=\"text-align: right;\">\n",
       "      <th></th>\n",
       "      <th>amndt_ind</th>\n",
       "      <th>count</th>\n",
       "      <th>percentage</th>\n",
       "    </tr>\n",
       "  </thead>\n",
       "  <tbody>\n",
       "    <tr>\n",
       "      <th>0</th>\n",
       "      <td>A</td>\n",
       "      <td>22198</td>\n",
       "      <td>0.665049</td>\n",
       "    </tr>\n",
       "    <tr>\n",
       "      <th>1</th>\n",
       "      <td>N</td>\n",
       "      <td>11162</td>\n",
       "      <td>0.334412</td>\n",
       "    </tr>\n",
       "    <tr>\n",
       "      <th>2</th>\n",
       "      <td>T</td>\n",
       "      <td>18</td>\n",
       "      <td>0.000539</td>\n",
       "    </tr>\n",
       "  </tbody>\n",
       "</table>\n",
       "</div>"
      ],
      "text/plain": [
       "  amndt_ind  count  percentage\n",
       "0         A  22198    0.665049\n",
       "1         N  11162    0.334412\n",
       "2         T     18    0.000539"
      ]
     },
     "execution_count": 24,
     "metadata": {},
     "output_type": "execute_result"
    }
   ],
   "source": [
    "encoding = df['amndt_ind'].value_counts().reset_index().copy()\n",
    "total = encoding['count'].sum()\n",
    "encoding['percentage'] = encoding['count']/total\n",
    "encoding"
   ]
  },
  {
   "cell_type": "code",
   "execution_count": null,
   "metadata": {
    "id": "rHCS8AoFv0cK"
   },
   "outputs": [],
   "source": [
    "chart.save('setores.html')"
   ]
  },
  {
   "cell_type": "code",
   "execution_count": 25,
   "metadata": {
    "colab": {
     "base_uri": "https://localhost:8080/",
     "height": 269
    },
    "id": "6fi5fWYAip6T",
    "outputId": "c1917f1d-fc11-4c52-ea91-7b1840158f97"
   },
   "outputs": [
    {
     "data": {
      "text/html": [
       "<div>\n",
       "<style scoped>\n",
       "    .dataframe tbody tr th:only-of-type {\n",
       "        vertical-align: middle;\n",
       "    }\n",
       "\n",
       "    .dataframe tbody tr th {\n",
       "        vertical-align: top;\n",
       "    }\n",
       "\n",
       "    .dataframe thead th {\n",
       "        text-align: right;\n",
       "    }\n",
       "</style>\n",
       "<table border=\"1\" class=\"dataframe\">\n",
       "  <thead>\n",
       "    <tr style=\"text-align: right;\">\n",
       "      <th></th>\n",
       "      <th>entity_tp</th>\n",
       "      <th>count</th>\n",
       "      <th>percentage</th>\n",
       "    </tr>\n",
       "  </thead>\n",
       "  <tbody>\n",
       "    <tr>\n",
       "      <th>0</th>\n",
       "      <td>IND</td>\n",
       "      <td>33139</td>\n",
       "      <td>0.992840</td>\n",
       "    </tr>\n",
       "    <tr>\n",
       "      <th>1</th>\n",
       "      <td>ORG</td>\n",
       "      <td>90</td>\n",
       "      <td>0.002696</td>\n",
       "    </tr>\n",
       "    <tr>\n",
       "      <th>2</th>\n",
       "      <td>CAN</td>\n",
       "      <td>81</td>\n",
       "      <td>0.002427</td>\n",
       "    </tr>\n",
       "    <tr>\n",
       "      <th>3</th>\n",
       "      <td>PAC</td>\n",
       "      <td>42</td>\n",
       "      <td>0.001258</td>\n",
       "    </tr>\n",
       "    <tr>\n",
       "      <th>4</th>\n",
       "      <td>CCM</td>\n",
       "      <td>16</td>\n",
       "      <td>0.000479</td>\n",
       "    </tr>\n",
       "    <tr>\n",
       "      <th>5</th>\n",
       "      <td>COM</td>\n",
       "      <td>9</td>\n",
       "      <td>0.000270</td>\n",
       "    </tr>\n",
       "    <tr>\n",
       "      <th>6</th>\n",
       "      <td>PTY</td>\n",
       "      <td>1</td>\n",
       "      <td>0.000030</td>\n",
       "    </tr>\n",
       "  </tbody>\n",
       "</table>\n",
       "</div>"
      ],
      "text/plain": [
       "  entity_tp  count  percentage\n",
       "0       IND  33139    0.992840\n",
       "1       ORG     90    0.002696\n",
       "2       CAN     81    0.002427\n",
       "3       PAC     42    0.001258\n",
       "4       CCM     16    0.000479\n",
       "5       COM      9    0.000270\n",
       "6       PTY      1    0.000030"
      ]
     },
     "execution_count": 25,
     "metadata": {},
     "output_type": "execute_result"
    }
   ],
   "source": [
    "encoding = df['entity_tp'].value_counts().reset_index().copy()\n",
    "total = encoding['count'].sum()\n",
    "encoding['percentage'] = encoding['count']/total\n",
    "encoding"
   ]
  },
  {
   "cell_type": "code",
   "execution_count": 26,
   "metadata": {
    "colab": {
     "base_uri": "https://localhost:8080/",
     "height": 394
    },
    "id": "9TTIKyD6jfKF",
    "outputId": "646d042e-e455-4816-9fcc-d2c1a4fd383d"
   },
   "outputs": [
    {
     "data": {
      "text/html": [
       "<div>\n",
       "<style scoped>\n",
       "    .dataframe tbody tr th:only-of-type {\n",
       "        vertical-align: middle;\n",
       "    }\n",
       "\n",
       "    .dataframe tbody tr th {\n",
       "        vertical-align: top;\n",
       "    }\n",
       "\n",
       "    .dataframe thead th {\n",
       "        text-align: right;\n",
       "    }\n",
       "</style>\n",
       "<table border=\"1\" class=\"dataframe\">\n",
       "  <thead>\n",
       "    <tr style=\"text-align: right;\">\n",
       "      <th></th>\n",
       "      <th>transaction_tp</th>\n",
       "      <th>count</th>\n",
       "      <th>percentage</th>\n",
       "    </tr>\n",
       "  </thead>\n",
       "  <tbody>\n",
       "    <tr>\n",
       "      <th>0</th>\n",
       "      <td>15</td>\n",
       "      <td>29967</td>\n",
       "      <td>0.897807</td>\n",
       "    </tr>\n",
       "    <tr>\n",
       "      <th>1</th>\n",
       "      <td>24T</td>\n",
       "      <td>1065</td>\n",
       "      <td>0.031907</td>\n",
       "    </tr>\n",
       "    <tr>\n",
       "      <th>2</th>\n",
       "      <td>15E</td>\n",
       "      <td>883</td>\n",
       "      <td>0.026455</td>\n",
       "    </tr>\n",
       "    <tr>\n",
       "      <th>3</th>\n",
       "      <td>22Y</td>\n",
       "      <td>781</td>\n",
       "      <td>0.023399</td>\n",
       "    </tr>\n",
       "    <tr>\n",
       "      <th>4</th>\n",
       "      <td>10</td>\n",
       "      <td>330</td>\n",
       "      <td>0.009887</td>\n",
       "    </tr>\n",
       "    <tr>\n",
       "      <th>5</th>\n",
       "      <td>24I</td>\n",
       "      <td>214</td>\n",
       "      <td>0.006411</td>\n",
       "    </tr>\n",
       "    <tr>\n",
       "      <th>6</th>\n",
       "      <td>15C</td>\n",
       "      <td>103</td>\n",
       "      <td>0.003086</td>\n",
       "    </tr>\n",
       "    <tr>\n",
       "      <th>7</th>\n",
       "      <td>11</td>\n",
       "      <td>30</td>\n",
       "      <td>0.000899</td>\n",
       "    </tr>\n",
       "    <tr>\n",
       "      <th>8</th>\n",
       "      <td>19</td>\n",
       "      <td>3</td>\n",
       "      <td>0.000090</td>\n",
       "    </tr>\n",
       "    <tr>\n",
       "      <th>9</th>\n",
       "      <td>20Y</td>\n",
       "      <td>2</td>\n",
       "      <td>0.000060</td>\n",
       "    </tr>\n",
       "  </tbody>\n",
       "</table>\n",
       "</div>"
      ],
      "text/plain": [
       "  transaction_tp  count  percentage\n",
       "0             15  29967    0.897807\n",
       "1            24T   1065    0.031907\n",
       "2            15E    883    0.026455\n",
       "3            22Y    781    0.023399\n",
       "4             10    330    0.009887\n",
       "5            24I    214    0.006411\n",
       "6            15C    103    0.003086\n",
       "7             11     30    0.000899\n",
       "8             19      3    0.000090\n",
       "9            20Y      2    0.000060"
      ]
     },
     "execution_count": 26,
     "metadata": {},
     "output_type": "execute_result"
    }
   ],
   "source": [
    "encoding = df['transaction_tp'].value_counts().reset_index().copy()\n",
    "total = encoding['count'].sum()\n",
    "encoding['percentage'] = encoding['count']/total\n",
    "encoding"
   ]
  },
  {
   "cell_type": "markdown",
   "metadata": {
    "id": "gch1vfFQLlbP"
   },
   "source": [
    "## 3. Quais etapas do Ciclo Eleitoral recebem mais contribuições"
   ]
  },
  {
   "cell_type": "code",
   "execution_count": 27,
   "metadata": {
    "colab": {
     "base_uri": "https://localhost:8080/",
     "height": 332
    },
    "id": "MA1SmeRkdgBe",
    "outputId": "0b280c9b-ebd2-4194-8ee1-131319365f9a"
   },
   "outputs": [
    {
     "data": {
      "text/html": [
       "<div>\n",
       "<style scoped>\n",
       "    .dataframe tbody tr th:only-of-type {\n",
       "        vertical-align: middle;\n",
       "    }\n",
       "\n",
       "    .dataframe tbody tr th {\n",
       "        vertical-align: top;\n",
       "    }\n",
       "\n",
       "    .dataframe thead th {\n",
       "        text-align: right;\n",
       "    }\n",
       "</style>\n",
       "<table border=\"1\" class=\"dataframe\">\n",
       "  <thead>\n",
       "    <tr style=\"text-align: right;\">\n",
       "      <th></th>\n",
       "      <th>transaction_pgi</th>\n",
       "      <th>quantidade_contribuicoes</th>\n",
       "      <th>quantia_total</th>\n",
       "      <th>razao_contribuicao</th>\n",
       "    </tr>\n",
       "  </thead>\n",
       "  <tbody>\n",
       "    <tr>\n",
       "      <th>0</th>\n",
       "      <td>Primária (Interna)</td>\n",
       "      <td>15723</td>\n",
       "      <td>98751.561515</td>\n",
       "      <td>6.280707</td>\n",
       "    </tr>\n",
       "    <tr>\n",
       "      <th>1</th>\n",
       "      <td>Desconhecido</td>\n",
       "      <td>9313</td>\n",
       "      <td>56853.624557</td>\n",
       "      <td>6.104759</td>\n",
       "    </tr>\n",
       "    <tr>\n",
       "      <th>2</th>\n",
       "      <td>Geral</td>\n",
       "      <td>7963</td>\n",
       "      <td>48710.107761</td>\n",
       "      <td>6.117055</td>\n",
       "    </tr>\n",
       "    <tr>\n",
       "      <th>3</th>\n",
       "      <td>Convenção</td>\n",
       "      <td>133</td>\n",
       "      <td>836.565705</td>\n",
       "      <td>6.289968</td>\n",
       "    </tr>\n",
       "    <tr>\n",
       "      <th>4</th>\n",
       "      <td>Outras</td>\n",
       "      <td>100</td>\n",
       "      <td>681.808193</td>\n",
       "      <td>6.818082</td>\n",
       "    </tr>\n",
       "    <tr>\n",
       "      <th>5</th>\n",
       "      <td>Segundo Turno</td>\n",
       "      <td>69</td>\n",
       "      <td>452.077913</td>\n",
       "      <td>6.551854</td>\n",
       "    </tr>\n",
       "    <tr>\n",
       "      <th>6</th>\n",
       "      <td>Especial</td>\n",
       "      <td>68</td>\n",
       "      <td>436.082308</td>\n",
       "      <td>6.412975</td>\n",
       "    </tr>\n",
       "    <tr>\n",
       "      <th>7</th>\n",
       "      <td>Eleição</td>\n",
       "      <td>5</td>\n",
       "      <td>34.985063</td>\n",
       "      <td>6.997013</td>\n",
       "    </tr>\n",
       "    <tr>\n",
       "      <th>8</th>\n",
       "      <td>0</td>\n",
       "      <td>4</td>\n",
       "      <td>27.854165</td>\n",
       "      <td>6.963541</td>\n",
       "    </tr>\n",
       "  </tbody>\n",
       "</table>\n",
       "</div>"
      ],
      "text/plain": [
       "      transaction_pgi  quantidade_contribuicoes  quantia_total  \\\n",
       "0  Primária (Interna)                     15723   98751.561515   \n",
       "1        Desconhecido                      9313   56853.624557   \n",
       "2               Geral                      7963   48710.107761   \n",
       "3           Convenção                       133     836.565705   \n",
       "4              Outras                       100     681.808193   \n",
       "5       Segundo Turno                        69     452.077913   \n",
       "6            Especial                        68     436.082308   \n",
       "7             Eleição                         5      34.985063   \n",
       "8                   0                         4      27.854165   \n",
       "\n",
       "   razao_contribuicao  \n",
       "0            6.280707  \n",
       "1            6.104759  \n",
       "2            6.117055  \n",
       "3            6.289968  \n",
       "4            6.818082  \n",
       "5            6.551854  \n",
       "6            6.412975  \n",
       "7            6.997013  \n",
       "8            6.963541  "
      ]
     },
     "execution_count": 27,
     "metadata": {},
     "output_type": "execute_result"
    }
   ],
   "source": [
    "# Data enconding for vis\n",
    "quantidade_contribuicoes = df['transaction_pgi'].value_counts().reset_index()\n",
    "quantidade_contribuicoes.columns = ['transaction_pgi', 'quantidade_contribuicoes']\n",
    "\n",
    "quantia_total = df.groupby('transaction_pgi')['transaction_amt'].sum().reset_index()\n",
    "quantia_total.columns = ['transaction_pgi', 'quantia_total']\n",
    "\n",
    "vis1 = pd.merge(quantidade_contribuicoes, quantia_total, on='transaction_pgi')\n",
    "mapeamento = {\n",
    "    'P': 'Primária (Interna)',\n",
    "    'G': 'Geral',\n",
    "    'S': 'Especial',\n",
    "    'E': 'Eleição',\n",
    "    'C': 'Convenção',\n",
    "    'O': 'Outras',\n",
    "    'R': 'Segundo Turno',\n",
    "    'Desconhecido': 'Desconhecido',\n",
    "    '0': '0'\n",
    "}\n",
    "\n",
    "vis1['transaction_pgi'] = vis1['transaction_pgi'].map(mapeamento)\n",
    "\n",
    "vis1 = vis1.sort_values(by='quantidade_contribuicoes', ascending=False)\n",
    "vis1['razao_contribuicao'] = vis1['quantia_total']/vis1['quantidade_contribuicoes']\n",
    "\n",
    "vis1"
   ]
  },
  {
   "cell_type": "code",
   "execution_count": 28,
   "metadata": {
    "colab": {
     "base_uri": "https://localhost:8080/",
     "height": 460
    },
    "id": "kA2ceiBHD84X",
    "outputId": "ad6a5204-6b48-4b43-dc78-1bd76d1cd772"
   },
   "outputs": [
    {
     "data": {
      "text/html": [
       "\n",
       "<style>\n",
       "  #altair-viz-0a4bd11e49b64da4af3cc52101eda493.vega-embed {\n",
       "    width: 100%;\n",
       "    display: flex;\n",
       "  }\n",
       "\n",
       "  #altair-viz-0a4bd11e49b64da4af3cc52101eda493.vega-embed details,\n",
       "  #altair-viz-0a4bd11e49b64da4af3cc52101eda493.vega-embed details summary {\n",
       "    position: relative;\n",
       "  }\n",
       "</style>\n",
       "<div id=\"altair-viz-0a4bd11e49b64da4af3cc52101eda493\"></div>\n",
       "<script type=\"text/javascript\">\n",
       "  var VEGA_DEBUG = (typeof VEGA_DEBUG == \"undefined\") ? {} : VEGA_DEBUG;\n",
       "  (function(spec, embedOpt){\n",
       "    let outputDiv = document.currentScript.previousElementSibling;\n",
       "    if (outputDiv.id !== \"altair-viz-0a4bd11e49b64da4af3cc52101eda493\") {\n",
       "      outputDiv = document.getElementById(\"altair-viz-0a4bd11e49b64da4af3cc52101eda493\");\n",
       "    }\n",
       "    const paths = {\n",
       "      \"vega\": \"https://cdn.jsdelivr.net/npm/vega@5?noext\",\n",
       "      \"vega-lib\": \"https://cdn.jsdelivr.net/npm/vega-lib?noext\",\n",
       "      \"vega-lite\": \"https://cdn.jsdelivr.net/npm/vega-lite@5.20.1?noext\",\n",
       "      \"vega-embed\": \"https://cdn.jsdelivr.net/npm/vega-embed@6?noext\",\n",
       "    };\n",
       "\n",
       "    function maybeLoadScript(lib, version) {\n",
       "      var key = `${lib.replace(\"-\", \"\")}_version`;\n",
       "      return (VEGA_DEBUG[key] == version) ?\n",
       "        Promise.resolve(paths[lib]) :\n",
       "        new Promise(function(resolve, reject) {\n",
       "          var s = document.createElement('script');\n",
       "          document.getElementsByTagName(\"head\")[0].appendChild(s);\n",
       "          s.async = true;\n",
       "          s.onload = () => {\n",
       "            VEGA_DEBUG[key] = version;\n",
       "            return resolve(paths[lib]);\n",
       "          };\n",
       "          s.onerror = () => reject(`Error loading script: ${paths[lib]}`);\n",
       "          s.src = paths[lib];\n",
       "        });\n",
       "    }\n",
       "\n",
       "    function showError(err) {\n",
       "      outputDiv.innerHTML = `<div class=\"error\" style=\"color:red;\">${err}</div>`;\n",
       "      throw err;\n",
       "    }\n",
       "\n",
       "    function displayChart(vegaEmbed) {\n",
       "      vegaEmbed(outputDiv, spec, embedOpt)\n",
       "        .catch(err => showError(`Javascript Error: ${err.message}<br>This usually means there's a typo in your chart specification. See the javascript console for the full traceback.`));\n",
       "    }\n",
       "\n",
       "    if(typeof define === \"function\" && define.amd) {\n",
       "      requirejs.config({paths});\n",
       "      require([\"vega-embed\"], displayChart, err => showError(`Error loading script: ${err.message}`));\n",
       "    } else {\n",
       "      maybeLoadScript(\"vega\", \"5\")\n",
       "        .then(() => maybeLoadScript(\"vega-lite\", \"5.20.1\"))\n",
       "        .then(() => maybeLoadScript(\"vega-embed\", \"6\"))\n",
       "        .catch(showError)\n",
       "        .then(() => displayChart(vegaEmbed));\n",
       "    }\n",
       "  })({\"$schema\": \"https://vega.github.io/schema/vega/v5.json\", \"data\": [{\"name\": \"param_3_store\"}, {\"name\": \"source_0\"}, {\"name\": \"data_1\", \"values\": [{\"quantia_total\": 98751.56151462845, \"quantia_total_end\": 98751.56151462845, \"quantia_total_start\": 0.0, \"razao_contribuicao\": 6.280707340496626, \"transaction_pgi\": \"Prim\\u00e1ria (Interna)\"}, {\"quantia_total\": 56853.62455686499, \"quantia_total_end\": 56853.62455686499, \"quantia_total_start\": 0.0, \"razao_contribuicao\": 6.104759428418876, \"transaction_pgi\": \"Desconhecido\"}, {\"quantia_total\": 48710.10776051071, \"quantia_total_end\": 48710.10776051071, \"quantia_total_start\": 0.0, \"razao_contribuicao\": 6.117054848739258, \"transaction_pgi\": \"Geral\"}, {\"quantia_total\": 836.5657052910531, \"quantia_total_end\": 836.5657052910531, \"quantia_total_start\": 0.0, \"razao_contribuicao\": 6.289967708955286, \"transaction_pgi\": \"Conven\\u00e7\\u00e3o\"}, {\"quantia_total\": 681.8081932642127, \"quantia_total_end\": 681.8081932642127, \"quantia_total_start\": 0.0, \"razao_contribuicao\": 6.818081932642127, \"transaction_pgi\": \"Outras\"}, {\"quantia_total\": 452.07791282420084, \"quantia_total_end\": 452.07791282420084, \"quantia_total_start\": 0.0, \"razao_contribuicao\": 6.551853809046389, \"transaction_pgi\": \"Segundo Turno\"}, {\"quantia_total\": 436.08230840383254, \"quantia_total_end\": 436.08230840383254, \"quantia_total_start\": 0.0, \"razao_contribuicao\": 6.412975123585773, \"transaction_pgi\": \"Especial\"}, {\"quantia_total\": 34.9850634975391, \"quantia_total_end\": 34.9850634975391, \"quantia_total_start\": 0.0, \"razao_contribuicao\": 6.99701269950782, \"transaction_pgi\": \"Elei\\u00e7\\u00e3o\"}, {\"quantia_total\": 27.854164667242756, \"quantia_total_end\": 27.854164667242756, \"quantia_total_start\": 0.0, \"razao_contribuicao\": 6.963541166810689, \"transaction_pgi\": \"0\"}]}, {\"name\": \"data_2\", \"values\": [{\"quantia_total\": 98751.56151462845, \"razao_contribuicao\": 6.280707340496626, \"transaction_pgi\": \"Prim\\u00e1ria (Interna)\"}, {\"quantia_total\": 56853.62455686499, \"razao_contribuicao\": 6.104759428418876, \"transaction_pgi\": \"Desconhecido\"}, {\"quantia_total\": 48710.10776051071, \"razao_contribuicao\": 6.117054848739258, \"transaction_pgi\": \"Geral\"}, {\"quantia_total\": 836.5657052910531, \"razao_contribuicao\": 6.289967708955286, \"transaction_pgi\": \"Conven\\u00e7\\u00e3o\"}, {\"quantia_total\": 681.8081932642127, \"razao_contribuicao\": 6.818081932642127, \"transaction_pgi\": \"Outras\"}, {\"quantia_total\": 452.07791282420084, \"razao_contribuicao\": 6.551853809046389, \"transaction_pgi\": \"Segundo Turno\"}, {\"quantia_total\": 436.08230840383254, \"razao_contribuicao\": 6.412975123585773, \"transaction_pgi\": \"Especial\"}, {\"quantia_total\": 34.9850634975391, \"razao_contribuicao\": 6.99701269950782, \"transaction_pgi\": \"Elei\\u00e7\\u00e3o\"}, {\"quantia_total\": 27.854164667242756, \"razao_contribuicao\": 6.963541166810689, \"transaction_pgi\": \"0\"}]}, {\"name\": \"source_0_x_domain_transaction_pgi\", \"values\": [{\"sort_field\": 98751.56151462845, \"transaction_pgi\": \"Prim\\u00e1ria (Interna)\"}, {\"sort_field\": 56853.62455686499, \"transaction_pgi\": \"Desconhecido\"}, {\"sort_field\": 48710.10776051071, \"transaction_pgi\": \"Geral\"}, {\"sort_field\": 836.5657052910531, \"transaction_pgi\": \"Conven\\u00e7\\u00e3o\"}, {\"sort_field\": 681.8081932642127, \"transaction_pgi\": \"Outras\"}, {\"sort_field\": 452.07791282420084, \"transaction_pgi\": \"Segundo Turno\"}, {\"sort_field\": 436.08230840383254, \"transaction_pgi\": \"Especial\"}, {\"sort_field\": 34.9850634975391, \"transaction_pgi\": \"Elei\\u00e7\\u00e3o\"}, {\"sort_field\": 27.854164667242756, \"transaction_pgi\": \"0\"}]}], \"signals\": [{\"name\": \"unit\", \"value\": {}, \"on\": [{\"events\": \"pointermove\", \"update\": \"isTuple(group()) ? group() : unit\"}]}, {\"name\": \"param_3\", \"update\": \"vlSelectionResolve(\\\"param_3_store\\\", \\\"union\\\", true, true)\"}, {\"name\": \"param_3_tuple\", \"on\": [{\"events\": [{\"source\": \"scope\", \"type\": \"mouseover\"}], \"update\": \"datum && item().mark.marktype !== 'group' && indexof(item().mark.role, 'legend') < 0 ? {unit: \\\"view_3\\\", fields: param_3_tuple_fields, values: [(item().isVoronoi ? datum.datum : datum)[\\\"transaction_pgi\\\"]]} : null\", \"force\": true}, {\"events\": [{\"source\": \"view\", \"type\": \"dblclick\"}], \"update\": \"null\"}]}, {\"name\": \"param_3_tuple_fields\", \"value\": [{\"type\": \"E\", \"field\": \"transaction_pgi\"}]}, {\"name\": \"param_3_toggle\", \"value\": false, \"on\": [{\"events\": [{\"source\": \"scope\", \"type\": \"mouseover\"}], \"update\": \"event.shiftKey\"}, {\"events\": [{\"source\": \"view\", \"type\": \"dblclick\"}], \"update\": \"false\"}]}, {\"name\": \"param_3_modify\", \"on\": [{\"events\": {\"signal\": \"param_3_tuple\"}, \"update\": \"modify(\\\"param_3_store\\\", param_3_toggle ? null : param_3_tuple, param_3_toggle ? null : true, param_3_toggle ? param_3_tuple : null)\"}]}], \"marks\": [{\"type\": \"rect\", \"name\": \"view_3_marks\", \"from\": {\"data\": \"data_1\"}, \"encode\": {\"update\": {\"y2\": {\"field\": \"quantia_total_start\", \"scale\": \"y\"}, \"y\": {\"field\": \"quantia_total_end\", \"scale\": \"y\"}, \"x\": {\"field\": \"transaction_pgi\", \"scale\": \"x\"}, \"fill\": [{\"field\": \"transaction_pgi\", \"scale\": \"color\", \"test\": \"length(data(\\\"param_3_store\\\")) && vlSelectionTest(\\\"param_3_store\\\", datum)\"}, {\"value\": \"lightgray\"}], \"tooltip\": {\"signal\": \"{\\\"Etapa do Ciclo\\\": isValid(datum[\\\"transaction_pgi\\\"]) ? datum[\\\"transaction_pgi\\\"] : \\\"\\\"+datum[\\\"transaction_pgi\\\"], \\\"Quantia total de contribui\\u00e7\\u00e3o\\\": format(datum[\\\"quantia_total\\\"], \\\"\\\"), \\\"Propor\\u00e7\\u00e3o Quantia/Contribuintes\\\": format(datum[\\\"razao_contribuicao\\\"], \\\"\\\")}\"}, \"width\": {\"signal\": \"max(0.25, bandwidth('x'))\"}}}, \"style\": [\"bar\"], \"interactive\": true}, {\"type\": \"text\", \"name\": \"layer_1_marks\", \"from\": {\"data\": \"data_2\"}, \"encode\": {\"update\": {\"dy\": {\"value\": -10}, \"baseline\": {\"value\": \"middle\"}, \"text\": {\"signal\": \"format(datum[\\\"razao_contribuicao\\\"], \\\".2f\\\")\"}, \"y\": {\"field\": \"quantia_total\", \"scale\": \"y\"}, \"align\": {\"value\": \"center\"}, \"x\": {\"field\": \"transaction_pgi\", \"scale\": \"x\", \"band\": 0.5}, \"fill\": {\"value\": \"black\"}}}, \"style\": [\"text\"], \"interactive\": false}], \"scales\": [{\"name\": \"x\", \"type\": \"band\", \"domain\": {\"data\": \"source_0_x_domain_transaction_pgi\", \"field\": \"transaction_pgi\", \"sort\": {\"op\": \"max\", \"field\": \"sort_field\", \"order\": \"descending\"}}, \"range\": [0, {\"signal\": \"width\"}], \"paddingOuter\": 0.05, \"paddingInner\": 0.1}, {\"name\": \"y\", \"type\": \"linear\", \"domain\": {\"fields\": [{\"data\": \"data_1\", \"field\": \"quantia_total_start\"}, {\"data\": \"data_1\", \"field\": \"quantia_total_end\"}, {\"data\": \"data_2\", \"field\": \"quantia_total\"}]}, \"range\": [{\"signal\": \"height\"}, 0], \"zero\": true, \"nice\": true}, {\"name\": \"color\", \"type\": \"ordinal\", \"domain\": [\"Prim\\u00e1ria (Interna)\", \"Desconhecido\", \"Geral\", \"Conven\\u00e7\\u00e3o\", \"Outras\", \"Segundo Turno\", \"Especial\", \"Elei\\u00e7\\u00e3o\", \"0\"], \"range\": [\"#0b132b\", \"#1b2740\", \"#2a3c56\", \"#354964\", \"#3a506b\", \"#3a506b\", \"#57b1b1\", \"#63d8cd\", \" #6fffe9\"]}], \"axes\": [{\"scale\": \"x\", \"title\": \"Etapa do Ciclo Eleitoral\", \"labelBaseline\": \"middle\", \"labelAngle\": 270, \"grid\": false, \"labelAlign\": \"right\", \"orient\": \"bottom\", \"zindex\": 0}, {\"scale\": \"y\", \"grid\": false, \"orient\": \"left\", \"zindex\": 0, \"labelOverlap\": true, \"tickCount\": {\"signal\": \"ceil(height/40)\"}, \"title\": \"Quantia Total de Contribui\\u00e7\\u00f5es (em USD)\"}], \"title\": {\"text\": \"Quantia Total de Contribui\\u00e7\\u00f5es por Etapa do Ciclo Eleitoral\", \"frame\": \"group\"}, \"height\": 300, \"legends\": [{\"title\": \"Etapa\", \"fill\": \"color\", \"symbolType\": \"square\"}], \"config\": {\"axis\": {\"grid\": false}, \"style\": {\"cell\": {\"fill\": \"white\"}}}, \"width\": 600, \"background\": \"rgba(0, 0, 0, 0)\", \"padding\": 5, \"style\": \"cell\"}, {\"mode\": \"vega\"});\n",
       "</script>"
      ],
      "text/plain": [
       "alt.LayerChart(...)"
      ]
     },
     "metadata": {},
     "output_type": "display_data"
    }
   ],
   "source": [
    "\n",
    "# Criação da seleção interativa para o highlight ao passar o mouse\n",
    "highlight = alt.selection_point(on='mouseover', fields=['transaction_pgi'], empty='none')\n",
    "\n",
    "# Escala de cor personalizada\n",
    "color_scale = alt.Scale(\n",
    "    domain=vis1['transaction_pgi'].unique(),\n",
    "    range=colorscale\n",
    ")\n",
    "\n",
    "# Gráfico de barras com highlight ao passar o mouse\n",
    "bar = alt.Chart(vis1).mark_bar().encode(\n",
    "    x=alt.X('transaction_pgi', title='Etapa do Ciclo Eleitoral', sort='-y'),\n",
    "    y=alt.Y('quantia_total:Q', title='Quantia Total de Contribuições (em USD)'),\n",
    "    color=alt.condition(\n",
    "        highlight,\n",
    "        alt.Color('transaction_pgi:N', scale=color_scale, title='Etapa'),\n",
    "        alt.value('lightgray')  # Cor padrão para barras não destacadas\n",
    "    ),\n",
    "    tooltip=[\n",
    "        alt.Tooltip('transaction_pgi:N', title='Etapa do Ciclo'),\n",
    "        alt.Tooltip('quantia_total:Q', title='Quantia total de contribuição'),\n",
    "        alt.Tooltip('razao_contribuicao:Q', title='Proporção Quantia/Contribuintes')\n",
    "    ]\n",
    "\n",
    ").add_params(\n",
    "    highlight\n",
    ").properties(\n",
    "    width=600,\n",
    "    height=300,\n",
    "    title='Quantia Total de Contribuições por Etapa do Ciclo Eleitoral'\n",
    ")\n",
    "\n",
    "# Texto com valor, sem alterações\n",
    "text = alt.Chart(vis1).mark_text(\n",
    "    align='center',\n",
    "    baseline='middle',\n",
    "    dy=-10,\n",
    "    color='black'\n",
    ").encode(\n",
    "    x=alt.X('transaction_pgi:N', title='Etapa do Ciclo Eleitoral', sort='-y'),\n",
    "    y=alt.Y('quantia_total:Q'),\n",
    "    text=alt.Text('razao_contribuicao:Q', format='.2f')\n",
    ")\n",
    "\n",
    "# Combinação do gráfico de barras e texto com configuração de estilo\n",
    "vis = (bar + text).configure_title(\n",
    "    fontSize=18,\n",
    ").configure_axis(\n",
    "    labelFontSize=12,\n",
    "    titleFontSize=14,\n",
    ").configure_legend(\n",
    "    labelFontSize=12,\n",
    "    titleFontSize=14,\n",
    ").configure(\n",
    "    background=\"rgba(0, 0, 0, 0)\"\n",
    ").configure_view(\n",
    "    fill='white'\n",
    ").configure_axis(\n",
    "    grid=False,\n",
    ")\n",
    "\n",
    "vis.display()\n"
   ]
  },
  {
   "cell_type": "code",
   "execution_count": null,
   "metadata": {
    "id": "37BKc8RfPvCJ"
   },
   "outputs": [],
   "source": [
    "vis.save('vis1.html')"
   ]
  },
  {
   "cell_type": "code",
   "execution_count": 29,
   "metadata": {
    "colab": {
     "base_uri": "https://localhost:8080/",
     "height": 444
    },
    "id": "aCPzL-Tnc_rM",
    "outputId": "db12dfdc-0688-475f-e85a-86df984d16b0"
   },
   "outputs": [
    {
     "data": {
      "text/html": [
       "\n",
       "<style>\n",
       "  #altair-viz-06e2f675b754457d9599f809869b6a5d.vega-embed {\n",
       "    width: 100%;\n",
       "    display: flex;\n",
       "  }\n",
       "\n",
       "  #altair-viz-06e2f675b754457d9599f809869b6a5d.vega-embed details,\n",
       "  #altair-viz-06e2f675b754457d9599f809869b6a5d.vega-embed details summary {\n",
       "    position: relative;\n",
       "  }\n",
       "</style>\n",
       "<div id=\"altair-viz-06e2f675b754457d9599f809869b6a5d\"></div>\n",
       "<script type=\"text/javascript\">\n",
       "  var VEGA_DEBUG = (typeof VEGA_DEBUG == \"undefined\") ? {} : VEGA_DEBUG;\n",
       "  (function(spec, embedOpt){\n",
       "    let outputDiv = document.currentScript.previousElementSibling;\n",
       "    if (outputDiv.id !== \"altair-viz-06e2f675b754457d9599f809869b6a5d\") {\n",
       "      outputDiv = document.getElementById(\"altair-viz-06e2f675b754457d9599f809869b6a5d\");\n",
       "    }\n",
       "    const paths = {\n",
       "      \"vega\": \"https://cdn.jsdelivr.net/npm/vega@5?noext\",\n",
       "      \"vega-lib\": \"https://cdn.jsdelivr.net/npm/vega-lib?noext\",\n",
       "      \"vega-lite\": \"https://cdn.jsdelivr.net/npm/vega-lite@5.20.1?noext\",\n",
       "      \"vega-embed\": \"https://cdn.jsdelivr.net/npm/vega-embed@6?noext\",\n",
       "    };\n",
       "\n",
       "    function maybeLoadScript(lib, version) {\n",
       "      var key = `${lib.replace(\"-\", \"\")}_version`;\n",
       "      return (VEGA_DEBUG[key] == version) ?\n",
       "        Promise.resolve(paths[lib]) :\n",
       "        new Promise(function(resolve, reject) {\n",
       "          var s = document.createElement('script');\n",
       "          document.getElementsByTagName(\"head\")[0].appendChild(s);\n",
       "          s.async = true;\n",
       "          s.onload = () => {\n",
       "            VEGA_DEBUG[key] = version;\n",
       "            return resolve(paths[lib]);\n",
       "          };\n",
       "          s.onerror = () => reject(`Error loading script: ${paths[lib]}`);\n",
       "          s.src = paths[lib];\n",
       "        });\n",
       "    }\n",
       "\n",
       "    function showError(err) {\n",
       "      outputDiv.innerHTML = `<div class=\"error\" style=\"color:red;\">${err}</div>`;\n",
       "      throw err;\n",
       "    }\n",
       "\n",
       "    function displayChart(vegaEmbed) {\n",
       "      vegaEmbed(outputDiv, spec, embedOpt)\n",
       "        .catch(err => showError(`Javascript Error: ${err.message}<br>This usually means there's a typo in your chart specification. See the javascript console for the full traceback.`));\n",
       "    }\n",
       "\n",
       "    if(typeof define === \"function\" && define.amd) {\n",
       "      requirejs.config({paths});\n",
       "      require([\"vega-embed\"], displayChart, err => showError(`Error loading script: ${err.message}`));\n",
       "    } else {\n",
       "      maybeLoadScript(\"vega\", \"5\")\n",
       "        .then(() => maybeLoadScript(\"vega-lite\", \"5.20.1\"))\n",
       "        .then(() => maybeLoadScript(\"vega-embed\", \"6\"))\n",
       "        .catch(showError)\n",
       "        .then(() => displayChart(vegaEmbed));\n",
       "    }\n",
       "  })({\"$schema\": \"https://vega.github.io/schema/vega/v5.json\", \"data\": [{\"name\": \"source_0\"}, {\"name\": \"data_1\", \"values\": [{\"quantia_total\": 836.5657052910531, \"quantia_total_end\": 836.5657052910531, \"quantia_total_start\": 0.0, \"razao_contribuicao\": 6.289967708955286, \"transaction_pgi\": \"Conven\\u00e7\\u00e3o\"}, {\"quantia_total\": 681.8081932642127, \"quantia_total_end\": 681.8081932642127, \"quantia_total_start\": 0.0, \"razao_contribuicao\": 6.818081932642127, \"transaction_pgi\": \"Outras\"}, {\"quantia_total\": 452.07791282420084, \"quantia_total_end\": 452.07791282420084, \"quantia_total_start\": 0.0, \"razao_contribuicao\": 6.551853809046389, \"transaction_pgi\": \"Segundo Turno\"}, {\"quantia_total\": 436.08230840383254, \"quantia_total_end\": 436.08230840383254, \"quantia_total_start\": 0.0, \"razao_contribuicao\": 6.412975123585773, \"transaction_pgi\": \"Especial\"}, {\"quantia_total\": 34.9850634975391, \"quantia_total_end\": 34.9850634975391, \"quantia_total_start\": 0.0, \"razao_contribuicao\": 6.99701269950782, \"transaction_pgi\": \"Elei\\u00e7\\u00e3o\"}, {\"quantia_total\": 27.854164667242756, \"quantia_total_end\": 27.854164667242756, \"quantia_total_start\": 0.0, \"razao_contribuicao\": 6.963541166810689, \"transaction_pgi\": \"0\"}]}, {\"name\": \"data_2\", \"values\": [{\"quantia_total\": 836.5657052910531, \"razao_contribuicao\": 6.289967708955286, \"transaction_pgi\": \"Conven\\u00e7\\u00e3o\"}, {\"quantia_total\": 681.8081932642127, \"razao_contribuicao\": 6.818081932642127, \"transaction_pgi\": \"Outras\"}, {\"quantia_total\": 452.07791282420084, \"razao_contribuicao\": 6.551853809046389, \"transaction_pgi\": \"Segundo Turno\"}, {\"quantia_total\": 436.08230840383254, \"razao_contribuicao\": 6.412975123585773, \"transaction_pgi\": \"Especial\"}, {\"quantia_total\": 34.9850634975391, \"razao_contribuicao\": 6.99701269950782, \"transaction_pgi\": \"Elei\\u00e7\\u00e3o\"}, {\"quantia_total\": 27.854164667242756, \"razao_contribuicao\": 6.963541166810689, \"transaction_pgi\": \"0\"}]}, {\"name\": \"source_0_x_domain_transaction_pgi\", \"values\": [{\"sort_field\": 836.5657052910531, \"transaction_pgi\": \"Conven\\u00e7\\u00e3o\"}, {\"sort_field\": 681.8081932642127, \"transaction_pgi\": \"Outras\"}, {\"sort_field\": 452.07791282420084, \"transaction_pgi\": \"Segundo Turno\"}, {\"sort_field\": 436.08230840383254, \"transaction_pgi\": \"Especial\"}, {\"sort_field\": 34.9850634975391, \"transaction_pgi\": \"Elei\\u00e7\\u00e3o\"}, {\"sort_field\": 27.854164667242756, \"transaction_pgi\": \"0\"}]}], \"marks\": [{\"type\": \"rect\", \"name\": \"layer_0_marks\", \"from\": {\"data\": \"data_1\"}, \"encode\": {\"update\": {\"width\": {\"signal\": \"max(0.25, bandwidth('x'))\"}, \"y2\": {\"field\": \"quantia_total_start\", \"scale\": \"y\"}, \"fill\": {\"field\": \"transaction_pgi\", \"scale\": \"color\"}, \"x\": {\"field\": \"transaction_pgi\", \"scale\": \"x\"}, \"y\": {\"field\": \"quantia_total_end\", \"scale\": \"y\"}, \"tooltip\": {\"signal\": \"{\\\"Etapa do Ciclo\\\": isValid(datum[\\\"transaction_pgi\\\"]) ? datum[\\\"transaction_pgi\\\"] : \\\"\\\"+datum[\\\"transaction_pgi\\\"], \\\"Quantia total de contribui\\u00e7\\u00e3o\\\": format(datum[\\\"quantia_total\\\"], \\\"\\\"), \\\"Propor\\u00e7\\u00e3o Quantia/Contribuintes\\\": format(datum[\\\"razao_contribuicao\\\"], \\\"\\\")}\"}}}, \"style\": [\"bar\"]}, {\"type\": \"text\", \"name\": \"layer_1_marks\", \"from\": {\"data\": \"data_2\"}, \"encode\": {\"update\": {\"baseline\": {\"value\": \"middle\"}, \"dy\": {\"value\": -10}, \"text\": {\"signal\": \"format(datum[\\\"razao_contribuicao\\\"], \\\".2f\\\")\"}, \"y\": {\"field\": \"quantia_total\", \"scale\": \"y\"}, \"x\": {\"field\": \"transaction_pgi\", \"scale\": \"x\", \"band\": 0.5}, \"align\": {\"value\": \"center\"}, \"fill\": {\"value\": \"black\"}}}, \"style\": [\"text\"]}], \"scales\": [{\"name\": \"x\", \"type\": \"band\", \"domain\": {\"data\": \"source_0_x_domain_transaction_pgi\", \"field\": \"transaction_pgi\", \"sort\": {\"op\": \"max\", \"field\": \"sort_field\", \"order\": \"descending\"}}, \"range\": [0, {\"signal\": \"width\"}], \"paddingOuter\": 0.05, \"paddingInner\": 0.1}, {\"name\": \"y\", \"type\": \"linear\", \"domain\": {\"fields\": [{\"data\": \"data_1\", \"field\": \"quantia_total_start\"}, {\"data\": \"data_1\", \"field\": \"quantia_total_end\"}, {\"data\": \"data_2\", \"field\": \"quantia_total\"}]}, \"range\": [{\"signal\": \"height\"}, 0], \"zero\": true, \"nice\": true}, {\"name\": \"color\", \"type\": \"ordinal\", \"domain\": [\"Conven\\u00e7\\u00e3o\", \"Outras\", \"Segundo Turno\", \"Especial\", \"Elei\\u00e7\\u00e3o\", \"0\"], \"range\": [\"#354964\", \"#3a506b\", \"#3a506b\", \"#57b1b1\", \"#63d8cd\", \" #6fffe9\"]}], \"axes\": [{\"scale\": \"x\", \"labelAngle\": 270, \"grid\": false, \"orient\": \"bottom\", \"labelAlign\": \"right\", \"title\": \"Etapa do Ciclo Eleitoral\", \"labelBaseline\": \"middle\", \"zindex\": 0}, {\"scale\": \"y\", \"grid\": false, \"labelOverlap\": true, \"zindex\": 0, \"title\": \"Quantia Total de Contribui\\u00e7\\u00f5es (em USD)\", \"orient\": \"left\", \"tickCount\": {\"signal\": \"ceil(height/40)\"}}], \"title\": {\"text\": \"Quantia Total de Contribui\\u00e7\\u00f5es por Etapa do Ciclo Eleitoral (sem classes majorit\\u00e1rias)\", \"frame\": \"group\"}, \"legends\": [{\"title\": \"Etapa\", \"fill\": \"color\", \"symbolType\": \"square\"}], \"config\": {\"axis\": {\"grid\": false}, \"style\": {\"cell\": {\"fill\": \"white\"}}}, \"background\": \"rgba(0, 0, 0, 0)\", \"height\": 300, \"padding\": 5, \"width\": 600, \"style\": \"cell\"}, {\"mode\": \"vega\"});\n",
       "</script>"
      ],
      "text/plain": [
       "alt.LayerChart(...)"
      ]
     },
     "metadata": {},
     "output_type": "display_data"
    }
   ],
   "source": [
    "#@title 3.2\n",
    "color_scale = alt.Scale(\n",
    "    domain=vis1['transaction_pgi'].unique()[3:],\n",
    "    range=colorscale[3:]\n",
    ")\n",
    "\n",
    "bar = alt.Chart(vis1).transform_filter(\n",
    "    alt.FieldOneOfPredicate(field='transaction_pgi', oneOf=['Outras', 'Convenção', 'Especial', 'Segundo Turno', 'Eleição', '0'])\n",
    ").mark_bar().encode(\n",
    "    x=alt.X('transaction_pgi', title='Etapa do Ciclo Eleitoral', sort='-y'),\n",
    "    y=alt.Y('quantia_total:Q', title='Quantia Total de Contribuições (em USD)'),\n",
    "    tooltip=[\n",
    "        alt.Tooltip('transaction_pgi:N', title='Etapa do Ciclo'),\n",
    "        alt.Tooltip('quantia_total:Q', title='Quantia total de contribuição'),\n",
    "        alt.Tooltip('razao_contribuicao:Q', title='Proporção Quantia/Contribuintes')],\n",
    "    color=alt.Color('transaction_pgi:N', scale=color_scale, title='Etapa'),\n",
    ").properties(\n",
    "    width=600,\n",
    "    height=300,\n",
    "    title='Quantia Total de Contribuições por Etapa do Ciclo Eleitoral (sem classes majoritárias)'\n",
    ")\n",
    "\n",
    "text = alt.Chart(vis1).transform_filter(\n",
    "    alt.FieldOneOfPredicate(field='transaction_pgi', oneOf=['Outras', 'Convenção', 'Especial', 'Segundo Turno', 'Eleição', '0'])\n",
    ").mark_text(\n",
    "    align='center',\n",
    "    baseline='middle',\n",
    "    dy=-10,\n",
    "    color='black'\n",
    ").encode(\n",
    "    x=alt.X('transaction_pgi:N', title='Etapa do Ciclo Eleitoral', sort='-y'),\n",
    "    y=alt.Y('quantia_total:Q'),\n",
    "    text=alt.Text('razao_contribuicao:Q', format='.2f')\n",
    ")\n",
    "\n",
    "vis = (bar + text).configure_title(\n",
    "    fontSize=18\n",
    ").configure_axis(\n",
    "    labelFontSize=12,\n",
    "    titleFontSize=14\n",
    ").configure_legend(\n",
    "    labelFontSize=12,\n",
    "    titleFontSize=14\n",
    ").configure(\n",
    "    background=\"rgba(0, 0, 0, 0)\"\n",
    ").configure_view(\n",
    "    fill='white'\n",
    ").configure_axis(\n",
    "    grid=False\n",
    ")\n",
    "vis.display()"
   ]
  },
  {
   "cell_type": "code",
   "execution_count": null,
   "metadata": {
    "id": "R4zTqwEiPzT6"
   },
   "outputs": [],
   "source": [
    "vis.save('vis2.html')"
   ]
  },
  {
   "cell_type": "code",
   "execution_count": 30,
   "metadata": {
    "colab": {
     "base_uri": "https://localhost:8080/",
     "height": 444
    },
    "id": "pjRV2wnm_zUW",
    "outputId": "2b4b20f1-3e60-4d76-9f8d-f4503b39d0ec"
   },
   "outputs": [
    {
     "data": {
      "text/html": [
       "\n",
       "<style>\n",
       "  #altair-viz-c0f03b982bec4e408f8fdc837a901b44.vega-embed {\n",
       "    width: 100%;\n",
       "    display: flex;\n",
       "  }\n",
       "\n",
       "  #altair-viz-c0f03b982bec4e408f8fdc837a901b44.vega-embed details,\n",
       "  #altair-viz-c0f03b982bec4e408f8fdc837a901b44.vega-embed details summary {\n",
       "    position: relative;\n",
       "  }\n",
       "</style>\n",
       "<div id=\"altair-viz-c0f03b982bec4e408f8fdc837a901b44\"></div>\n",
       "<script type=\"text/javascript\">\n",
       "  var VEGA_DEBUG = (typeof VEGA_DEBUG == \"undefined\") ? {} : VEGA_DEBUG;\n",
       "  (function(spec, embedOpt){\n",
       "    let outputDiv = document.currentScript.previousElementSibling;\n",
       "    if (outputDiv.id !== \"altair-viz-c0f03b982bec4e408f8fdc837a901b44\") {\n",
       "      outputDiv = document.getElementById(\"altair-viz-c0f03b982bec4e408f8fdc837a901b44\");\n",
       "    }\n",
       "    const paths = {\n",
       "      \"vega\": \"https://cdn.jsdelivr.net/npm/vega@5?noext\",\n",
       "      \"vega-lib\": \"https://cdn.jsdelivr.net/npm/vega-lib?noext\",\n",
       "      \"vega-lite\": \"https://cdn.jsdelivr.net/npm/vega-lite@5.20.1?noext\",\n",
       "      \"vega-embed\": \"https://cdn.jsdelivr.net/npm/vega-embed@6?noext\",\n",
       "    };\n",
       "\n",
       "    function maybeLoadScript(lib, version) {\n",
       "      var key = `${lib.replace(\"-\", \"\")}_version`;\n",
       "      return (VEGA_DEBUG[key] == version) ?\n",
       "        Promise.resolve(paths[lib]) :\n",
       "        new Promise(function(resolve, reject) {\n",
       "          var s = document.createElement('script');\n",
       "          document.getElementsByTagName(\"head\")[0].appendChild(s);\n",
       "          s.async = true;\n",
       "          s.onload = () => {\n",
       "            VEGA_DEBUG[key] = version;\n",
       "            return resolve(paths[lib]);\n",
       "          };\n",
       "          s.onerror = () => reject(`Error loading script: ${paths[lib]}`);\n",
       "          s.src = paths[lib];\n",
       "        });\n",
       "    }\n",
       "\n",
       "    function showError(err) {\n",
       "      outputDiv.innerHTML = `<div class=\"error\" style=\"color:red;\">${err}</div>`;\n",
       "      throw err;\n",
       "    }\n",
       "\n",
       "    function displayChart(vegaEmbed) {\n",
       "      vegaEmbed(outputDiv, spec, embedOpt)\n",
       "        .catch(err => showError(`Javascript Error: ${err.message}<br>This usually means there's a typo in your chart specification. See the javascript console for the full traceback.`));\n",
       "    }\n",
       "\n",
       "    if(typeof define === \"function\" && define.amd) {\n",
       "      requirejs.config({paths});\n",
       "      require([\"vega-embed\"], displayChart, err => showError(`Error loading script: ${err.message}`));\n",
       "    } else {\n",
       "      maybeLoadScript(\"vega\", \"5\")\n",
       "        .then(() => maybeLoadScript(\"vega-lite\", \"5.20.1\"))\n",
       "        .then(() => maybeLoadScript(\"vega-embed\", \"6\"))\n",
       "        .catch(showError)\n",
       "        .then(() => displayChart(vegaEmbed));\n",
       "    }\n",
       "  })({\"$schema\": \"https://vega.github.io/schema/vega/v5.json\", \"data\": [{\"name\": \"param_4_store\"}, {\"name\": \"source_0\"}, {\"name\": \"data_1\", \"values\": [{\"quantia_total\": 836.5657052910531, \"quantia_total_end\": 836.5657052910531, \"quantia_total_start\": 0.0, \"razao_contribuicao\": 6.289967708955286, \"transaction_pgi\": \"Conven\\u00e7\\u00e3o\"}, {\"quantia_total\": 681.8081932642127, \"quantia_total_end\": 681.8081932642127, \"quantia_total_start\": 0.0, \"razao_contribuicao\": 6.818081932642127, \"transaction_pgi\": \"Outras\"}, {\"quantia_total\": 452.07791282420084, \"quantia_total_end\": 452.07791282420084, \"quantia_total_start\": 0.0, \"razao_contribuicao\": 6.551853809046389, \"transaction_pgi\": \"Segundo Turno\"}, {\"quantia_total\": 436.08230840383254, \"quantia_total_end\": 436.08230840383254, \"quantia_total_start\": 0.0, \"razao_contribuicao\": 6.412975123585773, \"transaction_pgi\": \"Especial\"}, {\"quantia_total\": 34.9850634975391, \"quantia_total_end\": 34.9850634975391, \"quantia_total_start\": 0.0, \"razao_contribuicao\": 6.99701269950782, \"transaction_pgi\": \"Elei\\u00e7\\u00e3o\"}, {\"quantia_total\": 27.854164667242756, \"quantia_total_end\": 27.854164667242756, \"quantia_total_start\": 0.0, \"razao_contribuicao\": 6.963541166810689, \"transaction_pgi\": \"0\"}]}, {\"name\": \"data_2\", \"values\": [{\"quantia_total\": 836.5657052910531, \"razao_contribuicao\": 6.289967708955286, \"transaction_pgi\": \"Conven\\u00e7\\u00e3o\"}, {\"quantia_total\": 681.8081932642127, \"razao_contribuicao\": 6.818081932642127, \"transaction_pgi\": \"Outras\"}, {\"quantia_total\": 452.07791282420084, \"razao_contribuicao\": 6.551853809046389, \"transaction_pgi\": \"Segundo Turno\"}, {\"quantia_total\": 436.08230840383254, \"razao_contribuicao\": 6.412975123585773, \"transaction_pgi\": \"Especial\"}, {\"quantia_total\": 34.9850634975391, \"razao_contribuicao\": 6.99701269950782, \"transaction_pgi\": \"Elei\\u00e7\\u00e3o\"}, {\"quantia_total\": 27.854164667242756, \"razao_contribuicao\": 6.963541166810689, \"transaction_pgi\": \"0\"}]}, {\"name\": \"source_0_x_domain_transaction_pgi\", \"values\": [{\"sort_field\": 836.5657052910531, \"transaction_pgi\": \"Conven\\u00e7\\u00e3o\"}, {\"sort_field\": 681.8081932642127, \"transaction_pgi\": \"Outras\"}, {\"sort_field\": 452.07791282420084, \"transaction_pgi\": \"Segundo Turno\"}, {\"sort_field\": 436.08230840383254, \"transaction_pgi\": \"Especial\"}, {\"sort_field\": 34.9850634975391, \"transaction_pgi\": \"Elei\\u00e7\\u00e3o\"}, {\"sort_field\": 27.854164667242756, \"transaction_pgi\": \"0\"}]}], \"signals\": [{\"name\": \"unit\", \"value\": {}, \"on\": [{\"events\": \"pointermove\", \"update\": \"isTuple(group()) ? group() : unit\"}]}, {\"name\": \"param_4\", \"update\": \"vlSelectionResolve(\\\"param_4_store\\\", \\\"union\\\", true, true)\"}, {\"name\": \"param_4_tuple\", \"on\": [{\"events\": [{\"source\": \"scope\", \"type\": \"mouseover\"}], \"update\": \"datum && item().mark.marktype !== 'group' && indexof(item().mark.role, 'legend') < 0 ? {unit: \\\"view_4\\\", fields: param_4_tuple_fields, values: [(item().isVoronoi ? datum.datum : datum)[\\\"transaction_pgi\\\"]]} : null\", \"force\": true}, {\"events\": [{\"source\": \"view\", \"type\": \"dblclick\"}], \"update\": \"null\"}]}, {\"name\": \"param_4_tuple_fields\", \"value\": [{\"type\": \"E\", \"field\": \"transaction_pgi\"}]}, {\"name\": \"param_4_toggle\", \"value\": false, \"on\": [{\"events\": [{\"source\": \"scope\", \"type\": \"mouseover\"}], \"update\": \"event.shiftKey\"}, {\"events\": [{\"source\": \"view\", \"type\": \"dblclick\"}], \"update\": \"false\"}]}, {\"name\": \"param_4_modify\", \"on\": [{\"events\": {\"signal\": \"param_4_tuple\"}, \"update\": \"modify(\\\"param_4_store\\\", param_4_toggle ? null : param_4_tuple, param_4_toggle ? null : true, param_4_toggle ? param_4_tuple : null)\"}]}], \"marks\": [{\"type\": \"rect\", \"name\": \"view_4_marks\", \"from\": {\"data\": \"data_1\"}, \"encode\": {\"update\": {\"fill\": [{\"field\": \"transaction_pgi\", \"scale\": \"color\", \"test\": \"length(data(\\\"param_4_store\\\")) && vlSelectionTest(\\\"param_4_store\\\", datum)\"}, {\"value\": \"lightgray\"}], \"width\": {\"signal\": \"max(0.25, bandwidth('x'))\"}, \"y\": {\"field\": \"quantia_total_end\", \"scale\": \"y\"}, \"tooltip\": {\"signal\": \"{\\\"Etapa do Ciclo\\\": isValid(datum[\\\"transaction_pgi\\\"]) ? datum[\\\"transaction_pgi\\\"] : \\\"\\\"+datum[\\\"transaction_pgi\\\"], \\\"Quantia total de contribui\\u00e7\\u00e3o\\\": format(datum[\\\"quantia_total\\\"], \\\"\\\"), \\\"Propor\\u00e7\\u00e3o Quantia/Contribuintes\\\": format(datum[\\\"razao_contribuicao\\\"], \\\"\\\")}\"}, \"y2\": {\"field\": \"quantia_total_start\", \"scale\": \"y\"}, \"x\": {\"field\": \"transaction_pgi\", \"scale\": \"x\"}}}, \"interactive\": true, \"style\": [\"bar\"]}, {\"type\": \"text\", \"name\": \"layer_1_marks\", \"from\": {\"data\": \"data_2\"}, \"encode\": {\"update\": {\"x\": {\"field\": \"transaction_pgi\", \"scale\": \"x\", \"band\": 0.5}, \"dy\": {\"value\": -10}, \"fill\": {\"value\": \"black\"}, \"align\": {\"value\": \"center\"}, \"baseline\": {\"value\": \"middle\"}, \"y\": {\"field\": \"quantia_total\", \"scale\": \"y\"}, \"text\": {\"signal\": \"format(datum[\\\"razao_contribuicao\\\"], \\\".2f\\\")\"}}}, \"interactive\": false, \"style\": [\"text\"]}], \"scales\": [{\"name\": \"x\", \"type\": \"band\", \"domain\": {\"data\": \"source_0_x_domain_transaction_pgi\", \"field\": \"transaction_pgi\", \"sort\": {\"op\": \"max\", \"field\": \"sort_field\", \"order\": \"descending\"}}, \"range\": [0, {\"signal\": \"width\"}], \"paddingOuter\": 0.05, \"paddingInner\": 0.1}, {\"name\": \"y\", \"type\": \"linear\", \"domain\": {\"fields\": [{\"data\": \"data_1\", \"field\": \"quantia_total_start\"}, {\"data\": \"data_1\", \"field\": \"quantia_total_end\"}, {\"data\": \"data_2\", \"field\": \"quantia_total\"}]}, \"range\": [{\"signal\": \"height\"}, 0], \"nice\": true, \"zero\": true}, {\"name\": \"color\", \"type\": \"ordinal\", \"domain\": [\"Conven\\u00e7\\u00e3o\", \"Outras\", \"Segundo Turno\", \"Especial\", \"Elei\\u00e7\\u00e3o\", \"0\"], \"range\": [\"#354964\", \"#3a506b\", \"#3a506b\", \"#57b1b1\", \"#63d8cd\", \" #6fffe9\"]}], \"axes\": [{\"scale\": \"x\", \"labelAngle\": 270, \"zindex\": 0, \"labelBaseline\": \"middle\", \"orient\": \"bottom\", \"title\": \"Etapa do Ciclo Eleitoral\", \"grid\": false, \"labelAlign\": \"right\"}, {\"scale\": \"y\", \"title\": \"Quantia Total de Contribui\\u00e7\\u00f5es (em USD)\", \"grid\": false, \"tickCount\": {\"signal\": \"ceil(height/40)\"}, \"zindex\": 0, \"orient\": \"left\", \"labelOverlap\": true}], \"title\": {\"text\": \"Quantia Total de Contribui\\u00e7\\u00f5es por Etapa do Ciclo Eleitoral (sem classes majorit\\u00e1rias)\", \"frame\": \"group\"}, \"height\": 300, \"background\": \"rgba(0, 0, 0, 0)\", \"style\": \"cell\", \"width\": 600, \"legends\": [{\"title\": \"Etapa\", \"fill\": \"color\", \"symbolType\": \"square\"}], \"config\": {\"axis\": {\"grid\": false}, \"style\": {\"cell\": {\"fill\": \"white\"}}}, \"padding\": 5}, {\"mode\": \"vega\"});\n",
       "</script>"
      ],
      "text/plain": [
       "alt.LayerChart(...)"
      ]
     },
     "metadata": {},
     "output_type": "display_data"
    }
   ],
   "source": [
    "# Escala de cor personalizada para as categorias selecionadas\n",
    "color_scale = alt.Scale(\n",
    "    domain=vis1['transaction_pgi'].unique()[3:],\n",
    "    range=colorscale[3:]\n",
    ")\n",
    "\n",
    "# Seleção interativa para o destaque ao passar o mouse\n",
    "highlight = alt.selection_point(on='mouseover', fields=['transaction_pgi'], empty='none')\n",
    "\n",
    "# Gráfico de barras com filtro e efeito de highlight ao passar o mouse\n",
    "bar = alt.Chart(vis1).transform_filter(\n",
    "    alt.FieldOneOfPredicate(field='transaction_pgi', oneOf=['Outras', 'Convenção', 'Especial', 'Segundo Turno', 'Eleição', '0'])\n",
    ").mark_bar().encode(\n",
    "    x=alt.X('transaction_pgi', title='Etapa do Ciclo Eleitoral', sort='-y'),\n",
    "    y=alt.Y('quantia_total:Q', title='Quantia Total de Contribuições (em USD)'),\n",
    "    tooltip=[\n",
    "        alt.Tooltip('transaction_pgi:N', title='Etapa do Ciclo'),\n",
    "        alt.Tooltip('quantia_total:Q', title='Quantia total de contribuição'),\n",
    "        alt.Tooltip('razao_contribuicao:Q', title='Proporção Quantia/Contribuintes')\n",
    "    ],\n",
    "    color=alt.condition(\n",
    "        highlight,\n",
    "        alt.Color('transaction_pgi:N', scale=color_scale, title='Etapa'),\n",
    "        alt.value('lightgray')  # Cor padrão para barras não destacadas\n",
    "    )\n",
    ").add_params(\n",
    "    highlight\n",
    ").properties(\n",
    "    width=600,\n",
    "    height=300,\n",
    "    title='Quantia Total de Contribuições por Etapa do Ciclo Eleitoral (sem classes majoritárias)'\n",
    ")\n",
    "\n",
    "# Texto com valores numéricos\n",
    "text = alt.Chart(vis1).transform_filter(\n",
    "    alt.FieldOneOfPredicate(field='transaction_pgi', oneOf=['Outras', 'Convenção', 'Especial', 'Segundo Turno', 'Eleição', '0'])\n",
    ").mark_text(\n",
    "    align='center',\n",
    "    baseline='middle',\n",
    "    dy=-10,\n",
    "    color='black'\n",
    ").encode(\n",
    "    x=alt.X('transaction_pgi:N', title='Etapa do Ciclo Eleitoral', sort='-y'),\n",
    "    y=alt.Y('quantia_total:Q'),\n",
    "    text=alt.Text('razao_contribuicao:Q', format='.2f')\n",
    ")\n",
    "\n",
    "# Combinação das camadas e configurações de estilo\n",
    "vis = (bar + text).configure_title(\n",
    "    fontSize=18\n",
    ").configure_axis(\n",
    "    labelFontSize=12,\n",
    "    titleFontSize=14\n",
    ").configure_legend(\n",
    "    labelFontSize=12,\n",
    "    titleFontSize=14\n",
    ").configure(\n",
    "    background=\"rgba(0, 0, 0, 0)\"\n",
    ").configure_view(\n",
    "    fill='white'\n",
    ").configure_axis(\n",
    "    grid=False\n",
    ")\n",
    "\n",
    "vis.display()\n"
   ]
  },
  {
   "cell_type": "code",
   "execution_count": null,
   "metadata": {
    "id": "YMoPtQODS-2s"
   },
   "outputs": [],
   "source": [
    "vis.save('vis3.html')"
   ]
  },
  {
   "cell_type": "markdown",
   "metadata": {
    "id": "vk8ej_hxblfl"
   },
   "source": [
    "### 3.4 Existem diferenças entre as distribuições apresentadas?"
   ]
  },
  {
   "cell_type": "code",
   "execution_count": null,
   "metadata": {
    "colab": {
     "background_save": true
    },
    "id": "xMb-ILqV68HE",
    "outputId": "45503ebf-ce19-40e0-f1b7-6031fc9c9c78"
   },
   "outputs": [
    {
     "name": "stdout",
     "output_type": "stream",
     "text": [
      "Estatística H de Kruskal-Wallis: 38497.3239\n",
      "p-valor: 0.0000e+00\n"
     ]
    }
   ],
   "source": [
    "df_analysis = df[['transaction_pgi', 'transaction_amt']].copy()\n",
    "\n",
    "groups = [group['transaction_amt'].values for name, group in df_analysis.groupby('transaction_pgi')]\n",
    "\n",
    "stat, p = kruskal(*groups)\n",
    "print(f'Estatística H de Kruskal-Wallis: {stat:.4f}')\n",
    "print(f'p-valor: {p:.4e}')"
   ]
  },
  {
   "cell_type": "code",
   "execution_count": null,
   "metadata": {
    "colab": {
     "background_save": true
    },
    "id": "mUbxXCNe9FXL",
    "outputId": "2882f215-2799-49ad-d818-1bcc69ef37c3"
   },
   "outputs": [
    {
     "data": {
      "text/html": [
       "<div>\n",
       "<style scoped>\n",
       "    .dataframe tbody tr th:only-of-type {\n",
       "        vertical-align: middle;\n",
       "    }\n",
       "\n",
       "    .dataframe tbody tr th {\n",
       "        vertical-align: top;\n",
       "    }\n",
       "\n",
       "    .dataframe thead th {\n",
       "        text-align: right;\n",
       "    }\n",
       "</style>\n",
       "<table border=\"1\" class=\"dataframe\">\n",
       "  <thead>\n",
       "    <tr style=\"text-align: right;\">\n",
       "      <th></th>\n",
       "      <th>0</th>\n",
       "    </tr>\n",
       "  </thead>\n",
       "  <tbody>\n",
       "    <tr>\n",
       "      <th>0</th>\n",
       "      <td>8</td>\n",
       "    </tr>\n",
       "    <tr>\n",
       "      <th>Desconhecido</th>\n",
       "      <td>8</td>\n",
       "    </tr>\n",
       "    <tr>\n",
       "      <th>G</th>\n",
       "      <td>8</td>\n",
       "    </tr>\n",
       "    <tr>\n",
       "      <th>O</th>\n",
       "      <td>8</td>\n",
       "    </tr>\n",
       "    <tr>\n",
       "      <th>P</th>\n",
       "      <td>8</td>\n",
       "    </tr>\n",
       "    <tr>\n",
       "      <th>C</th>\n",
       "      <td>7</td>\n",
       "    </tr>\n",
       "    <tr>\n",
       "      <th>E</th>\n",
       "      <td>7</td>\n",
       "    </tr>\n",
       "    <tr>\n",
       "      <th>R</th>\n",
       "      <td>7</td>\n",
       "    </tr>\n",
       "    <tr>\n",
       "      <th>S</th>\n",
       "      <td>7</td>\n",
       "    </tr>\n",
       "  </tbody>\n",
       "</table>\n",
       "</div><br><label><b>dtype:</b> int64</label>"
      ],
      "text/plain": [
       "0               8\n",
       "Desconhecido    8\n",
       "G               8\n",
       "O               8\n",
       "P               8\n",
       "C               7\n",
       "E               7\n",
       "R               7\n",
       "S               7\n",
       "dtype: int64"
      ]
     },
     "execution_count": 46,
     "metadata": {},
     "output_type": "execute_result"
    }
   ],
   "source": [
    "post_hoc = sp.posthoc_dunn(df_analysis, val_col='transaction_amt', group_col='transaction_pgi', p_adjust='fdr_bh')\n",
    "pares_significantes = (post_hoc < 0.05)\n",
    "significancia_dos_estados = pares_significantes.sum(axis=1)\n",
    "significancia_dos_estados.sort_values(ascending=False)"
   ]
  },
  {
   "cell_type": "markdown",
   "metadata": {
    "id": "s2bKiYwzUBGh"
   },
   "source": [
    "Para comparar as distribuições acima, utiliza-se o teste estatístico **Kruskal-Wallis** com o intuito de verificar se existem diferenças significativas entre as medianas desses grupos. Sob a Hipótese nula (H0) de que as medianas dos grupos são iguais, obtem-se o p-valor < 0.05 e, assim, H0 é rejeitado.\n",
    "\n",
    "Assim, para entender onde está a diferença entre esses grupos, faz-se o teste post-hoc de Dunn. Ele realiza comparações múltiplas entre pares dos grupos, aplicando testes Mann-Whitney U para cada par, ajustando os p-valores para múltiplas comparações.\n",
    "\n",
    "Apesar dos resultados mostrarem que existem diferenças entre as distribuições das etapas do ciclo Eleitoral, procura-se entender o efeito prático dessa diferença: verificar se a diferença entre as distribuições é relevante nesse contexto. Para isso, calcula-se medidas de Tamanho de efeito."
   ]
  },
  {
   "cell_type": "code",
   "execution_count": null,
   "metadata": {
    "colab": {
     "background_save": true
    },
    "id": "MWj9FZSiOxnB",
    "outputId": "cf54e9b0-5d86-45a5-aa05-3f0a3531d9d1"
   },
   "outputs": [
    {
     "name": "stdout",
     "output_type": "stream",
     "text": [
      "Epsilon quadrado: 0.011531\n"
     ]
    }
   ],
   "source": [
    "n_total = len(df_analysis)\n",
    "k = len(groups)\n",
    "epsilon_squared = (stat - k + 1) / (n_total - k)\n",
    "print(f'Epsilon quadrado: {epsilon_squared:.6f}')"
   ]
  },
  {
   "cell_type": "markdown",
   "metadata": {
    "id": "fsx_Oo-bWKXv"
   },
   "source": [
    "O Epsilon quadrado representa a proporção da variabilidade total dos dados que é explicada pela variável independente, nesse caso, as etapas de ciclo eleitoral. Seu intervalo varia de 0 a 1 e pelo seu cálculo, percebe-se que o tamanho do efeito das diferenças das distribuições é insignificante."
   ]
  },
  {
   "cell_type": "code",
   "execution_count": null,
   "metadata": {
    "colab": {
     "background_save": true
    },
    "id": "hdAnpXDJPLf8"
   },
   "outputs": [],
   "source": [
    "def calculate_effect_size(group1, group2):\n",
    "    n1 = len(group1)\n",
    "    n2 = len(group2)\n",
    "    u_statistic, _ = mannwhitneyu(group1, group2, alternative='two-sided')\n",
    "    u_max = n1 * n2\n",
    "    effect_size = 1 - (2 * u_statistic) / u_max\n",
    "    return abs(effect_size)\n",
    "\n",
    "group_dict = {\n",
    "    name: group['transaction_amt'].values\n",
    "    for name, group in df_analysis.groupby('transaction_pgi')\n",
    "}\n",
    "\n",
    "group_names = list(group_dict.keys())\n",
    "n_groups = len(group_names)\n",
    "\n",
    "effect_size_array = np.zeros((n_groups, n_groups))\n",
    "\n",
    "for i in range(n_groups):\n",
    "    group1 = group_names[i]\n",
    "    data1 = group_dict[group1]\n",
    "\n",
    "    for j in range(i, n_groups):\n",
    "        group2 = group_names[j]\n",
    "        data2 = group_dict[group2]\n",
    "        effect_size = calculate_effect_size(data1, data2)\n",
    "        effect_size_array[i, j] = effect_size\n",
    "        effect_size_array[j, i] = effect_size\n",
    "\n",
    "# Converter a matriz NumPy em DataFrame\n",
    "effect_size_matrix = pd.DataFrame(\n",
    "    effect_size_array,\n",
    "    index=group_names,\n",
    "    columns=group_names\n",
    ")\n"
   ]
  },
  {
   "cell_type": "code",
   "execution_count": null,
   "metadata": {
    "cellView": "form",
    "colab": {
     "background_save": true
    },
    "id": "oD78DBwhSThG",
    "outputId": "ecdcfc22-6632-4841-89b8-c2a47deacb88"
   },
   "outputs": [
    {
     "data": {
      "text/html": [
       "\n",
       "<style>\n",
       "  #altair-viz-df1ff0e01c814111a6db8d49e54a1411.vega-embed {\n",
       "    width: 100%;\n",
       "    display: flex;\n",
       "  }\n",
       "\n",
       "  #altair-viz-df1ff0e01c814111a6db8d49e54a1411.vega-embed details,\n",
       "  #altair-viz-df1ff0e01c814111a6db8d49e54a1411.vega-embed details summary {\n",
       "    position: relative;\n",
       "  }\n",
       "</style>\n",
       "<div id=\"altair-viz-df1ff0e01c814111a6db8d49e54a1411\"></div>\n",
       "<script type=\"text/javascript\">\n",
       "  var VEGA_DEBUG = (typeof VEGA_DEBUG == \"undefined\") ? {} : VEGA_DEBUG;\n",
       "  (function(spec, embedOpt){\n",
       "    let outputDiv = document.currentScript.previousElementSibling;\n",
       "    if (outputDiv.id !== \"altair-viz-df1ff0e01c814111a6db8d49e54a1411\") {\n",
       "      outputDiv = document.getElementById(\"altair-viz-df1ff0e01c814111a6db8d49e54a1411\");\n",
       "    }\n",
       "    const paths = {\n",
       "      \"vega\": \"https://cdn.jsdelivr.net/npm/vega@5?noext\",\n",
       "      \"vega-lib\": \"https://cdn.jsdelivr.net/npm/vega-lib?noext\",\n",
       "      \"vega-lite\": \"https://cdn.jsdelivr.net/npm/vega-lite@5.20.1?noext\",\n",
       "      \"vega-embed\": \"https://cdn.jsdelivr.net/npm/vega-embed@6?noext\",\n",
       "    };\n",
       "\n",
       "    function maybeLoadScript(lib, version) {\n",
       "      var key = `${lib.replace(\"-\", \"\")}_version`;\n",
       "      return (VEGA_DEBUG[key] == version) ?\n",
       "        Promise.resolve(paths[lib]) :\n",
       "        new Promise(function(resolve, reject) {\n",
       "          var s = document.createElement('script');\n",
       "          document.getElementsByTagName(\"head\")[0].appendChild(s);\n",
       "          s.async = true;\n",
       "          s.onload = () => {\n",
       "            VEGA_DEBUG[key] = version;\n",
       "            return resolve(paths[lib]);\n",
       "          };\n",
       "          s.onerror = () => reject(`Error loading script: ${paths[lib]}`);\n",
       "          s.src = paths[lib];\n",
       "        });\n",
       "    }\n",
       "\n",
       "    function showError(err) {\n",
       "      outputDiv.innerHTML = `<div class=\"error\" style=\"color:red;\">${err}</div>`;\n",
       "      throw err;\n",
       "    }\n",
       "\n",
       "    function displayChart(vegaEmbed) {\n",
       "      vegaEmbed(outputDiv, spec, embedOpt)\n",
       "        .catch(err => showError(`Javascript Error: ${err.message}<br>This usually means there's a typo in your chart specification. See the javascript console for the full traceback.`));\n",
       "    }\n",
       "\n",
       "    if(typeof define === \"function\" && define.amd) {\n",
       "      requirejs.config({paths});\n",
       "      require([\"vega-embed\"], displayChart, err => showError(`Error loading script: ${err.message}`));\n",
       "    } else {\n",
       "      maybeLoadScript(\"vega\", \"5\")\n",
       "        .then(() => maybeLoadScript(\"vega-lite\", \"5.20.1\"))\n",
       "        .then(() => maybeLoadScript(\"vega-embed\", \"6\"))\n",
       "        .catch(showError)\n",
       "        .then(() => displayChart(vegaEmbed));\n",
       "    }\n",
       "  })({\"$schema\": \"https://vega.github.io/schema/vega/v5.json\", \"data\": [{\"name\": \"source_0\", \"values\": [{\"Grupo 1\": \"0\", \"Grupo 2\": \"0\", \"Tamanho de Efeito\": 0.0}, {\"Grupo 1\": \"C\", \"Grupo 2\": \"0\", \"Tamanho de Efeito\": 0.7090753804767012}, {\"Grupo 1\": \"Desconhecido\", \"Grupo 2\": \"0\", \"Tamanho de Efeito\": 0.782601370739404}, {\"Grupo 1\": \"E\", \"Grupo 2\": \"0\", \"Tamanho de Efeito\": 0.5393840771327447}, {\"Grupo 1\": \"G\", \"Grupo 2\": \"0\", \"Tamanho de Efeito\": 0.7482545086845227}, {\"Grupo 1\": \"O\", \"Grupo 2\": \"0\", \"Tamanho de Efeito\": 0.5418821629698121}, {\"Grupo 1\": \"P\", \"Grupo 2\": \"0\", \"Tamanho de Efeito\": 0.7022434484482942}, {\"Grupo 1\": \"R\", \"Grupo 2\": \"0\", \"Tamanho de Efeito\": 0.6225170417590473}, {\"Grupo 1\": \"S\", \"Grupo 2\": \"0\", \"Tamanho de Efeito\": 0.7049109097276947}, {\"Grupo 1\": \"0\", \"Grupo 2\": \"C\", \"Tamanho de Efeito\": 0.7090753804767012}, {\"Grupo 1\": \"C\", \"Grupo 2\": \"C\", \"Tamanho de Efeito\": 0.0}, {\"Grupo 1\": \"Desconhecido\", \"Grupo 2\": \"C\", \"Tamanho de Efeito\": 0.19359567246081522}, {\"Grupo 1\": \"E\", \"Grupo 2\": \"C\", \"Tamanho de Efeito\": 0.10243257544635531}, {\"Grupo 1\": \"G\", \"Grupo 2\": \"C\", \"Tamanho de Efeito\": 0.11304022452949569}, {\"Grupo 1\": \"O\", \"Grupo 2\": \"C\", \"Tamanho de Efeito\": 0.16941155071968028}, {\"Grupo 1\": \"P\", \"Grupo 2\": \"C\", \"Tamanho de Efeito\": 0.046173588338999316}, {\"Grupo 1\": \"R\", \"Grupo 2\": \"C\", \"Tamanho de Efeito\": 0.09783523137162142}, {\"Grupo 1\": \"S\", \"Grupo 2\": \"C\", \"Tamanho de Efeito\": 0.0036729918714273335}, {\"Grupo 1\": \"0\", \"Grupo 2\": \"Desconhecido\", \"Tamanho de Efeito\": 0.782601370739404}, {\"Grupo 1\": \"C\", \"Grupo 2\": \"Desconhecido\", \"Tamanho de Efeito\": 0.19359567246081522}, {\"Grupo 1\": \"Desconhecido\", \"Grupo 2\": \"Desconhecido\", \"Tamanho de Efeito\": 0.0}, {\"Grupo 1\": \"E\", \"Grupo 2\": \"Desconhecido\", \"Tamanho de Efeito\": 0.2746163452990066}, {\"Grupo 1\": \"G\", \"Grupo 2\": \"Desconhecido\", \"Tamanho de Efeito\": 0.07047177926079373}, {\"Grupo 1\": \"O\", \"Grupo 2\": \"Desconhecido\", \"Tamanho de Efeito\": 0.32200420774580385}, {\"Grupo 1\": \"P\", \"Grupo 2\": \"Desconhecido\", \"Tamanho de Efeito\": 0.13703856977716367}, {\"Grupo 1\": \"R\", \"Grupo 2\": \"Desconhecido\", \"Tamanho de Efeito\": 0.26978649565196733}, {\"Grupo 1\": \"S\", \"Grupo 2\": \"Desconhecido\", \"Tamanho de Efeito\": 0.1964267055052572}, {\"Grupo 1\": \"0\", \"Grupo 2\": \"E\", \"Tamanho de Efeito\": 0.5393840771327447}, {\"Grupo 1\": \"C\", \"Grupo 2\": \"E\", \"Tamanho de Efeito\": 0.10243257544635531}, {\"Grupo 1\": \"Desconhecido\", \"Grupo 2\": \"E\", \"Tamanho de Efeito\": 0.2746163452990066}, {\"Grupo 1\": \"E\", \"Grupo 2\": \"E\", \"Tamanho de Efeito\": 0.0}, {\"Grupo 1\": \"G\", \"Grupo 2\": \"E\", \"Tamanho de Efeito\": 0.20322065246712162}, {\"Grupo 1\": \"O\", \"Grupo 2\": \"E\", \"Tamanho de Efeito\": 0.045791557192932375}, {\"Grupo 1\": \"P\", \"Grupo 2\": \"E\", \"Tamanho de Efeito\": 0.14313619502647312}, {\"Grupo 1\": \"R\", \"Grupo 2\": \"E\", \"Tamanho de Efeito\": 0.016475693508182898}, {\"Grupo 1\": \"S\", \"Grupo 2\": \"E\", \"Tamanho de Efeito\": 0.09937843755163711}, {\"Grupo 1\": \"0\", \"Grupo 2\": \"G\", \"Tamanho de Efeito\": 0.7482545086845227}, {\"Grupo 1\": \"C\", \"Grupo 2\": \"G\", \"Tamanho de Efeito\": 0.11304022452949569}, {\"Grupo 1\": \"Desconhecido\", \"Grupo 2\": \"G\", \"Tamanho de Efeito\": 0.07047177926079373}, {\"Grupo 1\": \"E\", \"Grupo 2\": \"G\", \"Tamanho de Efeito\": 0.20322065246712162}, {\"Grupo 1\": \"G\", \"Grupo 2\": \"G\", \"Tamanho de Efeito\": 0.0}, {\"Grupo 1\": \"O\", \"Grupo 2\": \"G\", \"Tamanho de Efeito\": 0.26025331328057444}, {\"Grupo 1\": \"P\", \"Grupo 2\": \"G\", \"Tamanho de Efeito\": 0.06517073980651023}, {\"Grupo 1\": \"R\", \"Grupo 2\": \"G\", \"Tamanho de Efeito\": 0.19825295339288695}, {\"Grupo 1\": \"S\", \"Grupo 2\": \"G\", \"Tamanho de Efeito\": 0.11723416815220267}, {\"Grupo 1\": \"0\", \"Grupo 2\": \"O\", \"Tamanho de Efeito\": 0.5418821629698121}, {\"Grupo 1\": \"C\", \"Grupo 2\": \"O\", \"Tamanho de Efeito\": 0.16941155071968028}, {\"Grupo 1\": \"Desconhecido\", \"Grupo 2\": \"O\", \"Tamanho de Efeito\": 0.32200420774580385}, {\"Grupo 1\": \"E\", \"Grupo 2\": \"O\", \"Tamanho de Efeito\": 0.045791557192932375}, {\"Grupo 1\": \"G\", \"Grupo 2\": \"O\", \"Tamanho de Efeito\": 0.26025331328057444}, {\"Grupo 1\": \"O\", \"Grupo 2\": \"O\", \"Tamanho de Efeito\": 0.0}, {\"Grupo 1\": \"P\", \"Grupo 2\": \"O\", \"Tamanho de Efeito\": 0.19821651312624122}, {\"Grupo 1\": \"R\", \"Grupo 2\": \"O\", \"Tamanho de Efeito\": 0.07704384164234956}, {\"Grupo 1\": \"S\", \"Grupo 2\": \"O\", \"Tamanho de Efeito\": 0.16413709191968073}, {\"Grupo 1\": \"0\", \"Grupo 2\": \"P\", \"Tamanho de Efeito\": 0.7022434484482942}, {\"Grupo 1\": \"C\", \"Grupo 2\": \"P\", \"Tamanho de Efeito\": 0.046173588338999316}, {\"Grupo 1\": \"Desconhecido\", \"Grupo 2\": \"P\", \"Tamanho de Efeito\": 0.13703856977716367}, {\"Grupo 1\": \"E\", \"Grupo 2\": \"P\", \"Tamanho de Efeito\": 0.14313619502647312}, {\"Grupo 1\": \"G\", \"Grupo 2\": \"P\", \"Tamanho de Efeito\": 0.06517073980651023}, {\"Grupo 1\": \"O\", \"Grupo 2\": \"P\", \"Tamanho de Efeito\": 0.19821651312624122}, {\"Grupo 1\": \"P\", \"Grupo 2\": \"P\", \"Tamanho de Efeito\": 0.0}, {\"Grupo 1\": \"R\", \"Grupo 2\": \"P\", \"Tamanho de Efeito\": 0.13350021467358952}, {\"Grupo 1\": \"S\", \"Grupo 2\": \"P\", \"Tamanho de Efeito\": 0.0499666278195382}, {\"Grupo 1\": \"0\", \"Grupo 2\": \"R\", \"Tamanho de Efeito\": 0.6225170417590473}, {\"Grupo 1\": \"C\", \"Grupo 2\": \"R\", \"Tamanho de Efeito\": 0.09783523137162142}, {\"Grupo 1\": \"Desconhecido\", \"Grupo 2\": \"R\", \"Tamanho de Efeito\": 0.26978649565196733}, {\"Grupo 1\": \"E\", \"Grupo 2\": \"R\", \"Tamanho de Efeito\": 0.016475693508182898}, {\"Grupo 1\": \"G\", \"Grupo 2\": \"R\", \"Tamanho de Efeito\": 0.19825295339288695}, {\"Grupo 1\": \"O\", \"Grupo 2\": \"R\", \"Tamanho de Efeito\": 0.07704384164234956}, {\"Grupo 1\": \"P\", \"Grupo 2\": \"R\", \"Tamanho de Efeito\": 0.13350021467358952}, {\"Grupo 1\": \"R\", \"Grupo 2\": \"R\", \"Tamanho de Efeito\": 0.0}, {\"Grupo 1\": \"S\", \"Grupo 2\": \"R\", \"Tamanho de Efeito\": 0.09299779052448454}, {\"Grupo 1\": \"0\", \"Grupo 2\": \"S\", \"Tamanho de Efeito\": 0.7049109097276947}, {\"Grupo 1\": \"C\", \"Grupo 2\": \"S\", \"Tamanho de Efeito\": 0.0036729918714273335}, {\"Grupo 1\": \"Desconhecido\", \"Grupo 2\": \"S\", \"Tamanho de Efeito\": 0.1964267055052572}, {\"Grupo 1\": \"E\", \"Grupo 2\": \"S\", \"Tamanho de Efeito\": 0.09937843755163711}, {\"Grupo 1\": \"G\", \"Grupo 2\": \"S\", \"Tamanho de Efeito\": 0.11723416815220267}, {\"Grupo 1\": \"O\", \"Grupo 2\": \"S\", \"Tamanho de Efeito\": 0.16413709191968073}, {\"Grupo 1\": \"P\", \"Grupo 2\": \"S\", \"Tamanho de Efeito\": 0.0499666278195382}, {\"Grupo 1\": \"R\", \"Grupo 2\": \"S\", \"Tamanho de Efeito\": 0.09299779052448454}, {\"Grupo 1\": \"S\", \"Grupo 2\": \"S\", \"Tamanho de Efeito\": 0.0}]}, {\"name\": \"data_0\", \"values\": [{\"Grupo 1\": \"0\", \"Grupo 2\": \"0\", \"Tamanho de Efeito\": 0.0}, {\"Grupo 1\": \"C\", \"Grupo 2\": \"0\", \"Tamanho de Efeito\": 0.7090753804767012}, {\"Grupo 1\": \"Desconhecido\", \"Grupo 2\": \"0\", \"Tamanho de Efeito\": 0.782601370739404}, {\"Grupo 1\": \"E\", \"Grupo 2\": \"0\", \"Tamanho de Efeito\": 0.5393840771327447}, {\"Grupo 1\": \"G\", \"Grupo 2\": \"0\", \"Tamanho de Efeito\": 0.7482545086845227}, {\"Grupo 1\": \"O\", \"Grupo 2\": \"0\", \"Tamanho de Efeito\": 0.5418821629698121}, {\"Grupo 1\": \"P\", \"Grupo 2\": \"0\", \"Tamanho de Efeito\": 0.7022434484482942}, {\"Grupo 1\": \"R\", \"Grupo 2\": \"0\", \"Tamanho de Efeito\": 0.6225170417590473}, {\"Grupo 1\": \"S\", \"Grupo 2\": \"0\", \"Tamanho de Efeito\": 0.7049109097276947}, {\"Grupo 1\": \"0\", \"Grupo 2\": \"C\", \"Tamanho de Efeito\": 0.7090753804767012}, {\"Grupo 1\": \"C\", \"Grupo 2\": \"C\", \"Tamanho de Efeito\": 0.0}, {\"Grupo 1\": \"Desconhecido\", \"Grupo 2\": \"C\", \"Tamanho de Efeito\": 0.19359567246081522}, {\"Grupo 1\": \"E\", \"Grupo 2\": \"C\", \"Tamanho de Efeito\": 0.10243257544635531}, {\"Grupo 1\": \"G\", \"Grupo 2\": \"C\", \"Tamanho de Efeito\": 0.11304022452949569}, {\"Grupo 1\": \"O\", \"Grupo 2\": \"C\", \"Tamanho de Efeito\": 0.16941155071968028}, {\"Grupo 1\": \"P\", \"Grupo 2\": \"C\", \"Tamanho de Efeito\": 0.046173588338999316}, {\"Grupo 1\": \"R\", \"Grupo 2\": \"C\", \"Tamanho de Efeito\": 0.09783523137162142}, {\"Grupo 1\": \"S\", \"Grupo 2\": \"C\", \"Tamanho de Efeito\": 0.0036729918714273335}, {\"Grupo 1\": \"0\", \"Grupo 2\": \"Desconhecido\", \"Tamanho de Efeito\": 0.782601370739404}, {\"Grupo 1\": \"C\", \"Grupo 2\": \"Desconhecido\", \"Tamanho de Efeito\": 0.19359567246081522}, {\"Grupo 1\": \"Desconhecido\", \"Grupo 2\": \"Desconhecido\", \"Tamanho de Efeito\": 0.0}, {\"Grupo 1\": \"E\", \"Grupo 2\": \"Desconhecido\", \"Tamanho de Efeito\": 0.2746163452990066}, {\"Grupo 1\": \"G\", \"Grupo 2\": \"Desconhecido\", \"Tamanho de Efeito\": 0.07047177926079373}, {\"Grupo 1\": \"O\", \"Grupo 2\": \"Desconhecido\", \"Tamanho de Efeito\": 0.32200420774580385}, {\"Grupo 1\": \"P\", \"Grupo 2\": \"Desconhecido\", \"Tamanho de Efeito\": 0.13703856977716367}, {\"Grupo 1\": \"R\", \"Grupo 2\": \"Desconhecido\", \"Tamanho de Efeito\": 0.26978649565196733}, {\"Grupo 1\": \"S\", \"Grupo 2\": \"Desconhecido\", \"Tamanho de Efeito\": 0.1964267055052572}, {\"Grupo 1\": \"0\", \"Grupo 2\": \"E\", \"Tamanho de Efeito\": 0.5393840771327447}, {\"Grupo 1\": \"C\", \"Grupo 2\": \"E\", \"Tamanho de Efeito\": 0.10243257544635531}, {\"Grupo 1\": \"Desconhecido\", \"Grupo 2\": \"E\", \"Tamanho de Efeito\": 0.2746163452990066}, {\"Grupo 1\": \"E\", \"Grupo 2\": \"E\", \"Tamanho de Efeito\": 0.0}, {\"Grupo 1\": \"G\", \"Grupo 2\": \"E\", \"Tamanho de Efeito\": 0.20322065246712162}, {\"Grupo 1\": \"O\", \"Grupo 2\": \"E\", \"Tamanho de Efeito\": 0.045791557192932375}, {\"Grupo 1\": \"P\", \"Grupo 2\": \"E\", \"Tamanho de Efeito\": 0.14313619502647312}, {\"Grupo 1\": \"R\", \"Grupo 2\": \"E\", \"Tamanho de Efeito\": 0.016475693508182898}, {\"Grupo 1\": \"S\", \"Grupo 2\": \"E\", \"Tamanho de Efeito\": 0.09937843755163711}, {\"Grupo 1\": \"0\", \"Grupo 2\": \"G\", \"Tamanho de Efeito\": 0.7482545086845227}, {\"Grupo 1\": \"C\", \"Grupo 2\": \"G\", \"Tamanho de Efeito\": 0.11304022452949569}, {\"Grupo 1\": \"Desconhecido\", \"Grupo 2\": \"G\", \"Tamanho de Efeito\": 0.07047177926079373}, {\"Grupo 1\": \"E\", \"Grupo 2\": \"G\", \"Tamanho de Efeito\": 0.20322065246712162}, {\"Grupo 1\": \"G\", \"Grupo 2\": \"G\", \"Tamanho de Efeito\": 0.0}, {\"Grupo 1\": \"O\", \"Grupo 2\": \"G\", \"Tamanho de Efeito\": 0.26025331328057444}, {\"Grupo 1\": \"P\", \"Grupo 2\": \"G\", \"Tamanho de Efeito\": 0.06517073980651023}, {\"Grupo 1\": \"R\", \"Grupo 2\": \"G\", \"Tamanho de Efeito\": 0.19825295339288695}, {\"Grupo 1\": \"S\", \"Grupo 2\": \"G\", \"Tamanho de Efeito\": 0.11723416815220267}, {\"Grupo 1\": \"0\", \"Grupo 2\": \"O\", \"Tamanho de Efeito\": 0.5418821629698121}, {\"Grupo 1\": \"C\", \"Grupo 2\": \"O\", \"Tamanho de Efeito\": 0.16941155071968028}, {\"Grupo 1\": \"Desconhecido\", \"Grupo 2\": \"O\", \"Tamanho de Efeito\": 0.32200420774580385}, {\"Grupo 1\": \"E\", \"Grupo 2\": \"O\", \"Tamanho de Efeito\": 0.045791557192932375}, {\"Grupo 1\": \"G\", \"Grupo 2\": \"O\", \"Tamanho de Efeito\": 0.26025331328057444}, {\"Grupo 1\": \"O\", \"Grupo 2\": \"O\", \"Tamanho de Efeito\": 0.0}, {\"Grupo 1\": \"P\", \"Grupo 2\": \"O\", \"Tamanho de Efeito\": 0.19821651312624122}, {\"Grupo 1\": \"R\", \"Grupo 2\": \"O\", \"Tamanho de Efeito\": 0.07704384164234956}, {\"Grupo 1\": \"S\", \"Grupo 2\": \"O\", \"Tamanho de Efeito\": 0.16413709191968073}, {\"Grupo 1\": \"0\", \"Grupo 2\": \"P\", \"Tamanho de Efeito\": 0.7022434484482942}, {\"Grupo 1\": \"C\", \"Grupo 2\": \"P\", \"Tamanho de Efeito\": 0.046173588338999316}, {\"Grupo 1\": \"Desconhecido\", \"Grupo 2\": \"P\", \"Tamanho de Efeito\": 0.13703856977716367}, {\"Grupo 1\": \"E\", \"Grupo 2\": \"P\", \"Tamanho de Efeito\": 0.14313619502647312}, {\"Grupo 1\": \"G\", \"Grupo 2\": \"P\", \"Tamanho de Efeito\": 0.06517073980651023}, {\"Grupo 1\": \"O\", \"Grupo 2\": \"P\", \"Tamanho de Efeito\": 0.19821651312624122}, {\"Grupo 1\": \"P\", \"Grupo 2\": \"P\", \"Tamanho de Efeito\": 0.0}, {\"Grupo 1\": \"R\", \"Grupo 2\": \"P\", \"Tamanho de Efeito\": 0.13350021467358952}, {\"Grupo 1\": \"S\", \"Grupo 2\": \"P\", \"Tamanho de Efeito\": 0.0499666278195382}, {\"Grupo 1\": \"0\", \"Grupo 2\": \"R\", \"Tamanho de Efeito\": 0.6225170417590473}, {\"Grupo 1\": \"C\", \"Grupo 2\": \"R\", \"Tamanho de Efeito\": 0.09783523137162142}, {\"Grupo 1\": \"Desconhecido\", \"Grupo 2\": \"R\", \"Tamanho de Efeito\": 0.26978649565196733}, {\"Grupo 1\": \"E\", \"Grupo 2\": \"R\", \"Tamanho de Efeito\": 0.016475693508182898}, {\"Grupo 1\": \"G\", \"Grupo 2\": \"R\", \"Tamanho de Efeito\": 0.19825295339288695}, {\"Grupo 1\": \"O\", \"Grupo 2\": \"R\", \"Tamanho de Efeito\": 0.07704384164234956}, {\"Grupo 1\": \"P\", \"Grupo 2\": \"R\", \"Tamanho de Efeito\": 0.13350021467358952}, {\"Grupo 1\": \"R\", \"Grupo 2\": \"R\", \"Tamanho de Efeito\": 0.0}, {\"Grupo 1\": \"S\", \"Grupo 2\": \"R\", \"Tamanho de Efeito\": 0.09299779052448454}, {\"Grupo 1\": \"0\", \"Grupo 2\": \"S\", \"Tamanho de Efeito\": 0.7049109097276947}, {\"Grupo 1\": \"C\", \"Grupo 2\": \"S\", \"Tamanho de Efeito\": 0.0036729918714273335}, {\"Grupo 1\": \"Desconhecido\", \"Grupo 2\": \"S\", \"Tamanho de Efeito\": 0.1964267055052572}, {\"Grupo 1\": \"E\", \"Grupo 2\": \"S\", \"Tamanho de Efeito\": 0.09937843755163711}, {\"Grupo 1\": \"G\", \"Grupo 2\": \"S\", \"Tamanho de Efeito\": 0.11723416815220267}, {\"Grupo 1\": \"O\", \"Grupo 2\": \"S\", \"Tamanho de Efeito\": 0.16413709191968073}, {\"Grupo 1\": \"P\", \"Grupo 2\": \"S\", \"Tamanho de Efeito\": 0.0499666278195382}, {\"Grupo 1\": \"R\", \"Grupo 2\": \"S\", \"Tamanho de Efeito\": 0.09299779052448454}, {\"Grupo 1\": \"S\", \"Grupo 2\": \"S\", \"Tamanho de Efeito\": 0.0}]}, {\"name\": \"data_0_x_domain_Grupo 2_0\", \"values\": [{\"Grupo 2\": \"0\"}, {\"Grupo 2\": \"C\"}, {\"Grupo 2\": \"Desconhecido\"}, {\"Grupo 2\": \"E\"}, {\"Grupo 2\": \"G\"}, {\"Grupo 2\": \"O\"}, {\"Grupo 2\": \"P\"}, {\"Grupo 2\": \"R\"}, {\"Grupo 2\": \"S\"}]}, {\"name\": \"source_0_x_domain_Grupo 2_1\", \"values\": [{\"Grupo 2\": \"0\"}, {\"Grupo 2\": \"C\"}, {\"Grupo 2\": \"Desconhecido\"}, {\"Grupo 2\": \"E\"}, {\"Grupo 2\": \"G\"}, {\"Grupo 2\": \"O\"}, {\"Grupo 2\": \"P\"}, {\"Grupo 2\": \"R\"}, {\"Grupo 2\": \"S\"}]}, {\"name\": \"data_0_y_domain_Grupo 1_0\", \"values\": [{\"Grupo 1\": \"0\"}, {\"Grupo 1\": \"C\"}, {\"Grupo 1\": \"Desconhecido\"}, {\"Grupo 1\": \"E\"}, {\"Grupo 1\": \"G\"}, {\"Grupo 1\": \"O\"}, {\"Grupo 1\": \"P\"}, {\"Grupo 1\": \"R\"}, {\"Grupo 1\": \"S\"}]}, {\"name\": \"source_0_y_domain_Grupo 1_1\", \"values\": [{\"Grupo 1\": \"0\"}, {\"Grupo 1\": \"C\"}, {\"Grupo 1\": \"Desconhecido\"}, {\"Grupo 1\": \"E\"}, {\"Grupo 1\": \"G\"}, {\"Grupo 1\": \"O\"}, {\"Grupo 1\": \"P\"}, {\"Grupo 1\": \"R\"}, {\"Grupo 1\": \"S\"}]}, {\"name\": \"data_0_color_domain_Tamanho de Efeito\", \"values\": [{\"min\": 0.0, \"max\": 0.782601370739404}]}], \"marks\": [{\"type\": \"rect\", \"name\": \"layer_0_marks\", \"from\": {\"data\": \"data_0\"}, \"encode\": {\"update\": {\"x\": {\"field\": \"Grupo 2\", \"scale\": \"x\"}, \"y\": {\"field\": \"Grupo 1\", \"scale\": \"y\"}, \"height\": {\"signal\": \"max(0.25, bandwidth('y'))\"}, \"width\": {\"signal\": \"max(0.25, bandwidth('x'))\"}, \"fill\": {\"field\": \"Tamanho de Efeito\", \"scale\": \"color\"}, \"tooltip\": {\"signal\": \"{\\\"Grupo 1\\\": isValid(datum[\\\"Grupo 1\\\"]) ? datum[\\\"Grupo 1\\\"] : \\\"\\\"+datum[\\\"Grupo 1\\\"], \\\"Grupo 2\\\": isValid(datum[\\\"Grupo 2\\\"]) ? datum[\\\"Grupo 2\\\"] : \\\"\\\"+datum[\\\"Grupo 2\\\"], \\\"Tamanho de Efeito\\\": format(datum[\\\"Tamanho de Efeito\\\"], \\\".4f\\\")}\"}}}, \"style\": [\"rect\"]}, {\"type\": \"text\", \"name\": \"layer_1_marks\", \"from\": {\"data\": \"source_0\"}, \"encode\": {\"update\": {\"x\": {\"field\": \"Grupo 2\", \"scale\": \"x\", \"band\": 0.5}, \"y\": {\"field\": \"Grupo 1\", \"scale\": \"y\", \"band\": 0.5}, \"text\": {\"signal\": \"format(datum[\\\"Tamanho de Efeito\\\"], \\\".2f\\\")\"}, \"align\": {\"value\": \"center\"}, \"baseline\": {\"value\": \"middle\"}, \"fill\": {\"value\": \"black\"}}}, \"style\": [\"text\"]}], \"scales\": [{\"name\": \"x\", \"type\": \"band\", \"domain\": {\"fields\": [{\"data\": \"data_0_x_domain_Grupo 2_0\", \"field\": \"Grupo 2\"}, {\"data\": \"source_0_x_domain_Grupo 2_1\", \"field\": \"Grupo 2\"}], \"sort\": true}, \"range\": [0, {\"signal\": \"width\"}], \"paddingInner\": 0, \"paddingOuter\": 0}, {\"name\": \"y\", \"type\": \"band\", \"domain\": {\"fields\": [{\"data\": \"data_0_y_domain_Grupo 1_0\", \"field\": \"Grupo 1\"}, {\"data\": \"source_0_y_domain_Grupo 1_1\", \"field\": \"Grupo 1\"}], \"sort\": true}, \"range\": [0, {\"signal\": \"height\"}], \"paddingOuter\": 0, \"paddingInner\": 0}, {\"name\": \"color\", \"type\": \"linear\", \"domain\": [{\"signal\": \"(data(\\\"data_0_color_domain_Tamanho de Efeito\\\")[0] || {}).min\"}, {\"signal\": \"(data(\\\"data_0_color_domain_Tamanho de Efeito\\\")[0] || {}).max\"}], \"range\": {\"scheme\": \"lightgreyteal\"}, \"zero\": false, \"interpolate\": \"hcl\"}], \"axes\": [{\"scale\": \"x\", \"title\": \"Etapa do Ciclo Eleitoral \", \"labelBaseline\": \"top\", \"zindex\": 1, \"orient\": \"bottom\", \"grid\": false, \"labelAlign\": \"right\"}, {\"scale\": \"y\", \"grid\": false, \"zindex\": 1, \"title\": \"Etapa do Ciclo Eleitoral\", \"orient\": \"left\", \"labelAlign\": \"right\"}], \"title\": {\"text\": \"Matriz de Tamanho de Efeito entre Etapas do Ciclo Eleitoral\", \"frame\": \"group\"}, \"padding\": 5, \"background\": \"rgba(0, 0, 0, 0)\", \"config\": {\"axis\": {\"labelAngle\": -45}, \"style\": {\"cell\": {\"fill\": \"white\"}}}, \"width\": 400, \"style\": \"cell\", \"legends\": [{\"fill\": \"color\", \"gradientLength\": {\"signal\": \"clamp(height, 64, 200)\"}, \"title\": \"Tamanho de Efeito\"}], \"height\": 350}, {\"mode\": \"vega\"});\n",
       "</script>"
      ],
      "text/plain": [
       "alt.LayerChart(...)"
      ]
     },
     "metadata": {},
     "output_type": "display_data"
    }
   ],
   "source": [
    "#@title .\n",
    "effect_size_long = effect_size_matrix.reset_index().melt(\n",
    "    id_vars='index',\n",
    "    var_name='Grupo 2',\n",
    "    value_name='Tamanho de Efeito'\n",
    ")\n",
    "effect_size_long.rename(columns={'index': 'Grupo 1'}, inplace=True)\n",
    "\n",
    "# Criar o heatmap\n",
    "heatmap = alt.Chart(effect_size_long).mark_rect().encode(\n",
    "    x=alt.X('Grupo 2:N', title='Etapa do Ciclo Eleitoral '),\n",
    "    y=alt.Y('Grupo 1:N', title='Etapa do Ciclo Eleitoral'),\n",
    "    color=alt.Color('Tamanho de Efeito:Q', scale=alt.Scale(scheme='lightgreyteal')),\n",
    "    tooltip=['Grupo 1', 'Grupo 2', alt.Tooltip('Tamanho de Efeito:Q', format='.4f')]\n",
    ").properties(\n",
    "    width=400,\n",
    "    height=350,\n",
    "    title='Matriz de Tamanho de Efeito entre Etapas do Ciclo Eleitoral'\n",
    ")\n",
    "\n",
    "text= alt.Chart(effect_size_long).mark_text(baseline='middle').encode(\n",
    "    x='Grupo 2:O',\n",
    "    y='Grupo 1:O',\n",
    "    text=alt.Text('Tamanho de Efeito:Q', format='.2f'),\n",
    ")\n",
    "\n",
    "vis = (heatmap + text).configure_title(\n",
    "    fontSize=18,\n",
    "\n",
    ").configure_axis(\n",
    "    labelFontSize=12,\n",
    "    titleFontSize=14\n",
    ").configure_legend(\n",
    "    labelFontSize=12,\n",
    "    titleFontSize=14\n",
    ").configure(\n",
    "    background=\"rgba(0, 0, 0, 0)\"\n",
    ").configure_view(\n",
    "    fill='white'\n",
    ").configure_axis(\n",
    "    labelAngle=-45\n",
    ")\n",
    "\n",
    "# Exibir o heatmap\n",
    "vis.display()"
   ]
  },
  {
   "cell_type": "code",
   "execution_count": null,
   "metadata": {
    "cellView": "form",
    "colab": {
     "background_save": true
    },
    "id": "f9catO-GY40G",
    "outputId": "cdc75537-7657-4df5-8400-80a30822808e"
   },
   "outputs": [
    {
     "data": {
      "text/html": [
       "\n",
       "<style>\n",
       "  #altair-viz-16f60e81c15c40bd9cc8247a0c1bdcc1.vega-embed {\n",
       "    width: 100%;\n",
       "    display: flex;\n",
       "  }\n",
       "\n",
       "  #altair-viz-16f60e81c15c40bd9cc8247a0c1bdcc1.vega-embed details,\n",
       "  #altair-viz-16f60e81c15c40bd9cc8247a0c1bdcc1.vega-embed details summary {\n",
       "    position: relative;\n",
       "  }\n",
       "</style>\n",
       "<div id=\"altair-viz-16f60e81c15c40bd9cc8247a0c1bdcc1\"></div>\n",
       "<script type=\"text/javascript\">\n",
       "  var VEGA_DEBUG = (typeof VEGA_DEBUG == \"undefined\") ? {} : VEGA_DEBUG;\n",
       "  (function(spec, embedOpt){\n",
       "    let outputDiv = document.currentScript.previousElementSibling;\n",
       "    if (outputDiv.id !== \"altair-viz-16f60e81c15c40bd9cc8247a0c1bdcc1\") {\n",
       "      outputDiv = document.getElementById(\"altair-viz-16f60e81c15c40bd9cc8247a0c1bdcc1\");\n",
       "    }\n",
       "    const paths = {\n",
       "      \"vega\": \"https://cdn.jsdelivr.net/npm/vega@5?noext\",\n",
       "      \"vega-lib\": \"https://cdn.jsdelivr.net/npm/vega-lib?noext\",\n",
       "      \"vega-lite\": \"https://cdn.jsdelivr.net/npm/vega-lite@5.20.1?noext\",\n",
       "      \"vega-embed\": \"https://cdn.jsdelivr.net/npm/vega-embed@6?noext\",\n",
       "    };\n",
       "\n",
       "    function maybeLoadScript(lib, version) {\n",
       "      var key = `${lib.replace(\"-\", \"\")}_version`;\n",
       "      return (VEGA_DEBUG[key] == version) ?\n",
       "        Promise.resolve(paths[lib]) :\n",
       "        new Promise(function(resolve, reject) {\n",
       "          var s = document.createElement('script');\n",
       "          document.getElementsByTagName(\"head\")[0].appendChild(s);\n",
       "          s.async = true;\n",
       "          s.onload = () => {\n",
       "            VEGA_DEBUG[key] = version;\n",
       "            return resolve(paths[lib]);\n",
       "          };\n",
       "          s.onerror = () => reject(`Error loading script: ${paths[lib]}`);\n",
       "          s.src = paths[lib];\n",
       "        });\n",
       "    }\n",
       "\n",
       "    function showError(err) {\n",
       "      outputDiv.innerHTML = `<div class=\"error\" style=\"color:red;\">${err}</div>`;\n",
       "      throw err;\n",
       "    }\n",
       "\n",
       "    function displayChart(vegaEmbed) {\n",
       "      vegaEmbed(outputDiv, spec, embedOpt)\n",
       "        .catch(err => showError(`Javascript Error: ${err.message}<br>This usually means there's a typo in your chart specification. See the javascript console for the full traceback.`));\n",
       "    }\n",
       "\n",
       "    if(typeof define === \"function\" && define.amd) {\n",
       "      requirejs.config({paths});\n",
       "      require([\"vega-embed\"], displayChart, err => showError(`Error loading script: ${err.message}`));\n",
       "    } else {\n",
       "      maybeLoadScript(\"vega\", \"5\")\n",
       "        .then(() => maybeLoadScript(\"vega-lite\", \"5.20.1\"))\n",
       "        .then(() => maybeLoadScript(\"vega-embed\", \"6\"))\n",
       "        .catch(showError)\n",
       "        .then(() => displayChart(vegaEmbed));\n",
       "    }\n",
       "  })({\"$schema\": \"https://vega.github.io/schema/vega/v5.json\", \"data\": [{\"name\": \"source_0\", \"values\": [{\"Grupo 1\": \"C\", \"Grupo 2\": \"C\", \"Tamanho de Efeito\": 0.0}, {\"Grupo 1\": \"Desconhecido\", \"Grupo 2\": \"C\", \"Tamanho de Efeito\": 0.19359567246081522}, {\"Grupo 1\": \"E\", \"Grupo 2\": \"C\", \"Tamanho de Efeito\": 0.10243257544635531}, {\"Grupo 1\": \"G\", \"Grupo 2\": \"C\", \"Tamanho de Efeito\": 0.11304022452949569}, {\"Grupo 1\": \"O\", \"Grupo 2\": \"C\", \"Tamanho de Efeito\": 0.16941155071968028}, {\"Grupo 1\": \"P\", \"Grupo 2\": \"C\", \"Tamanho de Efeito\": 0.046173588338999316}, {\"Grupo 1\": \"R\", \"Grupo 2\": \"C\", \"Tamanho de Efeito\": 0.09783523137162142}, {\"Grupo 1\": \"S\", \"Grupo 2\": \"C\", \"Tamanho de Efeito\": 0.0036729918714273335}, {\"Grupo 1\": \"C\", \"Grupo 2\": \"Desconhecido\", \"Tamanho de Efeito\": 0.19359567246081522}, {\"Grupo 1\": \"Desconhecido\", \"Grupo 2\": \"Desconhecido\", \"Tamanho de Efeito\": 0.0}, {\"Grupo 1\": \"E\", \"Grupo 2\": \"Desconhecido\", \"Tamanho de Efeito\": 0.2746163452990066}, {\"Grupo 1\": \"G\", \"Grupo 2\": \"Desconhecido\", \"Tamanho de Efeito\": 0.07047177926079373}, {\"Grupo 1\": \"O\", \"Grupo 2\": \"Desconhecido\", \"Tamanho de Efeito\": 0.32200420774580385}, {\"Grupo 1\": \"P\", \"Grupo 2\": \"Desconhecido\", \"Tamanho de Efeito\": 0.13703856977716367}, {\"Grupo 1\": \"R\", \"Grupo 2\": \"Desconhecido\", \"Tamanho de Efeito\": 0.26978649565196733}, {\"Grupo 1\": \"S\", \"Grupo 2\": \"Desconhecido\", \"Tamanho de Efeito\": 0.1964267055052572}, {\"Grupo 1\": \"C\", \"Grupo 2\": \"E\", \"Tamanho de Efeito\": 0.10243257544635531}, {\"Grupo 1\": \"Desconhecido\", \"Grupo 2\": \"E\", \"Tamanho de Efeito\": 0.2746163452990066}, {\"Grupo 1\": \"E\", \"Grupo 2\": \"E\", \"Tamanho de Efeito\": 0.0}, {\"Grupo 1\": \"G\", \"Grupo 2\": \"E\", \"Tamanho de Efeito\": 0.20322065246712162}, {\"Grupo 1\": \"O\", \"Grupo 2\": \"E\", \"Tamanho de Efeito\": 0.045791557192932375}, {\"Grupo 1\": \"P\", \"Grupo 2\": \"E\", \"Tamanho de Efeito\": 0.14313619502647312}, {\"Grupo 1\": \"R\", \"Grupo 2\": \"E\", \"Tamanho de Efeito\": 0.016475693508182898}, {\"Grupo 1\": \"S\", \"Grupo 2\": \"E\", \"Tamanho de Efeito\": 0.09937843755163711}, {\"Grupo 1\": \"C\", \"Grupo 2\": \"G\", \"Tamanho de Efeito\": 0.11304022452949569}, {\"Grupo 1\": \"Desconhecido\", \"Grupo 2\": \"G\", \"Tamanho de Efeito\": 0.07047177926079373}, {\"Grupo 1\": \"E\", \"Grupo 2\": \"G\", \"Tamanho de Efeito\": 0.20322065246712162}, {\"Grupo 1\": \"G\", \"Grupo 2\": \"G\", \"Tamanho de Efeito\": 0.0}, {\"Grupo 1\": \"O\", \"Grupo 2\": \"G\", \"Tamanho de Efeito\": 0.26025331328057444}, {\"Grupo 1\": \"P\", \"Grupo 2\": \"G\", \"Tamanho de Efeito\": 0.06517073980651023}, {\"Grupo 1\": \"R\", \"Grupo 2\": \"G\", \"Tamanho de Efeito\": 0.19825295339288695}, {\"Grupo 1\": \"S\", \"Grupo 2\": \"G\", \"Tamanho de Efeito\": 0.11723416815220267}, {\"Grupo 1\": \"C\", \"Grupo 2\": \"O\", \"Tamanho de Efeito\": 0.16941155071968028}, {\"Grupo 1\": \"Desconhecido\", \"Grupo 2\": \"O\", \"Tamanho de Efeito\": 0.32200420774580385}, {\"Grupo 1\": \"E\", \"Grupo 2\": \"O\", \"Tamanho de Efeito\": 0.045791557192932375}, {\"Grupo 1\": \"G\", \"Grupo 2\": \"O\", \"Tamanho de Efeito\": 0.26025331328057444}, {\"Grupo 1\": \"O\", \"Grupo 2\": \"O\", \"Tamanho de Efeito\": 0.0}, {\"Grupo 1\": \"P\", \"Grupo 2\": \"O\", \"Tamanho de Efeito\": 0.19821651312624122}, {\"Grupo 1\": \"R\", \"Grupo 2\": \"O\", \"Tamanho de Efeito\": 0.07704384164234956}, {\"Grupo 1\": \"S\", \"Grupo 2\": \"O\", \"Tamanho de Efeito\": 0.16413709191968073}, {\"Grupo 1\": \"C\", \"Grupo 2\": \"P\", \"Tamanho de Efeito\": 0.046173588338999316}, {\"Grupo 1\": \"Desconhecido\", \"Grupo 2\": \"P\", \"Tamanho de Efeito\": 0.13703856977716367}, {\"Grupo 1\": \"E\", \"Grupo 2\": \"P\", \"Tamanho de Efeito\": 0.14313619502647312}, {\"Grupo 1\": \"G\", \"Grupo 2\": \"P\", \"Tamanho de Efeito\": 0.06517073980651023}, {\"Grupo 1\": \"O\", \"Grupo 2\": \"P\", \"Tamanho de Efeito\": 0.19821651312624122}, {\"Grupo 1\": \"P\", \"Grupo 2\": \"P\", \"Tamanho de Efeito\": 0.0}, {\"Grupo 1\": \"R\", \"Grupo 2\": \"P\", \"Tamanho de Efeito\": 0.13350021467358952}, {\"Grupo 1\": \"S\", \"Grupo 2\": \"P\", \"Tamanho de Efeito\": 0.0499666278195382}, {\"Grupo 1\": \"C\", \"Grupo 2\": \"R\", \"Tamanho de Efeito\": 0.09783523137162142}, {\"Grupo 1\": \"Desconhecido\", \"Grupo 2\": \"R\", \"Tamanho de Efeito\": 0.26978649565196733}, {\"Grupo 1\": \"E\", \"Grupo 2\": \"R\", \"Tamanho de Efeito\": 0.016475693508182898}, {\"Grupo 1\": \"G\", \"Grupo 2\": \"R\", \"Tamanho de Efeito\": 0.19825295339288695}, {\"Grupo 1\": \"O\", \"Grupo 2\": \"R\", \"Tamanho de Efeito\": 0.07704384164234956}, {\"Grupo 1\": \"P\", \"Grupo 2\": \"R\", \"Tamanho de Efeito\": 0.13350021467358952}, {\"Grupo 1\": \"R\", \"Grupo 2\": \"R\", \"Tamanho de Efeito\": 0.0}, {\"Grupo 1\": \"S\", \"Grupo 2\": \"R\", \"Tamanho de Efeito\": 0.09299779052448454}, {\"Grupo 1\": \"C\", \"Grupo 2\": \"S\", \"Tamanho de Efeito\": 0.0036729918714273335}, {\"Grupo 1\": \"Desconhecido\", \"Grupo 2\": \"S\", \"Tamanho de Efeito\": 0.1964267055052572}, {\"Grupo 1\": \"E\", \"Grupo 2\": \"S\", \"Tamanho de Efeito\": 0.09937843755163711}, {\"Grupo 1\": \"G\", \"Grupo 2\": \"S\", \"Tamanho de Efeito\": 0.11723416815220267}, {\"Grupo 1\": \"O\", \"Grupo 2\": \"S\", \"Tamanho de Efeito\": 0.16413709191968073}, {\"Grupo 1\": \"P\", \"Grupo 2\": \"S\", \"Tamanho de Efeito\": 0.0499666278195382}, {\"Grupo 1\": \"R\", \"Grupo 2\": \"S\", \"Tamanho de Efeito\": 0.09299779052448454}, {\"Grupo 1\": \"S\", \"Grupo 2\": \"S\", \"Tamanho de Efeito\": 0.0}]}, {\"name\": \"data_0\", \"values\": [{\"Grupo 1\": \"C\", \"Grupo 2\": \"C\", \"Tamanho de Efeito\": 0.0}, {\"Grupo 1\": \"Desconhecido\", \"Grupo 2\": \"C\", \"Tamanho de Efeito\": 0.19359567246081522}, {\"Grupo 1\": \"E\", \"Grupo 2\": \"C\", \"Tamanho de Efeito\": 0.10243257544635531}, {\"Grupo 1\": \"G\", \"Grupo 2\": \"C\", \"Tamanho de Efeito\": 0.11304022452949569}, {\"Grupo 1\": \"O\", \"Grupo 2\": \"C\", \"Tamanho de Efeito\": 0.16941155071968028}, {\"Grupo 1\": \"P\", \"Grupo 2\": \"C\", \"Tamanho de Efeito\": 0.046173588338999316}, {\"Grupo 1\": \"R\", \"Grupo 2\": \"C\", \"Tamanho de Efeito\": 0.09783523137162142}, {\"Grupo 1\": \"S\", \"Grupo 2\": \"C\", \"Tamanho de Efeito\": 0.0036729918714273335}, {\"Grupo 1\": \"C\", \"Grupo 2\": \"Desconhecido\", \"Tamanho de Efeito\": 0.19359567246081522}, {\"Grupo 1\": \"Desconhecido\", \"Grupo 2\": \"Desconhecido\", \"Tamanho de Efeito\": 0.0}, {\"Grupo 1\": \"E\", \"Grupo 2\": \"Desconhecido\", \"Tamanho de Efeito\": 0.2746163452990066}, {\"Grupo 1\": \"G\", \"Grupo 2\": \"Desconhecido\", \"Tamanho de Efeito\": 0.07047177926079373}, {\"Grupo 1\": \"O\", \"Grupo 2\": \"Desconhecido\", \"Tamanho de Efeito\": 0.32200420774580385}, {\"Grupo 1\": \"P\", \"Grupo 2\": \"Desconhecido\", \"Tamanho de Efeito\": 0.13703856977716367}, {\"Grupo 1\": \"R\", \"Grupo 2\": \"Desconhecido\", \"Tamanho de Efeito\": 0.26978649565196733}, {\"Grupo 1\": \"S\", \"Grupo 2\": \"Desconhecido\", \"Tamanho de Efeito\": 0.1964267055052572}, {\"Grupo 1\": \"C\", \"Grupo 2\": \"E\", \"Tamanho de Efeito\": 0.10243257544635531}, {\"Grupo 1\": \"Desconhecido\", \"Grupo 2\": \"E\", \"Tamanho de Efeito\": 0.2746163452990066}, {\"Grupo 1\": \"E\", \"Grupo 2\": \"E\", \"Tamanho de Efeito\": 0.0}, {\"Grupo 1\": \"G\", \"Grupo 2\": \"E\", \"Tamanho de Efeito\": 0.20322065246712162}, {\"Grupo 1\": \"O\", \"Grupo 2\": \"E\", \"Tamanho de Efeito\": 0.045791557192932375}, {\"Grupo 1\": \"P\", \"Grupo 2\": \"E\", \"Tamanho de Efeito\": 0.14313619502647312}, {\"Grupo 1\": \"R\", \"Grupo 2\": \"E\", \"Tamanho de Efeito\": 0.016475693508182898}, {\"Grupo 1\": \"S\", \"Grupo 2\": \"E\", \"Tamanho de Efeito\": 0.09937843755163711}, {\"Grupo 1\": \"C\", \"Grupo 2\": \"G\", \"Tamanho de Efeito\": 0.11304022452949569}, {\"Grupo 1\": \"Desconhecido\", \"Grupo 2\": \"G\", \"Tamanho de Efeito\": 0.07047177926079373}, {\"Grupo 1\": \"E\", \"Grupo 2\": \"G\", \"Tamanho de Efeito\": 0.20322065246712162}, {\"Grupo 1\": \"G\", \"Grupo 2\": \"G\", \"Tamanho de Efeito\": 0.0}, {\"Grupo 1\": \"O\", \"Grupo 2\": \"G\", \"Tamanho de Efeito\": 0.26025331328057444}, {\"Grupo 1\": \"P\", \"Grupo 2\": \"G\", \"Tamanho de Efeito\": 0.06517073980651023}, {\"Grupo 1\": \"R\", \"Grupo 2\": \"G\", \"Tamanho de Efeito\": 0.19825295339288695}, {\"Grupo 1\": \"S\", \"Grupo 2\": \"G\", \"Tamanho de Efeito\": 0.11723416815220267}, {\"Grupo 1\": \"C\", \"Grupo 2\": \"O\", \"Tamanho de Efeito\": 0.16941155071968028}, {\"Grupo 1\": \"Desconhecido\", \"Grupo 2\": \"O\", \"Tamanho de Efeito\": 0.32200420774580385}, {\"Grupo 1\": \"E\", \"Grupo 2\": \"O\", \"Tamanho de Efeito\": 0.045791557192932375}, {\"Grupo 1\": \"G\", \"Grupo 2\": \"O\", \"Tamanho de Efeito\": 0.26025331328057444}, {\"Grupo 1\": \"O\", \"Grupo 2\": \"O\", \"Tamanho de Efeito\": 0.0}, {\"Grupo 1\": \"P\", \"Grupo 2\": \"O\", \"Tamanho de Efeito\": 0.19821651312624122}, {\"Grupo 1\": \"R\", \"Grupo 2\": \"O\", \"Tamanho de Efeito\": 0.07704384164234956}, {\"Grupo 1\": \"S\", \"Grupo 2\": \"O\", \"Tamanho de Efeito\": 0.16413709191968073}, {\"Grupo 1\": \"C\", \"Grupo 2\": \"P\", \"Tamanho de Efeito\": 0.046173588338999316}, {\"Grupo 1\": \"Desconhecido\", \"Grupo 2\": \"P\", \"Tamanho de Efeito\": 0.13703856977716367}, {\"Grupo 1\": \"E\", \"Grupo 2\": \"P\", \"Tamanho de Efeito\": 0.14313619502647312}, {\"Grupo 1\": \"G\", \"Grupo 2\": \"P\", \"Tamanho de Efeito\": 0.06517073980651023}, {\"Grupo 1\": \"O\", \"Grupo 2\": \"P\", \"Tamanho de Efeito\": 0.19821651312624122}, {\"Grupo 1\": \"P\", \"Grupo 2\": \"P\", \"Tamanho de Efeito\": 0.0}, {\"Grupo 1\": \"R\", \"Grupo 2\": \"P\", \"Tamanho de Efeito\": 0.13350021467358952}, {\"Grupo 1\": \"S\", \"Grupo 2\": \"P\", \"Tamanho de Efeito\": 0.0499666278195382}, {\"Grupo 1\": \"C\", \"Grupo 2\": \"R\", \"Tamanho de Efeito\": 0.09783523137162142}, {\"Grupo 1\": \"Desconhecido\", \"Grupo 2\": \"R\", \"Tamanho de Efeito\": 0.26978649565196733}, {\"Grupo 1\": \"E\", \"Grupo 2\": \"R\", \"Tamanho de Efeito\": 0.016475693508182898}, {\"Grupo 1\": \"G\", \"Grupo 2\": \"R\", \"Tamanho de Efeito\": 0.19825295339288695}, {\"Grupo 1\": \"O\", \"Grupo 2\": \"R\", \"Tamanho de Efeito\": 0.07704384164234956}, {\"Grupo 1\": \"P\", \"Grupo 2\": \"R\", \"Tamanho de Efeito\": 0.13350021467358952}, {\"Grupo 1\": \"R\", \"Grupo 2\": \"R\", \"Tamanho de Efeito\": 0.0}, {\"Grupo 1\": \"S\", \"Grupo 2\": \"R\", \"Tamanho de Efeito\": 0.09299779052448454}, {\"Grupo 1\": \"C\", \"Grupo 2\": \"S\", \"Tamanho de Efeito\": 0.0036729918714273335}, {\"Grupo 1\": \"Desconhecido\", \"Grupo 2\": \"S\", \"Tamanho de Efeito\": 0.1964267055052572}, {\"Grupo 1\": \"E\", \"Grupo 2\": \"S\", \"Tamanho de Efeito\": 0.09937843755163711}, {\"Grupo 1\": \"G\", \"Grupo 2\": \"S\", \"Tamanho de Efeito\": 0.11723416815220267}, {\"Grupo 1\": \"O\", \"Grupo 2\": \"S\", \"Tamanho de Efeito\": 0.16413709191968073}, {\"Grupo 1\": \"P\", \"Grupo 2\": \"S\", \"Tamanho de Efeito\": 0.0499666278195382}, {\"Grupo 1\": \"R\", \"Grupo 2\": \"S\", \"Tamanho de Efeito\": 0.09299779052448454}, {\"Grupo 1\": \"S\", \"Grupo 2\": \"S\", \"Tamanho de Efeito\": 0.0}]}, {\"name\": \"data_0_x_domain_Grupo 2_0\", \"values\": [{\"Grupo 2\": \"C\"}, {\"Grupo 2\": \"Desconhecido\"}, {\"Grupo 2\": \"E\"}, {\"Grupo 2\": \"G\"}, {\"Grupo 2\": \"O\"}, {\"Grupo 2\": \"P\"}, {\"Grupo 2\": \"R\"}, {\"Grupo 2\": \"S\"}]}, {\"name\": \"source_0_x_domain_Grupo 2_1\", \"values\": [{\"Grupo 2\": \"C\"}, {\"Grupo 2\": \"Desconhecido\"}, {\"Grupo 2\": \"E\"}, {\"Grupo 2\": \"G\"}, {\"Grupo 2\": \"O\"}, {\"Grupo 2\": \"P\"}, {\"Grupo 2\": \"R\"}, {\"Grupo 2\": \"S\"}]}, {\"name\": \"data_0_y_domain_Grupo 1_0\", \"values\": [{\"Grupo 1\": \"C\"}, {\"Grupo 1\": \"Desconhecido\"}, {\"Grupo 1\": \"E\"}, {\"Grupo 1\": \"G\"}, {\"Grupo 1\": \"O\"}, {\"Grupo 1\": \"P\"}, {\"Grupo 1\": \"R\"}, {\"Grupo 1\": \"S\"}]}, {\"name\": \"source_0_y_domain_Grupo 1_1\", \"values\": [{\"Grupo 1\": \"C\"}, {\"Grupo 1\": \"Desconhecido\"}, {\"Grupo 1\": \"E\"}, {\"Grupo 1\": \"G\"}, {\"Grupo 1\": \"O\"}, {\"Grupo 1\": \"P\"}, {\"Grupo 1\": \"R\"}, {\"Grupo 1\": \"S\"}]}, {\"name\": \"data_0_color_domain_Tamanho de Efeito\", \"values\": [{\"min\": 0.0, \"max\": 0.32200420774580385}]}], \"marks\": [{\"type\": \"rect\", \"name\": \"layer_0_marks\", \"from\": {\"data\": \"data_0\"}, \"encode\": {\"update\": {\"y\": {\"field\": \"Grupo 1\", \"scale\": \"y\"}, \"height\": {\"signal\": \"max(0.25, bandwidth('y'))\"}, \"x\": {\"field\": \"Grupo 2\", \"scale\": \"x\"}, \"fill\": {\"field\": \"Tamanho de Efeito\", \"scale\": \"color\"}, \"tooltip\": {\"signal\": \"{\\\"Grupo 1\\\": isValid(datum[\\\"Grupo 1\\\"]) ? datum[\\\"Grupo 1\\\"] : \\\"\\\"+datum[\\\"Grupo 1\\\"], \\\"Grupo 2\\\": isValid(datum[\\\"Grupo 2\\\"]) ? datum[\\\"Grupo 2\\\"] : \\\"\\\"+datum[\\\"Grupo 2\\\"], \\\"Tamanho de Efeito\\\": format(datum[\\\"Tamanho de Efeito\\\"], \\\".4f\\\")}\"}, \"width\": {\"signal\": \"max(0.25, bandwidth('x'))\"}}}, \"style\": [\"rect\"]}, {\"type\": \"text\", \"name\": \"layer_1_marks\", \"from\": {\"data\": \"source_0\"}, \"encode\": {\"update\": {\"baseline\": {\"value\": \"middle\"}, \"fill\": {\"value\": \"black\"}, \"x\": {\"field\": \"Grupo 2\", \"scale\": \"x\", \"band\": 0.5}, \"y\": {\"field\": \"Grupo 1\", \"scale\": \"y\", \"band\": 0.5}, \"text\": {\"signal\": \"format(datum[\\\"Tamanho de Efeito\\\"], \\\".2f\\\")\"}, \"align\": {\"value\": \"center\"}}}, \"style\": [\"text\"]}], \"scales\": [{\"name\": \"x\", \"type\": \"band\", \"domain\": {\"fields\": [{\"data\": \"data_0_x_domain_Grupo 2_0\", \"field\": \"Grupo 2\"}, {\"data\": \"source_0_x_domain_Grupo 2_1\", \"field\": \"Grupo 2\"}], \"sort\": true}, \"range\": [0, {\"signal\": \"width\"}], \"paddingOuter\": 0, \"paddingInner\": 0}, {\"name\": \"y\", \"type\": \"band\", \"domain\": {\"fields\": [{\"data\": \"data_0_y_domain_Grupo 1_0\", \"field\": \"Grupo 1\"}, {\"data\": \"source_0_y_domain_Grupo 1_1\", \"field\": \"Grupo 1\"}], \"sort\": true}, \"range\": [0, {\"signal\": \"height\"}], \"paddingInner\": 0, \"paddingOuter\": 0}, {\"name\": \"color\", \"type\": \"linear\", \"domain\": [{\"signal\": \"(data(\\\"data_0_color_domain_Tamanho de Efeito\\\")[0] || {}).min\"}, {\"signal\": \"(data(\\\"data_0_color_domain_Tamanho de Efeito\\\")[0] || {}).max\"}], \"range\": {\"scheme\": \"lightgreyteal\"}, \"zero\": false, \"interpolate\": \"hcl\"}], \"axes\": [{\"scale\": \"x\", \"orient\": \"bottom\", \"title\": \"Etapa do Ciclo Eleitoral\", \"labelBaseline\": \"top\", \"labelAlign\": \"right\", \"grid\": false, \"zindex\": 1}, {\"scale\": \"y\", \"labelAlign\": \"right\", \"grid\": false, \"title\": \"Etapa do Ciclo Eleitoral\", \"zindex\": 1, \"orient\": \"left\"}], \"title\": {\"text\": \"Matriz de Tamanho de Efeito entre Etapas do Ciclo Eleitoral\", \"frame\": \"group\"}, \"width\": 400, \"padding\": 5, \"background\": \"rgba(0, 0, 0, 0)\", \"height\": 350, \"style\": \"cell\", \"legends\": [{\"fill\": \"color\", \"gradientLength\": {\"signal\": \"clamp(height, 64, 200)\"}, \"title\": \"Tamanho de Efeito\"}], \"config\": {\"axis\": {\"labelAngle\": -45}, \"style\": {\"cell\": {\"fill\": \"white\"}}}}, {\"mode\": \"vega\"});\n",
       "</script>"
      ],
      "text/plain": [
       "alt.LayerChart(...)"
      ]
     },
     "metadata": {},
     "output_type": "display_data"
    }
   ],
   "source": [
    "#@title .\n",
    "# Remover a coluna '0' e a linha '0' da matriz de tamanhos de efeito\n",
    "effect_size_matrix_filtered = effect_size_matrix.drop(index='0', columns='0')\n",
    "\n",
    "# Transformar a matriz filtrada em formato longo\n",
    "effect_size_long_filtered = effect_size_matrix_filtered.reset_index().melt(\n",
    "    id_vars='index',\n",
    "    var_name='Grupo 2',\n",
    "    value_name='Tamanho de Efeito'\n",
    ")\n",
    "effect_size_long_filtered.rename(columns={'index': 'Grupo 1'}, inplace=True)\n",
    "\n",
    "import altair as alt\n",
    "\n",
    "# Criar o heatmap com a matriz filtrada\n",
    "heatmap = alt.Chart(effect_size_long_filtered).mark_rect().encode(\n",
    "    x=alt.X('Grupo 2:N', title='Etapa do Ciclo Eleitoral'),\n",
    "    y=alt.Y('Grupo 1:N', title='Etapa do Ciclo Eleitoral'),\n",
    "    color=alt.Color('Tamanho de Efeito:Q', scale=alt.Scale(scheme='lightgreyteal')),\n",
    "    tooltip=['Grupo 1', 'Grupo 2', alt.Tooltip('Tamanho de Efeito:Q', format='.4f')]\n",
    ").properties(\n",
    "    width=400,\n",
    "    height=350,\n",
    "    title='Matriz de Tamanho de Efeito entre Etapas do Ciclo Eleitoral'\n",
    ")\n",
    "\n",
    "# Adicionar os valores de tamanho de efeito como texto no heatmap\n",
    "text = alt.Chart(effect_size_long_filtered).mark_text(baseline='middle').encode(\n",
    "    x='Grupo 2:N',\n",
    "    y='Grupo 1:N',\n",
    "    text=alt.Text('Tamanho de Efeito:Q', format='.2f'),\n",
    ")\n",
    "\n",
    "# Combinar o heatmap e o texto\n",
    "vis = (heatmap + text).configure_title(\n",
    "    fontSize=18,\n",
    ").configure_axis(\n",
    "    labelFontSize=12,\n",
    "    titleFontSize=14,\n",
    "    labelAngle=-45\n",
    ").configure_legend(\n",
    "    labelFontSize=12,\n",
    "    titleFontSize=14\n",
    ").configure(\n",
    "    background=\"rgba(0, 0, 0, 0)\"\n",
    ").configure_view(\n",
    "    fill='white'\n",
    "\n",
    ").configure_axis(\n",
    "    labelAngle=-45\n",
    ")\n",
    "\n",
    "# Exibir o heatmap\n",
    "vis.display()\n"
   ]
  },
  {
   "cell_type": "markdown",
   "metadata": {
    "id": "V__L-sNMdNj3"
   },
   "source": [
    "# Further Explorations\n",
    "\n",
    "Para a segunda entrega, espera-se explorar como as variáveis estão distribuídas no espaço e no tempo. Busca-se comprender a autocorrelação espacial e encontrar padrões na Série.\n",
    "\n",
    "Além disso, explora-se técnicas de redução de dimensionalidade considerando as muitas variáveis categóricas. A partir das embeddings das categorias pode ser possível criar representações semânticas para as classes, possivelmente criando um espaço de dimensão pequena no qual haja agrupamentos dos contribuintes.\n",
    "\n"
   ]
  },
  {
   "cell_type": "markdown",
   "metadata": {
    "id": "kQqITg_7MrR2"
   },
   "source": [
    "# References\n",
    "\n",
    "Thomas, Tressy, and Enayat Rajabi. \"A systematic review of machine learning-based missing value imputation techniques.\" Data Technologies and Applications 55.4 (2021): 558-585.\n",
    "\n",
    "https://www.fec.gov/campaign-finance-data/\n",
    "committee-type-code-descriptions/  \n",
    "https://www.fec.gov/campaign-finance-data/transaction-type-code-descriptions/\n"
   ]
  }
 ],
 "metadata": {
  "colab": {
   "provenance": [],
   "toc_visible": true
  },
  "kernelspec": {
   "display_name": ".venv",
   "language": "python",
   "name": "python3"
  },
  "language_info": {
   "codemirror_mode": {
    "name": "ipython",
    "version": 3
   },
   "file_extension": ".py",
   "mimetype": "text/x-python",
   "name": "python",
   "nbconvert_exporter": "python",
   "pygments_lexer": "ipython3",
   "version": "3.9.13"
  }
 },
 "nbformat": 4,
 "nbformat_minor": 0
}
