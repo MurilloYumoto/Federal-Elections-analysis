{
 "cells": [
  {
   "cell_type": "markdown",
   "metadata": {},
   "source": [
    "#### Depencies"
   ]
  },
  {
   "cell_type": "code",
   "execution_count": 18,
   "metadata": {},
   "outputs": [],
   "source": [
    "import geopy\n",
    "import openml\n",
    "import pandas as pd\n",
    "import geopandas as gpd\n",
    "import glob\n",
    "\n",
    "from geopy.geocoders import Nominatim\n",
    "from concurrent.futures import ThreadPoolExecutor, as_completed\n",
    "import time\n",
    "from tqdm import tqdm\n",
    "import os"
   ]
  },
  {
   "cell_type": "markdown",
   "metadata": {},
   "source": [
    "# Data Profilling"
   ]
  },
  {
   "cell_type": "markdown",
   "metadata": {},
   "source": [
    "## **An Exploratory Data Analysis of U.S Individual Donations for Political Campaigs**\n",
    "\n",
    "\n",
    "---\n",
    "A Comissão Federal de Eleições (FEC) é uma agência independente que visa mediar e regular o financiamente de campanhas presidencias dos EUA. Sob o pretexto de registrar cada doação dos cidadãos, criou-se a base que será aqui trabalhada. A partir das bibliotecas **Vega-Altair** e **Plotly**, explora-se a criação de visualizações para compreender e investigar o comportamento das contribuições políticas ao redor do país.\n",
    "\n",
    "\n",
    "---\n",
    "\n",
    "\n",
    "\n",
    "### **As variáveis da base**\n",
    "\n",
    "#### Variáveis Preditivas\n",
    "\n",
    "* **cmte_id**: ID do comite para o qual a contribuição foi feita. Cada comitê possui um identificador único. Neste dataset estão presentes 7112 comites diferentes.\n",
    "\n",
    "* **amndt_ind**: Indicador de Emenda. Tal variável é usada para mostrar se uma transação ou um registro é uma emenda a um registro anteriormente apresentado, sendo classificada por uma das três opções:\n",
    "  * N - Novo registro;\n",
    "\n",
    "  * A - Emenda a um registro anterior;\n",
    "  * C - Correção/alteração num registro.\n",
    "\n",
    "* **rpt_tp**: Tipo de Relatório de contribuição do Comitê ao qual o contribuinte está associado. Seus tipos são comumente diferenciados pela sua recorrência(mensal, trimestral, pré-eleição e etc).\n",
    "\n",
    "* **transaction_pgi**: Indicador referente a qual etapa do ciclo eleitoral a contribuição em questão está associada.\n",
    "  *  G - General Election, fase final do ciclo, onde um candidato é eleito para o cargo\n",
    "  *  P - Primary Election, refere-se às eleições que são internas aos partidos\n",
    "  *  S - Special Election, eleições convocadas fora do ciclo eleitoral regular para preencher vagas inesperadas\n",
    "  *  E - Election,\n",
    "  *  C - Convenction, Convenções Partidárias, que podem ser usadas para selecionar candidatos ou tomar outras decisões internas do partido.\n",
    "  * O - Other,\n",
    "\n",
    "  * R - Runoff Election (Segundo Turno)\n",
    "\n",
    "  * 0 - ??\n",
    "\n",
    "* **image_num**: Identificador único associado à imagem digitalizada do relatório financeiro.\n",
    "\n",
    "* **transaction_tp**\n",
    "  * 10 - Contribuição Financeira direta de um indivíduo ou entidade para um comitê de campanha de um candidato\n",
    "  * 11 - Contribuição de uma Tribo Nativa\n",
    "  * 15 - Contribuição financeira direta feita por um indivíduo, sociedade ou LLC (Empresa de responsabilidade limitada) para comitês políticos tradicionais, excluindo Super PACs e Hybrid PACs.\n",
    "  * 15C - Contribuição de candidatos\n",
    "  * 15E - Contribuições Direcionadas feitas por indivíduos, sociedades ou LLC para comitês políticos tradicionais\n",
    "  * 19 - Doação para comunicação eleitoral\n",
    "\n",
    "  * 20Y - Reembolso de Fundos não Eleitorais. Devolução de fundos que foram originalmente atribuídos a atividades não eleitorais.\n",
    "  * 21Y - Reembolso de uma Tribo Nativa\n",
    "  * 22Y - Reembolso de uma contribuição de uma indivíduo, parceiros ou uma empresa de responsabilidade limitada\n",
    "  * 24I - Contribuição Direcionada por cheque\n",
    "  * 24T - Contribuição Direcionada utilizando fundos do tesouro do comitê intermediário\n",
    "\n",
    "* **entity_tp**\n",
    "  * IND - Individual\n",
    "  * ORG - Organização\n",
    "  * CCM - Comitê do Candidato\n",
    "  * PAC - Comitê de Ação Política\n",
    "  * CAN - Candidato\n",
    "  * COM - Comitê\n",
    "\n",
    "  * PTY - Comitê Oficial do Partido\n",
    "\n",
    "* **name** - Nome do Contribuinte\n",
    "* **city** - Cidade do Contribuinte\n",
    "\n",
    "* **state** - Estado do Contribuinte\n",
    "\n",
    "* **zip_code** - Código Postal do Contribuinte\n",
    "\n",
    "* **employer** - Empregador do Contribuinte\n",
    "\n",
    "* **ocuppation** - Emprego do Contribuinte\n",
    "\n",
    "* **transaction_dt** - Data de transação das contribuições\n",
    "\n",
    "* **other_id** - ID de identificação de uma terceira parte envolvida na transação\n",
    "\n",
    "* **tran_id** - ID único da transação\n",
    "\n",
    "* **file_num** - Número do arquivo\n",
    "\n",
    "* **memo_cd** - Identificador associado a presença de um memorando na transação, o qual fornece um contexto adicional à transação\n",
    "\n",
    "* **memo_text** - Texto do memorando\n",
    "\n",
    "*  **sub_id** - Identificador de submissão\n",
    "\n",
    "#### Variável Alvo\n",
    "* **transaction_amt**: O valor da transação em dólares. Indica a quantidade de dinheiro envolvida em uma contrbuição individual para campanhas políticas.\n",
    "\n",
    "Assim, o dataset é composto por 5 variáveis de Identificação única, 13 variáveis categóricas, uma variável de texto, uma variável de data e uma varável numérica (alvo)\n",
    "\n"
   ]
  },
  {
   "cell_type": "code",
   "execution_count": 2,
   "metadata": {},
   "outputs": [],
   "source": [
    "dataset = openml.datasets.get_dataset(42080)\n",
    "df, _, _, _ = dataset.get_data(dataset_format='dataframe')\n",
    "path_shapefile = \"cb_2018_us_state_500k\\cb_2018_us_state_500k.shp\"\n",
    "\n",
    "state_boundaries = gpd.read_file(path_shapefile, columns=['STUSPS', 'NAME', 'geometry'])\n",
    "state_boundaries.rename(columns={'STUSPS': 'state',\n",
    "                           'Name': 'state_name'}, inplace=True)\n",
    "\n",
    "df_EUA = state_boundaries.merge(df, on='state', how='inner')"
   ]
  },
  {
   "cell_type": "code",
   "execution_count": 3,
   "metadata": {},
   "outputs": [
    {
     "data": {
      "text/plain": [
       "(3348209, 21)"
      ]
     },
     "execution_count": 3,
     "metadata": {},
     "output_type": "execute_result"
    }
   ],
   "source": [
    "df.shape"
   ]
  },
  {
   "cell_type": "code",
   "execution_count": 4,
   "metadata": {},
   "outputs": [
    {
     "name": "stdout",
     "output_type": "stream",
     "text": [
      "tran_id            2999272\n",
      "name               1534998\n",
      "employer            657449\n",
      "occupation          145304\n",
      "zip_code             86334\n",
      "city                 27709\n",
      "cmte_id               7112\n",
      "other_id              2543\n",
      "state                   67\n",
      "rpt_tp                  26\n",
      "transaction_tp          11\n",
      "transaction_pgi          8\n",
      "entity_tp                7\n",
      "amndt_ind                3\n",
      "memo_cd                  2\n",
      "dtype: int64\n"
     ]
    }
   ],
   "source": [
    "# Número de categorias únicas das variáveis categóricas\n",
    "categorical_cols = df.select_dtypes(include='object')\n",
    "num_categories = categorical_cols.nunique().sort_values(ascending=False)\n",
    "print(num_categories)"
   ]
  },
  {
   "cell_type": "markdown",
   "metadata": {},
   "source": [
    "# Preprocessing"
   ]
  },
  {
   "cell_type": "code",
   "execution_count": 5,
   "metadata": {},
   "outputs": [
    {
     "name": "stdout",
     "output_type": "stream",
     "text": [
      "memo_cd            97.314325\n",
      "other_id           92.992313\n",
      "memo_text          87.438747\n",
      "transaction_pgi    28.104966\n",
      "employer           10.371216\n",
      "occupation          5.546966\n",
      "state               0.258556\n",
      "city                0.064990\n",
      "entity_tp           0.042948\n",
      "transaction_dt      0.010573\n",
      "tran_id             0.009766\n",
      "name                0.004211\n",
      "file_num            0.000030\n",
      "dtype: float64\n"
     ]
    }
   ],
   "source": [
    "#Percentual de Dados Faltantes\n",
    "missing_percent = df.isna().sum().sort_values(ascending=False) / df.shape[0] * 100\n",
    "missing_percent = missing_percent[missing_percent > 0]\n",
    "print(missing_percent)"
   ]
  },
  {
   "cell_type": "code",
   "execution_count": 6,
   "metadata": {},
   "outputs": [
    {
     "data": {
      "text/html": [
       "<div>\n",
       "<style scoped>\n",
       "    .dataframe tbody tr th:only-of-type {\n",
       "        vertical-align: middle;\n",
       "    }\n",
       "\n",
       "    .dataframe tbody tr th {\n",
       "        vertical-align: top;\n",
       "    }\n",
       "\n",
       "    .dataframe thead th {\n",
       "        text-align: right;\n",
       "    }\n",
       "</style>\n",
       "<table border=\"1\" class=\"dataframe\">\n",
       "  <thead>\n",
       "    <tr style=\"text-align: right;\">\n",
       "      <th></th>\n",
       "      <th>occupation</th>\n",
       "      <th>employer</th>\n",
       "      <th>transaction_pgi</th>\n",
       "      <th>memo_cd</th>\n",
       "      <th>memo_text</th>\n",
       "      <th>other_id</th>\n",
       "      <th>count</th>\n",
       "    </tr>\n",
       "  </thead>\n",
       "  <tbody>\n",
       "    <tr>\n",
       "      <th>7</th>\n",
       "      <td>0</td>\n",
       "      <td>0</td>\n",
       "      <td>0</td>\n",
       "      <td>1</td>\n",
       "      <td>1</td>\n",
       "      <td>1</td>\n",
       "      <td>1890857</td>\n",
       "    </tr>\n",
       "    <tr>\n",
       "      <th>15</th>\n",
       "      <td>0</td>\n",
       "      <td>0</td>\n",
       "      <td>1</td>\n",
       "      <td>1</td>\n",
       "      <td>1</td>\n",
       "      <td>1</td>\n",
       "      <td>683124</td>\n",
       "    </tr>\n",
       "    <tr>\n",
       "      <th>54</th>\n",
       "      <td>1</td>\n",
       "      <td>1</td>\n",
       "      <td>0</td>\n",
       "      <td>1</td>\n",
       "      <td>1</td>\n",
       "      <td>1</td>\n",
       "      <td>140372</td>\n",
       "    </tr>\n",
       "    <tr>\n",
       "      <th>5</th>\n",
       "      <td>0</td>\n",
       "      <td>0</td>\n",
       "      <td>0</td>\n",
       "      <td>1</td>\n",
       "      <td>0</td>\n",
       "      <td>1</td>\n",
       "      <td>93993</td>\n",
       "    </tr>\n",
       "    <tr>\n",
       "      <th>23</th>\n",
       "      <td>0</td>\n",
       "      <td>1</td>\n",
       "      <td>0</td>\n",
       "      <td>1</td>\n",
       "      <td>1</td>\n",
       "      <td>1</td>\n",
       "      <td>88439</td>\n",
       "    </tr>\n",
       "    <tr>\n",
       "      <th>4</th>\n",
       "      <td>0</td>\n",
       "      <td>0</td>\n",
       "      <td>0</td>\n",
       "      <td>1</td>\n",
       "      <td>0</td>\n",
       "      <td>0</td>\n",
       "      <td>85737</td>\n",
       "    </tr>\n",
       "    <tr>\n",
       "      <th>12</th>\n",
       "      <td>0</td>\n",
       "      <td>0</td>\n",
       "      <td>1</td>\n",
       "      <td>1</td>\n",
       "      <td>0</td>\n",
       "      <td>0</td>\n",
       "      <td>80218</td>\n",
       "    </tr>\n",
       "    <tr>\n",
       "      <th>13</th>\n",
       "      <td>0</td>\n",
       "      <td>0</td>\n",
       "      <td>1</td>\n",
       "      <td>1</td>\n",
       "      <td>0</td>\n",
       "      <td>1</td>\n",
       "      <td>60084</td>\n",
       "    </tr>\n",
       "    <tr>\n",
       "      <th>31</th>\n",
       "      <td>0</td>\n",
       "      <td>1</td>\n",
       "      <td>1</td>\n",
       "      <td>1</td>\n",
       "      <td>1</td>\n",
       "      <td>1</td>\n",
       "      <td>52315</td>\n",
       "    </tr>\n",
       "    <tr>\n",
       "      <th>1</th>\n",
       "      <td>0</td>\n",
       "      <td>0</td>\n",
       "      <td>0</td>\n",
       "      <td>0</td>\n",
       "      <td>0</td>\n",
       "      <td>1</td>\n",
       "      <td>47905</td>\n",
       "    </tr>\n",
       "    <tr>\n",
       "      <th>62</th>\n",
       "      <td>1</td>\n",
       "      <td>1</td>\n",
       "      <td>1</td>\n",
       "      <td>1</td>\n",
       "      <td>1</td>\n",
       "      <td>1</td>\n",
       "      <td>23054</td>\n",
       "    </tr>\n",
       "    <tr>\n",
       "      <th>6</th>\n",
       "      <td>0</td>\n",
       "      <td>0</td>\n",
       "      <td>0</td>\n",
       "      <td>1</td>\n",
       "      <td>1</td>\n",
       "      <td>0</td>\n",
       "      <td>12113</td>\n",
       "    </tr>\n",
       "    <tr>\n",
       "      <th>20</th>\n",
       "      <td>0</td>\n",
       "      <td>1</td>\n",
       "      <td>0</td>\n",
       "      <td>1</td>\n",
       "      <td>0</td>\n",
       "      <td>0</td>\n",
       "      <td>10334</td>\n",
       "    </tr>\n",
       "    <tr>\n",
       "      <th>8</th>\n",
       "      <td>0</td>\n",
       "      <td>0</td>\n",
       "      <td>1</td>\n",
       "      <td>0</td>\n",
       "      <td>0</td>\n",
       "      <td>0</td>\n",
       "      <td>10022</td>\n",
       "    </tr>\n",
       "    <tr>\n",
       "      <th>14</th>\n",
       "      <td>0</td>\n",
       "      <td>0</td>\n",
       "      <td>1</td>\n",
       "      <td>1</td>\n",
       "      <td>1</td>\n",
       "      <td>0</td>\n",
       "      <td>9442</td>\n",
       "    </tr>\n",
       "  </tbody>\n",
       "</table>\n",
       "</div>"
      ],
      "text/plain": [
       "    occupation  employer  transaction_pgi  memo_cd  memo_text  other_id  \\\n",
       "7            0         0                0        1          1         1   \n",
       "15           0         0                1        1          1         1   \n",
       "54           1         1                0        1          1         1   \n",
       "5            0         0                0        1          0         1   \n",
       "23           0         1                0        1          1         1   \n",
       "4            0         0                0        1          0         0   \n",
       "12           0         0                1        1          0         0   \n",
       "13           0         0                1        1          0         1   \n",
       "31           0         1                1        1          1         1   \n",
       "1            0         0                0        0          0         1   \n",
       "62           1         1                1        1          1         1   \n",
       "6            0         0                0        1          1         0   \n",
       "20           0         1                0        1          0         0   \n",
       "8            0         0                1        0          0         0   \n",
       "14           0         0                1        1          1         0   \n",
       "\n",
       "      count  \n",
       "7   1890857  \n",
       "15   683124  \n",
       "54   140372  \n",
       "5     93993  \n",
       "23    88439  \n",
       "4     85737  \n",
       "12    80218  \n",
       "13    60084  \n",
       "31    52315  \n",
       "1     47905  \n",
       "62    23054  \n",
       "6     12113  \n",
       "20    10334  \n",
       "8     10022  \n",
       "14     9442  "
      ]
     },
     "execution_count": 6,
     "metadata": {},
     "output_type": "execute_result"
    }
   ],
   "source": [
    "#Co-ocorrência das variáveis com valores faltantes significantes\n",
    "significant_missing_columns = ['occupation', 'employer', 'transaction_pgi', 'memo_cd', 'memo_text', 'other_id']\n",
    "co_occur = df[significant_missing_columns].isna().astype(int)\n",
    "co_occur_agg = co_occur.groupby(significant_missing_columns).size().reset_index(name='count').sort_values(by='count', ascending=False)\n",
    "co_occur_agg.head(15)"
   ]
  },
  {
   "cell_type": "code",
   "execution_count": 7,
   "metadata": {},
   "outputs": [
    {
     "data": {
      "text/html": [
       "<div>\n",
       "<style scoped>\n",
       "    .dataframe tbody tr th:only-of-type {\n",
       "        vertical-align: middle;\n",
       "    }\n",
       "\n",
       "    .dataframe tbody tr th {\n",
       "        vertical-align: top;\n",
       "    }\n",
       "\n",
       "    .dataframe thead th {\n",
       "        text-align: right;\n",
       "    }\n",
       "</style>\n",
       "<table border=\"1\" class=\"dataframe\">\n",
       "  <thead>\n",
       "    <tr style=\"text-align: right;\">\n",
       "      <th></th>\n",
       "      <th>occupation</th>\n",
       "      <th>employer</th>\n",
       "      <th>count</th>\n",
       "    </tr>\n",
       "  </thead>\n",
       "  <tbody>\n",
       "    <tr>\n",
       "      <th>0</th>\n",
       "      <td>0</td>\n",
       "      <td>0</td>\n",
       "      <td>2994621</td>\n",
       "    </tr>\n",
       "    <tr>\n",
       "      <th>3</th>\n",
       "      <td>1</td>\n",
       "      <td>1</td>\n",
       "      <td>179386</td>\n",
       "    </tr>\n",
       "    <tr>\n",
       "      <th>1</th>\n",
       "      <td>0</td>\n",
       "      <td>1</td>\n",
       "      <td>167864</td>\n",
       "    </tr>\n",
       "    <tr>\n",
       "      <th>2</th>\n",
       "      <td>1</td>\n",
       "      <td>0</td>\n",
       "      <td>6338</td>\n",
       "    </tr>\n",
       "  </tbody>\n",
       "</table>\n",
       "</div>"
      ],
      "text/plain": [
       "   occupation  employer    count\n",
       "0           0         0  2994621\n",
       "3           1         1   179386\n",
       "1           0         1   167864\n",
       "2           1         0     6338"
      ]
     },
     "execution_count": 7,
     "metadata": {},
     "output_type": "execute_result"
    }
   ],
   "source": [
    "#Co-ocorrência das variáveis com dados faltantes que podem ser imputadas\n",
    "significant_missing_columns = ['occupation', 'employer']\n",
    "co_occur = df[significant_missing_columns].isna().astype(int)\n",
    "co_occur_agg = co_occur.groupby(significant_missing_columns).size().reset_index(name='count').sort_values(by='count', ascending=False)\n",
    "co_occur_agg.head(15)"
   ]
  },
  {
   "cell_type": "code",
   "execution_count": 8,
   "metadata": {},
   "outputs": [],
   "source": [
    "# Exclui-se as variáveis de indentificadores únicos\n",
    "df.drop(columns=['name', 'sub_id', 'tran_id', 'image_num'], inplace=True)\n",
    "\n",
    "# Exclui-se as variáveis 'memo_cd', 'other_id', 'memo_text'\n",
    "df.drop(columns=['memo_cd', 'other_id', 'memo_text'], inplace=True)\n",
    "\n",
    "colunas_com_poucos_dados_faltantes = [\"state\", \"city\", \"entity_tp\", \"transaction_dt\", \"file_num\"]\n",
    "df = df.dropna(subset=colunas_com_poucos_dados_faltantes)\n",
    "df['transaction_pgi'] = df['transaction_pgi'].fillna(\"Desconhecido\")"
   ]
  },
  {
   "cell_type": "markdown",
   "metadata": {},
   "source": [
    "## Geocoding from zip codes"
   ]
  },
  {
   "cell_type": "code",
   "execution_count": null,
   "metadata": {},
   "outputs": [],
   "source": [
    "geolocator = Nominatim(user_agent=\"zip_code_locator\")\n",
    "\n",
    "# Cache para armazenar os resultados de ZIP codes já consultados\n",
    "cache = {}\n",
    "\n",
    "def get_location_from_zip(zip_code, max_retries=5):\n",
    "    if zip_code in cache:\n",
    "        print(f\"zip code: {zip_code} já processado.\")\n",
    "        return zip_code, *cache[zip_code]\n",
    "    \n",
    "    # Implementar retentativas\n",
    "    for attempt in range(max_retries):\n",
    "        try:\n",
    "            location = geolocator.geocode({\"postalcode\": zip_code, \"country\": \"USA\"})\n",
    "            if location:\n",
    "                result = (location.latitude, location.longitude, location.address.split(',')[1].strip())\n",
    "                cache[zip_code] = result\n",
    "                time.sleep(1.5)  # Reduz carga no serviço gratuito\n",
    "                return zip_code, *result\n",
    "        except Exception as e:\n",
    "            print(f\"Erro na tentativa {attempt + 1} para o ZIP code {zip_code}: {e}\")\n",
    "            time.sleep(2 ** attempt)  # Espera progressiva (backoff exponencial)\n",
    "    \n",
    "    # Retornar None se todas as tentativas falharem\n",
    "    return zip_code, None, None, None\n"
   ]
  },
  {
   "cell_type": "code",
   "execution_count": 26,
   "metadata": {},
   "outputs": [
    {
     "name": "stdout",
     "output_type": "stream",
     "text": [
      "Chunk 1 já processado. Pulando...\n",
      "Chunk 2 já processado. Pulando...\n",
      "Chunk 3 já processado. Pulando...\n",
      "Chunk 4 já processado. Pulando...\n"
     ]
    },
    {
     "name": "stderr",
     "output_type": "stream",
     "text": [
      "Processando chunk 5:   0%|          | 0/2000 [00:00<?, ?it/s]"
     ]
    },
    {
     "name": "stdout",
     "output_type": "stream",
     "text": [
      "zip code: 98204 já processado.\n",
      "zip code: 33915 já processado.\n",
      "zip code: 46055 já processado.\n",
      "zip code: 46507 já processado.\n",
      "zip code: 46540 já processado.\n",
      "zip code: 46637 já processado.\n",
      "zip code: 46614 já processado.\n",
      "zip code: 46617 já processado.\n",
      "zip code: 46176 já processado.\n",
      "zip code: 89128 já processado.\n",
      "zip code: 17837 já processado.\n",
      "zip code: 37663 já processado.\n",
      "zip code: 29206 já processado.\n",
      "zip code: 44710 já processado.\n",
      "zip code: 46163 já processado.\n",
      "zip code: 32115 já processado.\n",
      "zip code: 32169 já processado.\n",
      "zip code: 32176 já processado.\n",
      "zip code: 01741 já processado.\n",
      "zip code: 49505 já processado.\n",
      "zip code: 92782 já processado.\n",
      "zip code: 30621 já processado.\n",
      "zip code: 98684 já processado.\n",
      "zip code: 37916 já processado.\n",
      "zip code: 10467 já processado.\n",
      "zip code: 30622 já processado.\n",
      "zip code: 76104 já processado.\n"
     ]
    },
    {
     "name": "stderr",
     "output_type": "stream",
     "text": [
      "Processando chunk 5:   1%|▏         | 28/2000 [00:02<03:25,  9.58it/s]"
     ]
    },
    {
     "name": "stdout",
     "output_type": "stream",
     "text": [
      "zip code: 33446 já processado.\n",
      "zip code: 33901 já processado.\n",
      "zip code: 29506 já processado.\n",
      "zip code: 80908 já processado.\n",
      "zip code: 33130 já processado.\n",
      "zip code: 16365 já processado.\n",
      "zip code: 02215 já processado.\n",
      "zip code: 98664 já processado.\n",
      "zip code: 91786 já processado.\n",
      "zip code: 22656 já processado.\n",
      "zip code: 98195 já processado.\n"
     ]
    },
    {
     "name": "stderr",
     "output_type": "stream",
     "text": [
      "Processando chunk 5:   2%|▏         | 40/2000 [00:05<04:47,  6.81it/s]"
     ]
    },
    {
     "name": "stdout",
     "output_type": "stream",
     "text": [
      "zip code: 72210 já processado.\n",
      "zip code: 75763 já processado.\n",
      "zip code: 75706 já processado.\n",
      "zip code: 78861 já processado.\n",
      "zip code: 78666 já processado.\n",
      "zip code: 75840 já processado.\n",
      "zip code: 75766 já processado.\n",
      "zip code: 56723 já processado.\n",
      "zip code: 56517 já processado.\n",
      "zip code: 56535 já processado.\n",
      "zip code: 56733 já processado.\n",
      "zip code: 56721 já processado.\n",
      "zip code: 56728 já processado.\n",
      "zip code: 56510 já processado.\n",
      "zip code: 56722 já processado.\n",
      "zip code: 56523 já processado.\n",
      "zip code: 58045 já processado.\n",
      "zip code: 56574 já processado.\n",
      "zip code: 55409 já processado.\n",
      "zip code: 56550 já processado.\n",
      "zip code: 58243 já processado.\n",
      "zip code: 58223 já processado.\n",
      "zip code: 56542 já processado.\n",
      "zip code: 58218 já processado.\n",
      "zip code: 56713 já processado.\n",
      "zip code: 56545 já processado.\n",
      "zip code: 58233 já processado.\n",
      "zip code: 56581 já processado.\n",
      "zip code: 58036 já processado.\n",
      "zip code: 56762 já processado.\n",
      "zip code: 97080 já processado.\n",
      "zip code: 98671 já processado.\n",
      "zip code: 47150 já processado.\n",
      "zip code: 76108 já processado.\n",
      "zip code: 54650 já processado.\n",
      "zip code: 94560 já processado.\n",
      "zip code: 90290 já processado.\n",
      "zip code: 90032 já processado.\n",
      "zip code: 64701 já processado.\n",
      "zip code: 64130 já processado.\n",
      "zip code: 50703 já processado.\n",
      "zip code: 52206 já processado.\n",
      "zip code: 71701 já processado.\n",
      "zip code: 74766 já processado.\n",
      "zip code: 83335 já processado.\n",
      "zip code: 83341 já processado.\n",
      "zip code: 33825 já processado.\n"
     ]
    },
    {
     "name": "stderr",
     "output_type": "stream",
     "text": [
      "Processando chunk 5:   4%|▍         | 88/2000 [00:07<02:35, 12.32it/s]"
     ]
    },
    {
     "name": "stdout",
     "output_type": "stream",
     "text": [
      "zip code: 27103 já processado.\n",
      "zip code: 27040 já processado.\n",
      "zip code: 56258 já processado.\n",
      "zip code: 50310 já processado.\n",
      "zip code: 52233 já processado.\n",
      "zip code: 50511 já processado.\n",
      "zip code: 57106 já processado.\n",
      "zip code: 68521 já processado.\n",
      "zip code: 52002 já processado.\n",
      "zip code: 50327 já processado.\n",
      "zip code: 63501 já processado.\n",
      "zip code: 50211 já processado.\n",
      "zip code: 50588 já processado.\n",
      "zip code: 50643 já processado.\n",
      "zip code: 50126 já processado.\n",
      "zip code: 64055 já processado.\n",
      "zip code: 52302 já processado.\n",
      "zip code: 51401 já processado.\n",
      "zip code: 68510 já processado.\n",
      "zip code: 57033 já processado.\n",
      "zip code: 66212 já processado.\n",
      "zip code: 55932 já processado.\n",
      "zip code: 50129 já processado.\n",
      "zip code: 51351 já processado.\n",
      "zip code: 56031 já processado.\n",
      "zip code: 66210 já processado.\n"
     ]
    },
    {
     "name": "stderr",
     "output_type": "stream",
     "text": [
      "Processando chunk 5:   6%|▌         | 115/2000 [00:10<02:42, 11.62it/s]"
     ]
    },
    {
     "name": "stdout",
     "output_type": "stream",
     "text": [
      "zip code: 46259 já processado.\n",
      "zip code: 98024 já processado.\n",
      "zip code: 36421 já processado.\n",
      "zip code: 47959 já processado.\n",
      "zip code: 80109 já processado.\n",
      "zip code: 98015 já processado.\n",
      "zip code: 46996 já processado.\n",
      "zip code: 17266 já processado.\n",
      "zip code: 49083 já processado.\n"
     ]
    },
    {
     "name": "stderr",
     "output_type": "stream",
     "text": [
      "Processando chunk 5:   6%|▋         | 125/2000 [00:12<03:26,  9.06it/s]"
     ]
    },
    {
     "name": "stdout",
     "output_type": "stream",
     "text": [
      "zip code: 28816 já processado.\n",
      "zip code: 98372 já processado.\n",
      "zip code: 98409 já processado.\n",
      "zip code: 62087 já processado.\n",
      "zip code: 48362 já processado.\n",
      "zip code: 48370 já processado.\n",
      "zip code: 48381 já processado.\n",
      "zip code: 48130 já processado.\n",
      "zip code: 48335 já processado.\n",
      "zip code: 48197 já processado.\n",
      "zip code: 48114 já processado.\n",
      "zip code: 26105 já processado.\n",
      "zip code: 24701 já processado.\n",
      "zip code: 32802 já processado.\n",
      "zip code: 54401 já processado.\n",
      "zip code: 94132 já processado.\n",
      "zip code: 00850 já processado.\n",
      "zip code: 00824 já processado.\n",
      "zip code: 67202 já processado.\n",
      "zip code: 89451 já processado.\n",
      "zip code: 31419 já processado.\n",
      "zip code: 78004 já processado.\n",
      "zip code: 18064 já processado.\n",
      "zip code: 07003 já processado.\n",
      "zip code: 00804 já processado.\n",
      "zip code: 14580 já processado.\n",
      "zip code: 84103 já processado.\n",
      "zip code: 10502 já processado.\n",
      "zip code: 33122 já processado.\n",
      "zip code: 54217 já processado.\n",
      "zip code: 33127 já processado.\n",
      "zip code: 34655 já processado.\n",
      "zip code: 83204 já processado.\n",
      "zip code: 72702 já processado.\n",
      "zip code: 10312 já processado.\n",
      "zip code: 63109 já processado.\n",
      "zip code: 63028 já processado.\n",
      "zip code: 61270 já processado.\n"
     ]
    },
    {
     "name": "stderr",
     "output_type": "stream",
     "text": [
      "Processando chunk 5:   8%|▊         | 164/2000 [00:15<02:45, 11.09it/s]"
     ]
    },
    {
     "name": "stdout",
     "output_type": "stream",
     "text": [
      "zip code: 63125 já processado.\n",
      "zip code: 63050 já processado.\n",
      "zip code: 40820 já processado.\n",
      "zip code: 03244 já processado.\n",
      "zip code: 03842 já processado.\n",
      "zip code: 31603 já processado.\n",
      "zip code: 95953 já processado.\n",
      "zip code: 30650 já processado.\n",
      "zip code: 30265 já processado.\n",
      "zip code: 31631 já processado.\n",
      "zip code: 31768 já processado.\n",
      "zip code: 31040 já processado.\n",
      "zip code: 31069 já processado.\n",
      "zip code: 31064 já processado.\n",
      "zip code: 31204 já processado.\n",
      "zip code: 31030 já processado.\n",
      "zip code: 21601 já processado.\n",
      "zip code: 30523 já processado.\n",
      "zip code: 31706 já processado.\n",
      "zip code: 31561 já processado.\n",
      "zip code: 32205 já processado.\n",
      "zip code: 87557 já processado.\n",
      "zip code: 30312 já processado.\n",
      "zip code: 96732 já processado.\n",
      "zip code: 97140 já processado.\n",
      "zip code: 77354 já processado.\n",
      "zip code: 77301 já processado.\n",
      "zip code: 77385 já processado.\n",
      "zip code: 77447 já processado.\n",
      "zip code: 77384 já processado.\n",
      "zip code: 19565 já processado.\n",
      "zip code: 98188 já processado.\n",
      "zip code: 97838 já processado.\n",
      "zip code: 11225 já processado.\n",
      "zip code: 33906 já processado.\n"
     ]
    },
    {
     "name": "stderr",
     "output_type": "stream",
     "text": [
      "Processando chunk 5:  10%|█         | 200/2000 [00:18<02:27, 12.21it/s]"
     ]
    },
    {
     "name": "stdout",
     "output_type": "stream",
     "text": [
      "zip code: 33430 já processado.\n",
      "zip code: 32903 já processado.\n",
      "zip code: 32968 já processado.\n",
      "zip code: 32333 já processado.\n",
      "zip code: 33186 já processado.\n",
      "zip code: 34982 já processado.\n",
      "zip code: 33330 já processado.\n",
      "zip code: 32266 já processado.\n",
      "zip code: 34230 já processado.\n",
      "zip code: 32119 já processado.\n",
      "zip code: 33647 já processado.\n",
      "zip code: 33314 já processado.\n",
      "zip code: 25430 já processado.\n",
      "zip code: 32311 já processado.\n",
      "zip code: 32226 já processado.\n",
      "zip code: 78739 já processado.\n",
      "zip code: 33175 já processado.\n",
      "zip code: 33898 já processado.\n",
      "zip code: 33029 já processado.\n"
     ]
    },
    {
     "name": "stderr",
     "output_type": "stream",
     "text": [
      "Processando chunk 5:  11%|█         | 220/2000 [00:20<02:42, 10.95it/s]"
     ]
    },
    {
     "name": "stdout",
     "output_type": "stream",
     "text": [
      "zip code: 33166 já processado.\n",
      "zip code: 33126 já processado.\n",
      "zip code: 33413 já processado.\n",
      "zip code: 32562 já processado.\n",
      "zip code: 48455 já processado.\n",
      "zip code: 33982 já processado.\n",
      "zip code: 34744 já processado.\n"
     ]
    },
    {
     "name": "stderr",
     "output_type": "stream",
     "text": [
      "Processando chunk 5:  11%|█▏        | 228/2000 [00:22<03:28,  8.50it/s]"
     ]
    },
    {
     "name": "stdout",
     "output_type": "stream",
     "text": [
      "zip code: 24077 já processado.\n",
      "zip code: 33403 já processado.\n"
     ]
    },
    {
     "name": "stderr",
     "output_type": "stream",
     "text": [
      "Processando chunk 5:  12%|█▏        | 231/2000 [00:25<04:42,  6.26it/s]"
     ]
    },
    {
     "name": "stdout",
     "output_type": "stream",
     "text": [
      "zip code: 33196 já processado.\n",
      "zip code: 33063 já processado.\n",
      "zip code: 33812 já processado.\n"
     ]
    },
    {
     "name": "stderr",
     "output_type": "stream",
     "text": [
      "Processando chunk 5:  12%|█▏        | 236/2000 [00:30<08:28,  3.47it/s]"
     ]
    },
    {
     "name": "stdout",
     "output_type": "stream",
     "text": [
      "zip code: 02066 já processado.\n",
      "zip code: 02035 já processado.\n",
      "zip code: 33193 já processado.\n",
      "zip code: 33823 já processado.\n",
      "zip code: 32967 já processado.\n",
      "zip code: 32724 já processado.\n",
      "zip code: 33167 já processado.\n",
      "zip code: 33189 já processado.\n",
      "zip code: 33135 já processado.\n",
      "zip code: 32780 já processado.\n",
      "zip code: 33306 já processado.\n",
      "zip code: 32904 já processado.\n",
      "zip code: 32344 já processado.\n",
      "zip code: 33181 já processado.\n"
     ]
    },
    {
     "name": "stderr",
     "output_type": "stream",
     "text": [
      "Processando chunk 5:  13%|█▎        | 253/2000 [00:37<11:58,  2.43it/s]"
     ]
    },
    {
     "name": "stdout",
     "output_type": "stream",
     "text": [
      "zip code: 32950 já processado.\n"
     ]
    },
    {
     "name": "stderr",
     "output_type": "stream",
     "text": [
      "Processando chunk 5:  13%|█▎        | 255/2000 [00:39<14:43,  1.97it/s]"
     ]
    },
    {
     "name": "stdout",
     "output_type": "stream",
     "text": [
      "zip code: 32680 já processado.\n",
      "zip code: 34952 já processado.\n",
      "zip code: 32502 já processado.\n",
      "zip code: 32591 já processado.\n"
     ]
    },
    {
     "name": "stderr",
     "output_type": "stream",
     "text": [
      "Processando chunk 5:  13%|█▎        | 260/2000 [00:42<14:29,  2.00it/s]"
     ]
    },
    {
     "name": "stdout",
     "output_type": "stream",
     "text": [
      "zip code: 33185 já processado.\n",
      "zip code: 33013 já processado.\n",
      "zip code: 33594 já processado.\n",
      "zip code: 32541 já processado.\n",
      "zip code: 33596 já processado.\n",
      "zip code: 32905 já processado.\n",
      "zip code: 32771 já processado.\n",
      "zip code: 32953 já processado.\n",
      "zip code: 33616 já processado.\n",
      "zip code: 32909 já processado.\n",
      "zip code: 32935 já processado.\n",
      "zip code: 32922 já processado.\n",
      "zip code: 33605 já processado.\n",
      "zip code: 33334 já processado.\n",
      "zip code: 34953 já processado.\n",
      "zip code: 32501 já processado.\n",
      "zip code: 33782 já processado.\n",
      "zip code: 34202 já processado.\n",
      "zip code: 32401 já processado.\n",
      "zip code: 29572 já processado.\n",
      "zip code: 33022 já processado.\n",
      "zip code: 34274 já processado.\n",
      "zip code: 78247 já processado.\n",
      "zip code: 33325 já processado.\n",
      "zip code: 34233 já processado.\n",
      "zip code: 34949 já processado.\n",
      "zip code: 32145 já processado.\n",
      "zip code: 33772 já processado.\n",
      "zip code: 34105 já processado.\n",
      "zip code: 33168 já processado.\n",
      "zip code: 72116 já processado.\n",
      "zip code: 29053 já processado.\n",
      "zip code: 32352 já processado.\n",
      "zip code: 33801 já processado.\n",
      "zip code: 33444 já processado.\n",
      "zip code: 34208 já processado.\n",
      "zip code: 33323 já processado.\n",
      "zip code: 33034 já processado.\n",
      "zip code: 33018 já processado.\n",
      "zip code: 32118 já processado.\n",
      "zip code: 35147 já processado.\n",
      "zip code: 34773 já processado.\n",
      "zip code: 32514 já processado.\n",
      "zip code: 34243 já processado.\n",
      "zip code: 32601 já processado.\n",
      "zip code: 33174 já processado.\n",
      "zip code: 33015 já processado.\n",
      "zip code: 33767 já processado.\n",
      "zip code: 33417 já processado.\n",
      "zip code: 33928 já processado.\n",
      "zip code: 33028 já processado.\n"
     ]
    },
    {
     "name": "stderr",
     "output_type": "stream",
     "text": [
      "Processando chunk 5:  16%|█▌        | 312/2000 [00:44<03:33,  7.89it/s]"
     ]
    },
    {
     "name": "stdout",
     "output_type": "stream",
     "text": [
      "zip code: 32609 já processado.\n",
      "zip code: 33144 já processado.\n",
      "zip code: 33509 já processado.\n",
      "zip code: 33402 já processado.\n",
      "zip code: 32696 já processado.\n",
      "zip code: 33137 já processado.\n",
      "zip code: 33547 já processado.\n",
      "zip code: 33023 já processado.\n",
      "zip code: 32617 já processado.\n",
      "zip code: 10523 já processado.\n",
      "zip code: 33770 já processado.\n",
      "zip code: 34221 já processado.\n",
      "zip code: 33010 já processado.\n",
      "zip code: 08203 já processado.\n"
     ]
    },
    {
     "name": "stderr",
     "output_type": "stream",
     "text": [
      "Processando chunk 5:  16%|█▋        | 328/2000 [00:49<05:21,  5.20it/s]"
     ]
    },
    {
     "name": "stdout",
     "output_type": "stream",
     "text": [
      "zip code: 72120 já processado.\n",
      "zip code: 34973 já processado.\n",
      "zip code: 32411 já processado.\n"
     ]
    },
    {
     "name": "stderr",
     "output_type": "stream",
     "text": [
      "Processando chunk 5:  17%|█▋        | 332/2000 [00:52<06:46,  4.10it/s]"
     ]
    },
    {
     "name": "stdout",
     "output_type": "stream",
     "text": [
      "zip code: 34234 já processado.\n",
      "zip code: 32776 já processado.\n",
      "zip code: 33317 já processado.\n",
      "zip code: 32120 já processado.\n",
      "zip code: 34428 já processado.\n"
     ]
    },
    {
     "name": "stderr",
     "output_type": "stream",
     "text": [
      "Processando chunk 5:  17%|█▋        | 338/2000 [00:54<07:43,  3.59it/s]"
     ]
    },
    {
     "name": "stdout",
     "output_type": "stream",
     "text": [
      "zip code: 18458 já processado.\n",
      "zip code: 32085 já processado.\n",
      "zip code: 34986 já processado.\n",
      "zip code: 33026 já processado.\n",
      "zip code: 38454 já processado.\n",
      "zip code: 34484 já processado.\n",
      "zip code: 32327 já processado.\n"
     ]
    },
    {
     "name": "stderr",
     "output_type": "stream",
     "text": [
      "Processando chunk 5:  17%|█▋        | 347/2000 [00:59<10:51,  2.54it/s]"
     ]
    },
    {
     "name": "stdout",
     "output_type": "stream",
     "text": [
      "zip code: 33056 já processado.\n",
      "zip code: 32686 já processado.\n",
      "zip code: 29102 já processado.\n"
     ]
    },
    {
     "name": "stderr",
     "output_type": "stream",
     "text": [
      "Processando chunk 5:  18%|█▊        | 351/2000 [01:02<12:09,  2.26it/s]"
     ]
    },
    {
     "name": "stdout",
     "output_type": "stream",
     "text": [
      "zip code: 33009 já processado.\n",
      "zip code: 33449 já processado.\n",
      "zip code: 32402 já processado.\n",
      "zip code: 32818 já processado.\n"
     ]
    },
    {
     "name": "stderr",
     "output_type": "stream",
     "text": [
      "Processando chunk 5:  18%|█▊        | 356/2000 [01:04<12:34,  2.18it/s]"
     ]
    },
    {
     "name": "stdout",
     "output_type": "stream",
     "text": [
      "zip code: 33905 já processado.\n",
      "zip code: 48363 já processado.\n",
      "zip code: 48502 já processado.\n",
      "zip code: 32310 já processado.\n",
      "zip code: 76802 já processado.\n",
      "zip code: 03261 já processado.\n",
      "zip code: 32927 já processado.\n",
      "zip code: 97504 já processado.\n",
      "zip code: 46221 já processado.\n",
      "zip code: 08829 já processado.\n",
      "zip code: 19136 já processado.\n",
      "zip code: 90277 já processado.\n"
     ]
    },
    {
     "name": "stderr",
     "output_type": "stream",
     "text": [
      "Processando chunk 5:  18%|█▊        | 369/2000 [01:07<08:49,  3.08it/s]"
     ]
    },
    {
     "name": "stdout",
     "output_type": "stream",
     "text": [
      "zip code: 76302 já processado.\n",
      "zip code: 76430 já processado.\n",
      "zip code: 76424 já processado.\n"
     ]
    },
    {
     "name": "stderr",
     "output_type": "stream",
     "text": [
      "Processando chunk 5:  19%|█▊        | 374/2000 [01:12<13:47,  1.97it/s]"
     ]
    },
    {
     "name": "stdout",
     "output_type": "stream",
     "text": [
      "zip code: 46814 já processado.\n"
     ]
    },
    {
     "name": "stderr",
     "output_type": "stream",
     "text": [
      "Processando chunk 5:  19%|█▉        | 376/2000 [01:14<16:40,  1.62it/s]"
     ]
    },
    {
     "name": "stdout",
     "output_type": "stream",
     "text": [
      "zip code: 73018 já processado.\n",
      "zip code: 36301 já processado.\n",
      "zip code: 36320 já processado.\n",
      "zip code: 90502 já processado.\n",
      "zip code: 90015 já processado.\n",
      "zip code: 70129 já processado.\n",
      "zip code: 26430 já processado.\n",
      "zip code: 95993 já processado.\n",
      "zip code: 76033 já processado.\n",
      "zip code: 79081 já processado.\n",
      "zip code: 79606 já processado.\n",
      "zip code: 79562 já processado.\n"
     ]
    },
    {
     "name": "stderr",
     "output_type": "stream",
     "text": [
      "Processando chunk 5:  20%|█▉        | 390/2000 [01:19<13:41,  1.96it/s]"
     ]
    },
    {
     "name": "stdout",
     "output_type": "stream",
     "text": [
      "zip code: 77318 já processado.\n",
      "zip code: 36533 já processado.\n",
      "zip code: 33069 já processado.\n",
      "zip code: 33132 já processado.\n",
      "zip code: 33036 já processado.\n",
      "zip code: 33025 já processado.\n",
      "zip code: 33162 já processado.\n"
     ]
    },
    {
     "name": "stderr",
     "output_type": "stream",
     "text": [
      "Processando chunk 5:  20%|█▉        | 399/2000 [01:24<14:58,  1.78it/s]"
     ]
    },
    {
     "name": "stdout",
     "output_type": "stream",
     "text": [
      "zip code: 35048 já processado.\n",
      "zip code: 33468 já processado.\n",
      "zip code: 33145 já processado.\n",
      "zip code: 33426 já processado.\n"
     ]
    },
    {
     "name": "stderr",
     "output_type": "stream",
     "text": [
      "Processando chunk 5:  20%|██        | 404/2000 [01:27<14:22,  1.85it/s]"
     ]
    },
    {
     "name": "stdout",
     "output_type": "stream",
     "text": [
      "zip code: 33434 já processado.\n",
      "zip code: 33068 já processado.\n",
      "zip code: 33266 já processado.\n",
      "zip code: 33351 já processado.\n"
     ]
    },
    {
     "name": "stderr",
     "output_type": "stream",
     "text": [
      "Processando chunk 5:  21%|██        | 411/2000 [01:34<23:22,  1.13it/s]"
     ]
    },
    {
     "name": "stdout",
     "output_type": "stream",
     "text": [
      "zip code: 20111 já processado.\n"
     ]
    },
    {
     "name": "stderr",
     "output_type": "stream",
     "text": [
      "Processando chunk 5:  21%|██        | 413/2000 [01:37<25:32,  1.04it/s]"
     ]
    },
    {
     "name": "stdout",
     "output_type": "stream",
     "text": [
      "zip code: 55009 já processado.\n",
      "zip code: 98338 já processado.\n"
     ]
    },
    {
     "name": "stderr",
     "output_type": "stream",
     "text": [
      "Processando chunk 5:  21%|██        | 418/2000 [01:44<36:07,  1.37s/it]"
     ]
    },
    {
     "name": "stdout",
     "output_type": "stream",
     "text": [
      "zip code: 32766 já processado.\n",
      "zip code: 32097 já processado.\n"
     ]
    },
    {
     "name": "stderr",
     "output_type": "stream",
     "text": [
      "Processando chunk 5:  21%|██▏       | 425/2000 [01:57<51:23,  1.96s/it]"
     ]
    },
    {
     "name": "stdout",
     "output_type": "stream",
     "text": [
      "zip code: 74037 já processado.\n",
      "zip code: 74023 já processado.\n",
      "zip code: 74127 já processado.\n",
      "zip code: 74055 já processado.\n",
      "zip code: 67301 já processado.\n",
      "zip code: 97502 já processado.\n",
      "zip code: 47960 já processado.\n",
      "zip code: 60060 já processado.\n",
      "zip code: 74602 já processado.\n",
      "zip code: 21153 já processado.\n",
      "zip code: 55043 já processado.\n",
      "zip code: 66901 já processado.\n",
      "zip code: 97223 já processado.\n",
      "zip code: 95122 já processado.\n",
      "zip code: 75001 já processado.\n",
      "zip code: 62918 já processado.\n"
     ]
    },
    {
     "name": "stderr",
     "output_type": "stream",
     "text": [
      "Processando chunk 5:  22%|██▏       | 442/2000 [01:59<10:45,  2.41it/s]"
     ]
    },
    {
     "name": "stdout",
     "output_type": "stream",
     "text": [
      "zip code: 19709 já processado.\n",
      "zip code: 97304 já processado.\n",
      "zip code: 97051 já processado.\n",
      "zip code: 97211 já processado.\n",
      "zip code: 97015 já processado.\n",
      "zip code: 97056 já processado.\n",
      "zip code: 97267 já processado.\n",
      "zip code: 97230 já processado.\n",
      "zip code: 97215 já processado.\n",
      "zip code: 97365 já processado.\n",
      "zip code: 97124 já processado.\n",
      "zip code: 94002 já processado.\n",
      "zip code: 94582 já processado.\n",
      "zip code: 36331 já processado.\n",
      "zip code: 36027 já processado.\n",
      "zip code: 36732 já processado.\n",
      "zip code: 60102 já processado.\n",
      "zip code: 80921 já processado.\n",
      "zip code: 70039 já processado.\n",
      "zip code: 70777 já processado.\n",
      "zip code: 32825 já processado.\n",
      "zip code: 80644 já processado.\n",
      "zip code: 97303 já processado.\n",
      "zip code: 95607 já processado.\n",
      "zip code: 98042 já processado.\n",
      "zip code: 62901 já processado.\n",
      "zip code: 16034 já processado.\n",
      "zip code: 21903 já processado.\n",
      "zip code: 07462 já processado.\n",
      "zip code: 16240 já processado.\n",
      "zip code: 99672 já processado.\n",
      "zip code: 60423 já processado.\n",
      "zip code: 99708 já processado.\n",
      "zip code: 54935 já processado.\n",
      "zip code: 54817 já processado.\n",
      "zip code: 54872 já processado.\n",
      "zip code: 54554 já processado.\n",
      "zip code: 53551 já processado.\n",
      "zip code: 54552 já processado.\n",
      "zip code: 54174 já processado.\n"
     ]
    },
    {
     "name": "stderr",
     "output_type": "stream",
     "text": [
      "Processando chunk 5:  24%|██▍       | 483/2000 [02:02<03:51,  6.55it/s]"
     ]
    },
    {
     "name": "stdout",
     "output_type": "stream",
     "text": [
      "zip code: 92018 já processado.\n",
      "zip code: 92075 já processado.\n",
      "zip code: 94133 já processado.\n",
      "zip code: 02748 já processado.\n",
      "zip code: 93436 já processado.\n"
     ]
    },
    {
     "name": "stderr",
     "output_type": "stream",
     "text": [
      "Processando chunk 5:  24%|██▍       | 489/2000 [02:04<04:41,  5.38it/s]"
     ]
    },
    {
     "name": "stdout",
     "output_type": "stream",
     "text": [
      "zip code: 10977 já processado.\n",
      "zip code: 35010 já processado.\n",
      "zip code: 18301 já processado.\n",
      "zip code: 88001 já processado.\n",
      "zip code: 93274 já processado.\n",
      "zip code: 93277 já processado.\n",
      "zip code: 93265 já processado.\n",
      "zip code: 33442 já processado.\n"
     ]
    },
    {
     "name": "stderr",
     "output_type": "stream",
     "text": [
      "Processando chunk 5:  25%|██▍       | 498/2000 [02:07<05:11,  4.83it/s]"
     ]
    },
    {
     "name": "stdout",
     "output_type": "stream",
     "text": [
      "zip code: 08904 já processado.\n",
      "zip code: 11367 já processado.\n",
      "zip code: 07755 já processado.\n",
      "zip code: 08817 já processado.\n",
      "zip code: 07646 já processado.\n",
      "zip code: 11575 já processado.\n",
      "zip code: 07740 já processado.\n",
      "zip code: 11516 já processado.\n",
      "zip code: 08840 já processado.\n",
      "zip code: 10705 já processado.\n",
      "zip code: 59520 já processado.\n",
      "zip code: 07410 já processado.\n",
      "zip code: 21047 já processado.\n",
      "zip code: 38358 já processado.\n",
      "zip code: 96822 já processado.\n",
      "zip code: 96705 já processado.\n",
      "zip code: 96756 já processado.\n"
     ]
    },
    {
     "name": "stderr",
     "output_type": "stream",
     "text": [
      "Processando chunk 5:  26%|██▌       | 516/2000 [02:09<04:28,  5.54it/s]"
     ]
    },
    {
     "name": "stdout",
     "output_type": "stream",
     "text": [
      "zip code: 96792 já processado.\n",
      "zip code: 65706 já processado.\n",
      "zip code: 64491 já processado.\n"
     ]
    },
    {
     "name": "stderr",
     "output_type": "stream",
     "text": [
      "Processando chunk 5:  26%|██▌       | 520/2000 [02:12<05:44,  4.30it/s]"
     ]
    },
    {
     "name": "stdout",
     "output_type": "stream",
     "text": [
      "zip code: 65018 já processado.\n",
      "zip code: 65803 já processado.\n",
      "zip code: 65566 já processado.\n",
      "zip code: 65336 já processado.\n",
      "zip code: 64644 já processado.\n",
      "zip code: 62236 já processado.\n",
      "zip code: 65081 já processado.\n",
      "zip code: 65085 já processado.\n",
      "zip code: 65559 já processado.\n",
      "zip code: 65230 já processado.\n",
      "zip code: 63111 já processado.\n",
      "zip code: 63043 já processado.\n",
      "zip code: 56164 já processado.\n",
      "zip code: 65802 já processado.\n",
      "zip code: 65054 já processado.\n",
      "zip code: 89109 já processado.\n",
      "zip code: 65542 já processado.\n",
      "zip code: 64093 já processado.\n",
      "zip code: 63068 já processado.\n",
      "zip code: 65712 já processado.\n",
      "zip code: 01609 já processado.\n",
      "zip code: 12574 já processado.\n",
      "zip code: 90732 já processado.\n"
     ]
    },
    {
     "name": "stderr",
     "output_type": "stream",
     "text": [
      "Processando chunk 5:  27%|██▋       | 544/2000 [02:14<04:06,  5.90it/s]"
     ]
    },
    {
     "name": "stdout",
     "output_type": "stream",
     "text": [
      "zip code: 90601 já processado.\n"
     ]
    },
    {
     "name": "stderr",
     "output_type": "stream",
     "text": [
      "Processando chunk 5:  27%|██▋       | 546/2000 [02:17<05:30,  4.40it/s]"
     ]
    },
    {
     "name": "stdout",
     "output_type": "stream",
     "text": [
      "zip code: 91741 já processado.\n"
     ]
    },
    {
     "name": "stderr",
     "output_type": "stream",
     "text": [
      "Processando chunk 5:  27%|██▋       | 548/2000 [02:19<07:14,  3.34it/s]"
     ]
    },
    {
     "name": "stdout",
     "output_type": "stream",
     "text": [
      "zip code: 73012 já processado.\n",
      "zip code: 74011 já processado.\n",
      "zip code: 75948 já processado.\n",
      "zip code: 53114 já processado.\n",
      "zip code: 22079 já processado.\n",
      "zip code: 11203 já processado.\n",
      "zip code: 92223 já processado.\n",
      "zip code: 90293 já processado.\n",
      "zip code: 96019 já processado.\n"
     ]
    },
    {
     "name": "stderr",
     "output_type": "stream",
     "text": [
      "Processando chunk 5:  28%|██▊       | 558/2000 [02:22<06:47,  3.54it/s]"
     ]
    },
    {
     "name": "stdout",
     "output_type": "stream",
     "text": [
      "zip code: 91345 já processado.\n",
      "zip code: 95841 já processado.\n",
      "zip code: 95116 já processado.\n",
      "zip code: 91706 já processado.\n",
      "zip code: 90267 já processado.\n",
      "zip code: 97207 já processado.\n",
      "zip code: 89106 já processado.\n",
      "zip code: 76508 já processado.\n",
      "zip code: 19144 já processado.\n",
      "zip code: 36207 já processado.\n",
      "zip code: 95348 já processado.\n",
      "zip code: 26505 já processado.\n",
      "zip code: 94015 já processado.\n",
      "zip code: 17604 já processado.\n",
      "zip code: 78028 já processado.\n",
      "zip code: 27704 já processado.\n",
      "zip code: 78213 já processado.\n",
      "zip code: 01036 já processado.\n",
      "zip code: 37232 já processado.\n",
      "zip code: 78259 já processado.\n",
      "zip code: 17821 já processado.\n",
      "zip code: 12209 já processado.\n",
      "zip code: 19023 já processado.\n",
      "zip code: 78130 já processado.\n",
      "zip code: 24592 já processado.\n",
      "zip code: 93905 já processado.\n",
      "zip code: 93908 já processado.\n",
      "zip code: 95113 já processado.\n",
      "zip code: 44092 já processado.\n",
      "zip code: 08691 já processado.\n",
      "zip code: 28516 já processado.\n",
      "zip code: 21222 já processado.\n",
      "zip code: 04046 já processado.\n",
      "zip code: 21001 já processado.\n",
      "zip code: 98125 já processado.\n",
      "zip code: 02831 já processado.\n",
      "zip code: 08750 já processado.\n",
      "zip code: 33913 já processado.\n",
      "zip code: 84301 já processado.\n",
      "zip code: 48161 já processado.\n",
      "zip code: 48178 já processado.\n",
      "zip code: 98092 já processado.\n",
      "zip code: 48185 já processado.\n",
      "zip code: 06239 já processado.\n",
      "zip code: 48625 já processado.\n",
      "zip code: 48051 já processado.\n",
      "zip code: 48135 já processado.\n",
      "zip code: 48184 já processado.\n",
      "zip code: 48626 já processado.\n",
      "zip code: 48876 já processado.\n",
      "zip code: 48915 já processado.\n",
      "zip code: 48609 já processado.\n",
      "zip code: 48124 já processado.\n",
      "zip code: 48412 já processado.\n",
      "zip code: 48827 já processado.\n",
      "zip code: 48111 já processado.\n",
      "zip code: 48350 já processado.\n",
      "zip code: 48616 já processado.\n",
      "zip code: 48070 já processado.\n"
     ]
    },
    {
     "name": "stderr",
     "output_type": "stream",
     "text": [
      "Processando chunk 5:  31%|███       | 618/2000 [02:24<02:23,  9.64it/s]"
     ]
    },
    {
     "name": "stdout",
     "output_type": "stream",
     "text": [
      "zip code: 49503 já processado.\n",
      "zip code: 48128 já processado.\n",
      "zip code: 48229 já processado.\n",
      "zip code: 48217 já processado.\n",
      "zip code: 48336 já processado.\n",
      "zip code: 48146 já processado.\n",
      "zip code: 78132 já processado.\n",
      "zip code: 10281 já processado.\n",
      "zip code: 21230 já processado.\n",
      "zip code: 29073 já processado.\n"
     ]
    },
    {
     "name": "stderr",
     "output_type": "stream",
     "text": [
      "Processando chunk 5:  31%|███▏      | 629/2000 [02:27<02:50,  8.03it/s]"
     ]
    },
    {
     "name": "stdout",
     "output_type": "stream",
     "text": [
      "zip code: 76205 já processado.\n"
     ]
    },
    {
     "name": "stderr",
     "output_type": "stream",
     "text": [
      "Processando chunk 5:  32%|███▏      | 631/2000 [02:29<03:51,  5.92it/s]"
     ]
    },
    {
     "name": "stdout",
     "output_type": "stream",
     "text": [
      "zip code: 77013 já processado.\n",
      "zip code: 93307 já processado.\n",
      "zip code: 89510 já processado.\n",
      "zip code: 46235 já processado.\n",
      "zip code: 95365 já processado.\n"
     ]
    },
    {
     "name": "stderr",
     "output_type": "stream",
     "text": [
      "Processando chunk 5:  32%|███▏      | 637/2000 [02:32<04:39,  4.88it/s]"
     ]
    },
    {
     "name": "stdout",
     "output_type": "stream",
     "text": [
      "zip code: 83715 já processado.\n",
      "zip code: 45380 já processado.\n",
      "zip code: 36302 já processado.\n",
      "zip code: 84120 já processado.\n"
     ]
    },
    {
     "name": "stderr",
     "output_type": "stream",
     "text": [
      "Processando chunk 5:  32%|███▏      | 642/2000 [02:34<05:39,  4.01it/s]"
     ]
    },
    {
     "name": "stdout",
     "output_type": "stream",
     "text": [
      "zip code: 17972 já processado.\n",
      "zip code: 07080 já processado.\n"
     ]
    },
    {
     "name": "stderr",
     "output_type": "stream",
     "text": [
      "Processando chunk 5:  32%|███▏      | 645/2000 [02:37<07:08,  3.16it/s]"
     ]
    },
    {
     "name": "stdout",
     "output_type": "stream",
     "text": [
      "zip code: 29602 já processado.\n",
      "zip code: 48880 já processado.\n",
      "zip code: 17519 já processado.\n"
     ]
    },
    {
     "name": "stderr",
     "output_type": "stream",
     "text": [
      "Processando chunk 5:  32%|███▏      | 649/2000 [02:39<08:25,  2.67it/s]"
     ]
    },
    {
     "name": "stdout",
     "output_type": "stream",
     "text": [
      "zip code: 46319 já processado.\n",
      "zip code: 24954 já processado.\n",
      "zip code: 14207 já processado.\n",
      "zip code: 47012 já processado.\n",
      "zip code: 44030 já processado.\n",
      "zip code: 08087 já processado.\n",
      "zip code: 92647 já processado.\n",
      "zip code: 81082 já processado.\n",
      "zip code: 48822 já processado.\n",
      "zip code: 70072 já processado.\n",
      "zip code: 43050 já processado.\n",
      "zip code: 43558 já processado.\n",
      "zip code: 72901 já processado.\n",
      "zip code: 37307 já processado.\n",
      "zip code: 40217 já processado.\n",
      "zip code: 48602 já processado.\n"
     ]
    },
    {
     "name": "stderr",
     "output_type": "stream",
     "text": [
      "Processando chunk 5:  33%|███▎      | 666/2000 [02:42<05:39,  3.93it/s]"
     ]
    },
    {
     "name": "stdout",
     "output_type": "stream",
     "text": [
      "zip code: 98812 já processado.\n",
      "zip code: 75092 já processado.\n",
      "zip code: 83401 já processado.\n",
      "zip code: 06513 já processado.\n",
      "zip code: 55438 já processado.\n",
      "zip code: 70548 já processado.\n",
      "zip code: 75551 já processado.\n",
      "zip code: 29640 já processado.\n",
      "zip code: 59010 já processado.\n",
      "zip code: 59749 já processado.\n",
      "zip code: 59489 já processado.\n",
      "zip code: 59270 já processado.\n",
      "zip code: 59053 já processado.\n",
      "zip code: 59430 já processado.\n",
      "zip code: 59404 já processado.\n",
      "zip code: 59068 já processado.\n",
      "zip code: 21228 já processado.\n",
      "zip code: 20175 já processado.\n",
      "zip code: 13309 já processado.\n",
      "zip code: 89107 já processado.\n",
      "zip code: 13501 já processado.\n",
      "zip code: 13502 já processado.\n",
      "zip code: 08022 já processado.\n",
      "zip code: 53783 já processado.\n",
      "zip code: 14036 já processado.\n",
      "zip code: 18249 já processado.\n",
      "zip code: 43617 já processado.\n",
      "zip code: 78550 já processado.\n"
     ]
    },
    {
     "name": "stderr",
     "output_type": "stream",
     "text": [
      "Processando chunk 5:  35%|███▍      | 695/2000 [02:44<03:31,  6.18it/s]"
     ]
    },
    {
     "name": "stdout",
     "output_type": "stream",
     "text": [
      "zip code: 85743 já processado.\n",
      "zip code: 72301 já processado.\n",
      "zip code: 66712 já processado.\n",
      "zip code: 35621 já processado.\n",
      "zip code: 30474 já processado.\n",
      "zip code: 79835 já processado.\n",
      "zip code: 74354 já processado.\n",
      "zip code: 30513 já processado.\n",
      "zip code: 97463 já processado.\n"
     ]
    },
    {
     "name": "stderr",
     "output_type": "stream",
     "text": [
      "Processando chunk 5:  35%|███▌      | 705/2000 [02:47<03:55,  5.50it/s]"
     ]
    },
    {
     "name": "stdout",
     "output_type": "stream",
     "text": [
      "zip code: 17044 já processado.\n",
      "zip code: 73115 já processado.\n",
      "zip code: 72736 já processado.\n",
      "zip code: 31553 já processado.\n",
      "zip code: 66767 já processado.\n",
      "zip code: 67357 já processado.\n",
      "zip code: 30223 já processado.\n",
      "zip code: 90706 já processado.\n",
      "zip code: 58257 já processado.\n",
      "zip code: 58565 já processado.\n",
      "zip code: 58251 já processado.\n",
      "zip code: 18411 já processado.\n",
      "zip code: 32712 já processado.\n",
      "zip code: 19428 já processado.\n",
      "zip code: 18034 já processado.\n"
     ]
    },
    {
     "name": "stderr",
     "output_type": "stream",
     "text": [
      "Processando chunk 5:  92%|█████████▏| 1846/2000 [53:43<06:53,  2.68s/it]  "
     ]
    },
    {
     "name": "stdout",
     "output_type": "stream",
     "text": [
      "Erro na tentativa 2 para o ZIP code 67212.0: HTTPSConnectionPool(host='nominatim.openstreetmap.org', port=443): Max retries exceeded with url: /search?postalcode=67212.0&country=USA&format=json&limit=1 (Caused by ReadTimeoutError(\"HTTPSConnectionPool(host='nominatim.openstreetmap.org', port=443): Read timed out. (read timeout=1)\"))\n",
      "Erro na tentativa 4 para o ZIP code 67212.0: HTTPSConnectionPool(host='nominatim.openstreetmap.org', port=443): Max retries exceeded with url: /search?postalcode=67212.0&country=USA&format=json&limit=1 (Caused by ReadTimeoutError(\"HTTPSConnectionPool(host='nominatim.openstreetmap.org', port=443): Read timed out. (read timeout=1)\"))\n"
     ]
    },
    {
     "name": "stderr",
     "output_type": "stream",
     "text": [
      "Processando chunk 5:  92%|█████████▏| 1847/2000 [54:07<22:49,  8.95s/it]"
     ]
    },
    {
     "name": "stdout",
     "output_type": "stream",
     "text": [
      "Erro na tentativa 1 para o ZIP code 77096.0: HTTPSConnectionPool(host='nominatim.openstreetmap.org', port=443): Max retries exceeded with url: /search?postalcode=77096.0&country=USA&format=json&limit=1 (Caused by ConnectTimeoutError(<urllib3.connection.HTTPSConnection object at 0x0000021B39D295B0>, 'Connection to nominatim.openstreetmap.org timed out. (connect timeout=1)'))\n"
     ]
    },
    {
     "name": "stderr",
     "output_type": "stream",
     "text": [
      "Processando chunk 5:  92%|█████████▏| 1848/2000 [54:16<22:54,  9.04s/it]"
     ]
    },
    {
     "name": "stdout",
     "output_type": "stream",
     "text": [
      "Erro na tentativa 5 para o ZIP code 67204.0: HTTPSConnectionPool(host='nominatim.openstreetmap.org', port=443): Max retries exceeded with url: /search?postalcode=67204.0&country=USA&format=json&limit=1 (Caused by ReadTimeoutError(\"HTTPSConnectionPool(host='nominatim.openstreetmap.org', port=443): Read timed out. (read timeout=1)\"))\n"
     ]
    },
    {
     "name": "stderr",
     "output_type": "stream",
     "text": [
      "Processando chunk 5:  93%|█████████▎| 1854/2000 [55:03<15:29,  6.37s/it]"
     ]
    },
    {
     "name": "stdout",
     "output_type": "stream",
     "text": [
      "Erro na tentativa 4 para o ZIP code 92688.0: HTTPSConnectionPool(host='nominatim.openstreetmap.org', port=443): Max retries exceeded with url: /search?postalcode=92688.0&country=USA&format=json&limit=1 (Caused by ReadTimeoutError(\"HTTPSConnectionPool(host='nominatim.openstreetmap.org', port=443): Read timed out. (read timeout=1)\"))\n"
     ]
    },
    {
     "name": "stderr",
     "output_type": "stream",
     "text": [
      "Processando chunk 5: 100%|██████████| 2000/2000 [1:01:29<00:00,  1.84s/it]\n"
     ]
    },
    {
     "name": "stdout",
     "output_type": "stream",
     "text": [
      "Chunk 5 salvo com sucesso em geoprocessed_chunks\\processed_zip_codes_chunk_5.csv\n"
     ]
    },
    {
     "name": "stderr",
     "output_type": "stream",
     "text": [
      "Processando chunk 6:  43%|████▎     | 869/2000 [37:33<1:04:53,  3.44s/it]"
     ]
    },
    {
     "name": "stdout",
     "output_type": "stream",
     "text": [
      "Erro na tentativa 4 para o ZIP code 30067.0: HTTPSConnectionPool(host='nominatim.openstreetmap.org', port=443): Max retries exceeded with url: /search?postalcode=30067.0&country=USA&format=json&limit=1 (Caused by ConnectTimeoutError(<urllib3.connection.HTTPSConnection object at 0x0000021B3E7893A0>, 'Connection to nominatim.openstreetmap.org timed out. (connect timeout=1)'))\n"
     ]
    },
    {
     "name": "stderr",
     "output_type": "stream",
     "text": [
      "Processando chunk 6:  44%|████▍     | 879/2000 [38:10<50:06,  2.68s/it]  "
     ]
    },
    {
     "name": "stdout",
     "output_type": "stream",
     "text": [
      "Erro na tentativa 3 para o ZIP code 90013.0: HTTPSConnectionPool(host='nominatim.openstreetmap.org', port=443): Max retries exceeded with url: /search?postalcode=90013.0&country=USA&format=json&limit=1 (Caused by ConnectTimeoutError(<urllib3.connection.HTTPSConnection object at 0x0000021B3E789460>, 'Connection to nominatim.openstreetmap.org timed out. (connect timeout=1)'))\n"
     ]
    },
    {
     "name": "stderr",
     "output_type": "stream",
     "text": [
      "Processando chunk 6:  44%|████▍     | 883/2000 [38:27<1:00:11,  3.23s/it]"
     ]
    },
    {
     "name": "stdout",
     "output_type": "stream",
     "text": [
      "Erro na tentativa 2 para o ZIP code 37172.0: HTTPSConnectionPool(host='nominatim.openstreetmap.org', port=443): Max retries exceeded with url: /search?postalcode=37172.0&country=USA&format=json&limit=1 (Caused by ConnectTimeoutError(<urllib3.connection.HTTPSConnection object at 0x0000021B3E7841C0>, 'Connection to nominatim.openstreetmap.org timed out. (connect timeout=1)'))\n"
     ]
    },
    {
     "name": "stderr",
     "output_type": "stream",
     "text": [
      "Processando chunk 6:  46%|████▋     | 925/2000 [40:23<45:07,  2.52s/it]  "
     ]
    },
    {
     "name": "stdout",
     "output_type": "stream",
     "text": [
      "Erro na tentativa 5 para o ZIP code 92861.0: HTTPSConnectionPool(host='nominatim.openstreetmap.org', port=443): Max retries exceeded with url: /search?postalcode=92861.0&country=USA&format=json&limit=1 (Caused by ConnectTimeoutError(<urllib3.connection.HTTPSConnection object at 0x0000021B3E782460>, 'Connection to nominatim.openstreetmap.org timed out. (connect timeout=1)'))\n"
     ]
    },
    {
     "name": "stderr",
     "output_type": "stream",
     "text": [
      "Processando chunk 6:  47%|████▋     | 940/2000 [41:20<44:53,  2.54s/it]  "
     ]
    },
    {
     "name": "stdout",
     "output_type": "stream",
     "text": [
      "Erro na tentativa 2 para o ZIP code 29483.0: HTTPSConnectionPool(host='nominatim.openstreetmap.org', port=443): Max retries exceeded with url: /search?postalcode=29483.0&country=USA&format=json&limit=1 (Caused by NameResolutionError(\"<urllib3.connection.HTTPSConnection object at 0x0000021B3E782040>: Failed to resolve 'nominatim.openstreetmap.org' ([Errno 11001] getaddrinfo failed)\"))\n",
      "Erro na tentativa 3 para o ZIP code 29483.0: HTTPSConnectionPool(host='nominatim.openstreetmap.org', port=443): Max retries exceeded with url: /search?postalcode=29483.0&country=USA&format=json&limit=1 (Caused by NameResolutionError(\"<urllib3.connection.HTTPSConnection object at 0x0000021B3E784250>: Failed to resolve 'nominatim.openstreetmap.org' ([Errno 11001] getaddrinfo failed)\"))\n",
      "Erro na tentativa 4 para o ZIP code 29483.0: HTTPSConnectionPool(host='nominatim.openstreetmap.org', port=443): Max retries exceeded with url: /search?postalcode=29483.0&country=USA&format=json&limit=1 (Caused by NameResolutionError(\"<urllib3.connection.HTTPSConnection object at 0x0000021B3E7893D0>: Failed to resolve 'nominatim.openstreetmap.org' ([Errno 11001] getaddrinfo failed)\"))\n",
      "Erro na tentativa 5 para o ZIP code 29483.0: HTTPSConnectionPool(host='nominatim.openstreetmap.org', port=443): Max retries exceeded with url: /search?postalcode=29483.0&country=USA&format=json&limit=1 (Caused by NameResolutionError(\"<urllib3.connection.HTTPSConnection object at 0x0000021B3E78FD60>: Failed to resolve 'nominatim.openstreetmap.org' ([Errno 11001] getaddrinfo failed)\"))\n"
     ]
    },
    {
     "name": "stderr",
     "output_type": "stream",
     "text": [
      "Processando chunk 6:  61%|██████    | 1213/2000 [10:26:40<109:04:39, 498.96s/it] "
     ]
    },
    {
     "name": "stdout",
     "output_type": "stream",
     "text": [
      "Erro na tentativa 5 para o ZIP code 41143.0: HTTPSConnectionPool(host='nominatim.openstreetmap.org', port=443): Max retries exceeded with url: /search?postalcode=41143.0&country=USA&format=json&limit=1 (Caused by NameResolutionError(\"<urllib3.connection.HTTPSConnection object at 0x0000021B3E7892E0>: Failed to resolve 'nominatim.openstreetmap.org' ([Errno 11001] getaddrinfo failed)\"))\n"
     ]
    },
    {
     "name": "stderr",
     "output_type": "stream",
     "text": [
      "Processando chunk 6:  72%|███████▏  | 1448/2000 [17:50:56<6:48:15, 44.38s/it]     \n"
     ]
    },
    {
     "ename": "KeyboardInterrupt",
     "evalue": "",
     "output_type": "error",
     "traceback": [
      "\u001b[1;31m---------------------------------------------------------------------------\u001b[0m",
      "\u001b[1;31mKeyboardInterrupt\u001b[0m                         Traceback (most recent call last)",
      "Cell \u001b[1;32mIn[26], line 21\u001b[0m\n\u001b[0;32m     19\u001b[0m results \u001b[38;5;241m=\u001b[39m []\n\u001b[0;32m     20\u001b[0m \u001b[38;5;28;01mfor\u001b[39;00m zip_code \u001b[38;5;129;01min\u001b[39;00m tqdm(chunk, desc\u001b[38;5;241m=\u001b[39m\u001b[38;5;124mf\u001b[39m\u001b[38;5;124m\"\u001b[39m\u001b[38;5;124mProcessando chunk \u001b[39m\u001b[38;5;132;01m{\u001b[39;00mchunk_index\u001b[38;5;132;01m}\u001b[39;00m\u001b[38;5;124m\"\u001b[39m):\n\u001b[1;32m---> 21\u001b[0m     results\u001b[38;5;241m.\u001b[39mappend(\u001b[43mget_location_from_zip\u001b[49m\u001b[43m(\u001b[49m\u001b[43mzip_code\u001b[49m\u001b[43m)\u001b[49m)\n\u001b[0;32m     23\u001b[0m chunk_df \u001b[38;5;241m=\u001b[39m pd\u001b[38;5;241m.\u001b[39mDataFrame(results, columns\u001b[38;5;241m=\u001b[39m[\u001b[38;5;124m'\u001b[39m\u001b[38;5;124mzip_code\u001b[39m\u001b[38;5;124m'\u001b[39m, \u001b[38;5;124m'\u001b[39m\u001b[38;5;124mlatitude\u001b[39m\u001b[38;5;124m'\u001b[39m, \u001b[38;5;124m'\u001b[39m\u001b[38;5;124mlongitude\u001b[39m\u001b[38;5;124m'\u001b[39m, \u001b[38;5;124m'\u001b[39m\u001b[38;5;124mcidade\u001b[39m\u001b[38;5;124m'\u001b[39m])\n\u001b[0;32m     25\u001b[0m chunk_file_name \u001b[38;5;241m=\u001b[39m os\u001b[38;5;241m.\u001b[39mpath\u001b[38;5;241m.\u001b[39mjoin(output_dir, \u001b[38;5;124mf\u001b[39m\u001b[38;5;124m\"\u001b[39m\u001b[38;5;124mprocessed_zip_codes_chunk_\u001b[39m\u001b[38;5;132;01m{\u001b[39;00mchunk_index\u001b[38;5;132;01m}\u001b[39;00m\u001b[38;5;124m.csv\u001b[39m\u001b[38;5;124m\"\u001b[39m)\n",
      "Cell \u001b[1;32mIn[9], line 14\u001b[0m, in \u001b[0;36mget_location_from_zip\u001b[1;34m(zip_code, max_retries)\u001b[0m\n\u001b[0;32m     12\u001b[0m \u001b[38;5;28;01mfor\u001b[39;00m attempt \u001b[38;5;129;01min\u001b[39;00m \u001b[38;5;28mrange\u001b[39m(max_retries):\n\u001b[0;32m     13\u001b[0m     \u001b[38;5;28;01mtry\u001b[39;00m:\n\u001b[1;32m---> 14\u001b[0m         location \u001b[38;5;241m=\u001b[39m \u001b[43mgeolocator\u001b[49m\u001b[38;5;241;43m.\u001b[39;49m\u001b[43mgeocode\u001b[49m\u001b[43m(\u001b[49m\u001b[43m{\u001b[49m\u001b[38;5;124;43m\"\u001b[39;49m\u001b[38;5;124;43mpostalcode\u001b[39;49m\u001b[38;5;124;43m\"\u001b[39;49m\u001b[43m:\u001b[49m\u001b[43m \u001b[49m\u001b[43mzip_code\u001b[49m\u001b[43m,\u001b[49m\u001b[43m \u001b[49m\u001b[38;5;124;43m\"\u001b[39;49m\u001b[38;5;124;43mcountry\u001b[39;49m\u001b[38;5;124;43m\"\u001b[39;49m\u001b[43m:\u001b[49m\u001b[43m \u001b[49m\u001b[38;5;124;43m\"\u001b[39;49m\u001b[38;5;124;43mUSA\u001b[39;49m\u001b[38;5;124;43m\"\u001b[39;49m\u001b[43m}\u001b[49m\u001b[43m)\u001b[49m\n\u001b[0;32m     15\u001b[0m         \u001b[38;5;28;01mif\u001b[39;00m location:\n\u001b[0;32m     16\u001b[0m             result \u001b[38;5;241m=\u001b[39m (location\u001b[38;5;241m.\u001b[39mlatitude, location\u001b[38;5;241m.\u001b[39mlongitude, location\u001b[38;5;241m.\u001b[39maddress\u001b[38;5;241m.\u001b[39msplit(\u001b[38;5;124m'\u001b[39m\u001b[38;5;124m,\u001b[39m\u001b[38;5;124m'\u001b[39m)[\u001b[38;5;241m1\u001b[39m]\u001b[38;5;241m.\u001b[39mstrip())\n",
      "File \u001b[1;32mc:\\Users\\muril\\Documents\\2024\\projeto_federal_elections\\.venv\\lib\\site-packages\\geopy\\geocoders\\nominatim.py:297\u001b[0m, in \u001b[0;36mNominatim.geocode\u001b[1;34m(self, query, exactly_one, timeout, limit, addressdetails, language, geometry, extratags, country_codes, viewbox, bounded, featuretype, namedetails)\u001b[0m\n\u001b[0;32m    295\u001b[0m logger\u001b[38;5;241m.\u001b[39mdebug(\u001b[38;5;124m\"\u001b[39m\u001b[38;5;132;01m%s\u001b[39;00m\u001b[38;5;124m.geocode: \u001b[39m\u001b[38;5;132;01m%s\u001b[39;00m\u001b[38;5;124m\"\u001b[39m, \u001b[38;5;28mself\u001b[39m\u001b[38;5;241m.\u001b[39m\u001b[38;5;18m__class__\u001b[39m\u001b[38;5;241m.\u001b[39m\u001b[38;5;18m__name__\u001b[39m, url)\n\u001b[0;32m    296\u001b[0m callback \u001b[38;5;241m=\u001b[39m partial(\u001b[38;5;28mself\u001b[39m\u001b[38;5;241m.\u001b[39m_parse_json, exactly_one\u001b[38;5;241m=\u001b[39mexactly_one)\n\u001b[1;32m--> 297\u001b[0m \u001b[38;5;28;01mreturn\u001b[39;00m \u001b[38;5;28;43mself\u001b[39;49m\u001b[38;5;241;43m.\u001b[39;49m\u001b[43m_call_geocoder\u001b[49m\u001b[43m(\u001b[49m\u001b[43murl\u001b[49m\u001b[43m,\u001b[49m\u001b[43m \u001b[49m\u001b[43mcallback\u001b[49m\u001b[43m,\u001b[49m\u001b[43m \u001b[49m\u001b[43mtimeout\u001b[49m\u001b[38;5;241;43m=\u001b[39;49m\u001b[43mtimeout\u001b[49m\u001b[43m)\u001b[49m\n",
      "File \u001b[1;32mc:\\Users\\muril\\Documents\\2024\\projeto_federal_elections\\.venv\\lib\\site-packages\\geopy\\geocoders\\base.py:368\u001b[0m, in \u001b[0;36mGeocoder._call_geocoder\u001b[1;34m(self, url, callback, timeout, is_json, headers)\u001b[0m\n\u001b[0;32m    366\u001b[0m \u001b[38;5;28;01mtry\u001b[39;00m:\n\u001b[0;32m    367\u001b[0m     \u001b[38;5;28;01mif\u001b[39;00m is_json:\n\u001b[1;32m--> 368\u001b[0m         result \u001b[38;5;241m=\u001b[39m \u001b[38;5;28;43mself\u001b[39;49m\u001b[38;5;241;43m.\u001b[39;49m\u001b[43madapter\u001b[49m\u001b[38;5;241;43m.\u001b[39;49m\u001b[43mget_json\u001b[49m\u001b[43m(\u001b[49m\u001b[43murl\u001b[49m\u001b[43m,\u001b[49m\u001b[43m \u001b[49m\u001b[43mtimeout\u001b[49m\u001b[38;5;241;43m=\u001b[39;49m\u001b[43mtimeout\u001b[49m\u001b[43m,\u001b[49m\u001b[43m \u001b[49m\u001b[43mheaders\u001b[49m\u001b[38;5;241;43m=\u001b[39;49m\u001b[43mreq_headers\u001b[49m\u001b[43m)\u001b[49m\n\u001b[0;32m    369\u001b[0m     \u001b[38;5;28;01melse\u001b[39;00m:\n\u001b[0;32m    370\u001b[0m         result \u001b[38;5;241m=\u001b[39m \u001b[38;5;28mself\u001b[39m\u001b[38;5;241m.\u001b[39madapter\u001b[38;5;241m.\u001b[39mget_text(url, timeout\u001b[38;5;241m=\u001b[39mtimeout, headers\u001b[38;5;241m=\u001b[39mreq_headers)\n",
      "File \u001b[1;32mc:\\Users\\muril\\Documents\\2024\\projeto_federal_elections\\.venv\\lib\\site-packages\\geopy\\adapters.py:472\u001b[0m, in \u001b[0;36mRequestsAdapter.get_json\u001b[1;34m(self, url, timeout, headers)\u001b[0m\n\u001b[0;32m    471\u001b[0m \u001b[38;5;28;01mdef\u001b[39;00m \u001b[38;5;21mget_json\u001b[39m(\u001b[38;5;28mself\u001b[39m, url, \u001b[38;5;241m*\u001b[39m, timeout, headers):\n\u001b[1;32m--> 472\u001b[0m     resp \u001b[38;5;241m=\u001b[39m \u001b[38;5;28;43mself\u001b[39;49m\u001b[38;5;241;43m.\u001b[39;49m\u001b[43m_request\u001b[49m\u001b[43m(\u001b[49m\u001b[43murl\u001b[49m\u001b[43m,\u001b[49m\u001b[43m \u001b[49m\u001b[43mtimeout\u001b[49m\u001b[38;5;241;43m=\u001b[39;49m\u001b[43mtimeout\u001b[49m\u001b[43m,\u001b[49m\u001b[43m \u001b[49m\u001b[43mheaders\u001b[49m\u001b[38;5;241;43m=\u001b[39;49m\u001b[43mheaders\u001b[49m\u001b[43m)\u001b[49m\n\u001b[0;32m    473\u001b[0m     \u001b[38;5;28;01mtry\u001b[39;00m:\n\u001b[0;32m    474\u001b[0m         \u001b[38;5;28;01mreturn\u001b[39;00m resp\u001b[38;5;241m.\u001b[39mjson()\n",
      "File \u001b[1;32mc:\\Users\\muril\\Documents\\2024\\projeto_federal_elections\\.venv\\lib\\site-packages\\geopy\\adapters.py:482\u001b[0m, in \u001b[0;36mRequestsAdapter._request\u001b[1;34m(self, url, timeout, headers)\u001b[0m\n\u001b[0;32m    480\u001b[0m \u001b[38;5;28;01mdef\u001b[39;00m \u001b[38;5;21m_request\u001b[39m(\u001b[38;5;28mself\u001b[39m, url, \u001b[38;5;241m*\u001b[39m, timeout, headers):\n\u001b[0;32m    481\u001b[0m     \u001b[38;5;28;01mtry\u001b[39;00m:\n\u001b[1;32m--> 482\u001b[0m         resp \u001b[38;5;241m=\u001b[39m \u001b[38;5;28;43mself\u001b[39;49m\u001b[38;5;241;43m.\u001b[39;49m\u001b[43msession\u001b[49m\u001b[38;5;241;43m.\u001b[39;49m\u001b[43mget\u001b[49m\u001b[43m(\u001b[49m\u001b[43murl\u001b[49m\u001b[43m,\u001b[49m\u001b[43m \u001b[49m\u001b[43mtimeout\u001b[49m\u001b[38;5;241;43m=\u001b[39;49m\u001b[43mtimeout\u001b[49m\u001b[43m,\u001b[49m\u001b[43m \u001b[49m\u001b[43mheaders\u001b[49m\u001b[38;5;241;43m=\u001b[39;49m\u001b[43mheaders\u001b[49m\u001b[43m)\u001b[49m\n\u001b[0;32m    483\u001b[0m     \u001b[38;5;28;01mexcept\u001b[39;00m \u001b[38;5;167;01mException\u001b[39;00m \u001b[38;5;28;01mas\u001b[39;00m error:\n\u001b[0;32m    484\u001b[0m         message \u001b[38;5;241m=\u001b[39m \u001b[38;5;28mstr\u001b[39m(error)\n",
      "File \u001b[1;32mc:\\Users\\muril\\Documents\\2024\\projeto_federal_elections\\.venv\\lib\\site-packages\\requests\\sessions.py:602\u001b[0m, in \u001b[0;36mSession.get\u001b[1;34m(self, url, **kwargs)\u001b[0m\n\u001b[0;32m    594\u001b[0m \u001b[38;5;250m\u001b[39m\u001b[38;5;124mr\u001b[39m\u001b[38;5;124;03m\"\"\"Sends a GET request. Returns :class:`Response` object.\u001b[39;00m\n\u001b[0;32m    595\u001b[0m \n\u001b[0;32m    596\u001b[0m \u001b[38;5;124;03m:param url: URL for the new :class:`Request` object.\u001b[39;00m\n\u001b[0;32m    597\u001b[0m \u001b[38;5;124;03m:param \\*\\*kwargs: Optional arguments that ``request`` takes.\u001b[39;00m\n\u001b[0;32m    598\u001b[0m \u001b[38;5;124;03m:rtype: requests.Response\u001b[39;00m\n\u001b[0;32m    599\u001b[0m \u001b[38;5;124;03m\"\"\"\u001b[39;00m\n\u001b[0;32m    601\u001b[0m kwargs\u001b[38;5;241m.\u001b[39msetdefault(\u001b[38;5;124m\"\u001b[39m\u001b[38;5;124mallow_redirects\u001b[39m\u001b[38;5;124m\"\u001b[39m, \u001b[38;5;28;01mTrue\u001b[39;00m)\n\u001b[1;32m--> 602\u001b[0m \u001b[38;5;28;01mreturn\u001b[39;00m \u001b[38;5;28mself\u001b[39m\u001b[38;5;241m.\u001b[39mrequest(\u001b[38;5;124m\"\u001b[39m\u001b[38;5;124mGET\u001b[39m\u001b[38;5;124m\"\u001b[39m, url, \u001b[38;5;241m*\u001b[39m\u001b[38;5;241m*\u001b[39mkwargs)\n",
      "File \u001b[1;32mc:\\Users\\muril\\Documents\\2024\\projeto_federal_elections\\.venv\\lib\\site-packages\\requests\\sessions.py:589\u001b[0m, in \u001b[0;36mSession.request\u001b[1;34m(self, method, url, params, data, headers, cookies, files, auth, timeout, allow_redirects, proxies, hooks, stream, verify, cert, json)\u001b[0m\n\u001b[0;32m    584\u001b[0m send_kwargs \u001b[38;5;241m=\u001b[39m {\n\u001b[0;32m    585\u001b[0m     \u001b[38;5;124m\"\u001b[39m\u001b[38;5;124mtimeout\u001b[39m\u001b[38;5;124m\"\u001b[39m: timeout,\n\u001b[0;32m    586\u001b[0m     \u001b[38;5;124m\"\u001b[39m\u001b[38;5;124mallow_redirects\u001b[39m\u001b[38;5;124m\"\u001b[39m: allow_redirects,\n\u001b[0;32m    587\u001b[0m }\n\u001b[0;32m    588\u001b[0m send_kwargs\u001b[38;5;241m.\u001b[39mupdate(settings)\n\u001b[1;32m--> 589\u001b[0m resp \u001b[38;5;241m=\u001b[39m \u001b[38;5;28mself\u001b[39m\u001b[38;5;241m.\u001b[39msend(prep, \u001b[38;5;241m*\u001b[39m\u001b[38;5;241m*\u001b[39msend_kwargs)\n\u001b[0;32m    591\u001b[0m \u001b[38;5;28;01mreturn\u001b[39;00m resp\n",
      "File \u001b[1;32mc:\\Users\\muril\\Documents\\2024\\projeto_federal_elections\\.venv\\lib\\site-packages\\requests\\sessions.py:703\u001b[0m, in \u001b[0;36mSession.send\u001b[1;34m(self, request, **kwargs)\u001b[0m\n\u001b[0;32m    700\u001b[0m start \u001b[38;5;241m=\u001b[39m preferred_clock()\n\u001b[0;32m    702\u001b[0m \u001b[38;5;66;03m# Send the request\u001b[39;00m\n\u001b[1;32m--> 703\u001b[0m r \u001b[38;5;241m=\u001b[39m adapter\u001b[38;5;241m.\u001b[39msend(request, \u001b[38;5;241m*\u001b[39m\u001b[38;5;241m*\u001b[39mkwargs)\n\u001b[0;32m    705\u001b[0m \u001b[38;5;66;03m# Total elapsed time of the request (approximately)\u001b[39;00m\n\u001b[0;32m    706\u001b[0m elapsed \u001b[38;5;241m=\u001b[39m preferred_clock() \u001b[38;5;241m-\u001b[39m start\n",
      "File \u001b[1;32mc:\\Users\\muril\\Documents\\2024\\projeto_federal_elections\\.venv\\lib\\site-packages\\requests\\adapters.py:667\u001b[0m, in \u001b[0;36mHTTPAdapter.send\u001b[1;34m(self, request, stream, timeout, verify, cert, proxies)\u001b[0m\n\u001b[0;32m    664\u001b[0m     timeout \u001b[38;5;241m=\u001b[39m TimeoutSauce(connect\u001b[38;5;241m=\u001b[39mtimeout, read\u001b[38;5;241m=\u001b[39mtimeout)\n\u001b[0;32m    666\u001b[0m \u001b[38;5;28;01mtry\u001b[39;00m:\n\u001b[1;32m--> 667\u001b[0m     resp \u001b[38;5;241m=\u001b[39m \u001b[43mconn\u001b[49m\u001b[38;5;241;43m.\u001b[39;49m\u001b[43murlopen\u001b[49m\u001b[43m(\u001b[49m\n\u001b[0;32m    668\u001b[0m \u001b[43m        \u001b[49m\u001b[43mmethod\u001b[49m\u001b[38;5;241;43m=\u001b[39;49m\u001b[43mrequest\u001b[49m\u001b[38;5;241;43m.\u001b[39;49m\u001b[43mmethod\u001b[49m\u001b[43m,\u001b[49m\n\u001b[0;32m    669\u001b[0m \u001b[43m        \u001b[49m\u001b[43murl\u001b[49m\u001b[38;5;241;43m=\u001b[39;49m\u001b[43murl\u001b[49m\u001b[43m,\u001b[49m\n\u001b[0;32m    670\u001b[0m \u001b[43m        \u001b[49m\u001b[43mbody\u001b[49m\u001b[38;5;241;43m=\u001b[39;49m\u001b[43mrequest\u001b[49m\u001b[38;5;241;43m.\u001b[39;49m\u001b[43mbody\u001b[49m\u001b[43m,\u001b[49m\n\u001b[0;32m    671\u001b[0m \u001b[43m        \u001b[49m\u001b[43mheaders\u001b[49m\u001b[38;5;241;43m=\u001b[39;49m\u001b[43mrequest\u001b[49m\u001b[38;5;241;43m.\u001b[39;49m\u001b[43mheaders\u001b[49m\u001b[43m,\u001b[49m\n\u001b[0;32m    672\u001b[0m \u001b[43m        \u001b[49m\u001b[43mredirect\u001b[49m\u001b[38;5;241;43m=\u001b[39;49m\u001b[38;5;28;43;01mFalse\u001b[39;49;00m\u001b[43m,\u001b[49m\n\u001b[0;32m    673\u001b[0m \u001b[43m        \u001b[49m\u001b[43massert_same_host\u001b[49m\u001b[38;5;241;43m=\u001b[39;49m\u001b[38;5;28;43;01mFalse\u001b[39;49;00m\u001b[43m,\u001b[49m\n\u001b[0;32m    674\u001b[0m \u001b[43m        \u001b[49m\u001b[43mpreload_content\u001b[49m\u001b[38;5;241;43m=\u001b[39;49m\u001b[38;5;28;43;01mFalse\u001b[39;49;00m\u001b[43m,\u001b[49m\n\u001b[0;32m    675\u001b[0m \u001b[43m        \u001b[49m\u001b[43mdecode_content\u001b[49m\u001b[38;5;241;43m=\u001b[39;49m\u001b[38;5;28;43;01mFalse\u001b[39;49;00m\u001b[43m,\u001b[49m\n\u001b[0;32m    676\u001b[0m \u001b[43m        \u001b[49m\u001b[43mretries\u001b[49m\u001b[38;5;241;43m=\u001b[39;49m\u001b[38;5;28;43mself\u001b[39;49m\u001b[38;5;241;43m.\u001b[39;49m\u001b[43mmax_retries\u001b[49m\u001b[43m,\u001b[49m\n\u001b[0;32m    677\u001b[0m \u001b[43m        \u001b[49m\u001b[43mtimeout\u001b[49m\u001b[38;5;241;43m=\u001b[39;49m\u001b[43mtimeout\u001b[49m\u001b[43m,\u001b[49m\n\u001b[0;32m    678\u001b[0m \u001b[43m        \u001b[49m\u001b[43mchunked\u001b[49m\u001b[38;5;241;43m=\u001b[39;49m\u001b[43mchunked\u001b[49m\u001b[43m,\u001b[49m\n\u001b[0;32m    679\u001b[0m \u001b[43m    \u001b[49m\u001b[43m)\u001b[49m\n\u001b[0;32m    681\u001b[0m \u001b[38;5;28;01mexcept\u001b[39;00m (ProtocolError, \u001b[38;5;167;01mOSError\u001b[39;00m) \u001b[38;5;28;01mas\u001b[39;00m err:\n\u001b[0;32m    682\u001b[0m     \u001b[38;5;28;01mraise\u001b[39;00m \u001b[38;5;167;01mConnectionError\u001b[39;00m(err, request\u001b[38;5;241m=\u001b[39mrequest)\n",
      "File \u001b[1;32mc:\\Users\\muril\\Documents\\2024\\projeto_federal_elections\\.venv\\lib\\site-packages\\urllib3\\connectionpool.py:789\u001b[0m, in \u001b[0;36mHTTPConnectionPool.urlopen\u001b[1;34m(self, method, url, body, headers, retries, redirect, assert_same_host, timeout, pool_timeout, release_conn, chunked, body_pos, preload_content, decode_content, **response_kw)\u001b[0m\n\u001b[0;32m    786\u001b[0m response_conn \u001b[38;5;241m=\u001b[39m conn \u001b[38;5;28;01mif\u001b[39;00m \u001b[38;5;129;01mnot\u001b[39;00m release_conn \u001b[38;5;28;01melse\u001b[39;00m \u001b[38;5;28;01mNone\u001b[39;00m\n\u001b[0;32m    788\u001b[0m \u001b[38;5;66;03m# Make the request on the HTTPConnection object\u001b[39;00m\n\u001b[1;32m--> 789\u001b[0m response \u001b[38;5;241m=\u001b[39m \u001b[38;5;28mself\u001b[39m\u001b[38;5;241m.\u001b[39m_make_request(\n\u001b[0;32m    790\u001b[0m     conn,\n\u001b[0;32m    791\u001b[0m     method,\n\u001b[0;32m    792\u001b[0m     url,\n\u001b[0;32m    793\u001b[0m     timeout\u001b[38;5;241m=\u001b[39mtimeout_obj,\n\u001b[0;32m    794\u001b[0m     body\u001b[38;5;241m=\u001b[39mbody,\n\u001b[0;32m    795\u001b[0m     headers\u001b[38;5;241m=\u001b[39mheaders,\n\u001b[0;32m    796\u001b[0m     chunked\u001b[38;5;241m=\u001b[39mchunked,\n\u001b[0;32m    797\u001b[0m     retries\u001b[38;5;241m=\u001b[39mretries,\n\u001b[0;32m    798\u001b[0m     response_conn\u001b[38;5;241m=\u001b[39mresponse_conn,\n\u001b[0;32m    799\u001b[0m     preload_content\u001b[38;5;241m=\u001b[39mpreload_content,\n\u001b[0;32m    800\u001b[0m     decode_content\u001b[38;5;241m=\u001b[39mdecode_content,\n\u001b[0;32m    801\u001b[0m     \u001b[38;5;241m*\u001b[39m\u001b[38;5;241m*\u001b[39mresponse_kw,\n\u001b[0;32m    802\u001b[0m )\n\u001b[0;32m    804\u001b[0m \u001b[38;5;66;03m# Everything went great!\u001b[39;00m\n\u001b[0;32m    805\u001b[0m clean_exit \u001b[38;5;241m=\u001b[39m \u001b[38;5;28;01mTrue\u001b[39;00m\n",
      "File \u001b[1;32mc:\\Users\\muril\\Documents\\2024\\projeto_federal_elections\\.venv\\lib\\site-packages\\urllib3\\connectionpool.py:536\u001b[0m, in \u001b[0;36mHTTPConnectionPool._make_request\u001b[1;34m(self, conn, method, url, body, headers, retries, timeout, chunked, response_conn, preload_content, decode_content, enforce_content_length)\u001b[0m\n\u001b[0;32m    534\u001b[0m \u001b[38;5;66;03m# Receive the response from the server\u001b[39;00m\n\u001b[0;32m    535\u001b[0m \u001b[38;5;28;01mtry\u001b[39;00m:\n\u001b[1;32m--> 536\u001b[0m     response \u001b[38;5;241m=\u001b[39m \u001b[43mconn\u001b[49m\u001b[38;5;241;43m.\u001b[39;49m\u001b[43mgetresponse\u001b[49m\u001b[43m(\u001b[49m\u001b[43m)\u001b[49m\n\u001b[0;32m    537\u001b[0m \u001b[38;5;28;01mexcept\u001b[39;00m (BaseSSLError, \u001b[38;5;167;01mOSError\u001b[39;00m) \u001b[38;5;28;01mas\u001b[39;00m e:\n\u001b[0;32m    538\u001b[0m     \u001b[38;5;28mself\u001b[39m\u001b[38;5;241m.\u001b[39m_raise_timeout(err\u001b[38;5;241m=\u001b[39me, url\u001b[38;5;241m=\u001b[39murl, timeout_value\u001b[38;5;241m=\u001b[39mread_timeout)\n",
      "File \u001b[1;32mc:\\Users\\muril\\Documents\\2024\\projeto_federal_elections\\.venv\\lib\\site-packages\\urllib3\\connection.py:507\u001b[0m, in \u001b[0;36mHTTPConnection.getresponse\u001b[1;34m(self)\u001b[0m\n\u001b[0;32m    504\u001b[0m \u001b[38;5;28;01mfrom\u001b[39;00m \u001b[38;5;21;01m.\u001b[39;00m\u001b[38;5;21;01mresponse\u001b[39;00m \u001b[38;5;28;01mimport\u001b[39;00m HTTPResponse\n\u001b[0;32m    506\u001b[0m \u001b[38;5;66;03m# Get the response from http.client.HTTPConnection\u001b[39;00m\n\u001b[1;32m--> 507\u001b[0m httplib_response \u001b[38;5;241m=\u001b[39m \u001b[38;5;28;43msuper\u001b[39;49m\u001b[43m(\u001b[49m\u001b[43m)\u001b[49m\u001b[38;5;241;43m.\u001b[39;49m\u001b[43mgetresponse\u001b[49m\u001b[43m(\u001b[49m\u001b[43m)\u001b[49m\n\u001b[0;32m    509\u001b[0m \u001b[38;5;28;01mtry\u001b[39;00m:\n\u001b[0;32m    510\u001b[0m     assert_header_parsing(httplib_response\u001b[38;5;241m.\u001b[39mmsg)\n",
      "File \u001b[1;32m~\\AppData\\Local\\Programs\\Python\\Python39\\lib\\http\\client.py:1377\u001b[0m, in \u001b[0;36mHTTPConnection.getresponse\u001b[1;34m(self)\u001b[0m\n\u001b[0;32m   1375\u001b[0m \u001b[38;5;28;01mtry\u001b[39;00m:\n\u001b[0;32m   1376\u001b[0m     \u001b[38;5;28;01mtry\u001b[39;00m:\n\u001b[1;32m-> 1377\u001b[0m         \u001b[43mresponse\u001b[49m\u001b[38;5;241;43m.\u001b[39;49m\u001b[43mbegin\u001b[49m\u001b[43m(\u001b[49m\u001b[43m)\u001b[49m\n\u001b[0;32m   1378\u001b[0m     \u001b[38;5;28;01mexcept\u001b[39;00m \u001b[38;5;167;01mConnectionError\u001b[39;00m:\n\u001b[0;32m   1379\u001b[0m         \u001b[38;5;28mself\u001b[39m\u001b[38;5;241m.\u001b[39mclose()\n",
      "File \u001b[1;32m~\\AppData\\Local\\Programs\\Python\\Python39\\lib\\http\\client.py:320\u001b[0m, in \u001b[0;36mHTTPResponse.begin\u001b[1;34m(self)\u001b[0m\n\u001b[0;32m    318\u001b[0m \u001b[38;5;66;03m# read until we get a non-100 response\u001b[39;00m\n\u001b[0;32m    319\u001b[0m \u001b[38;5;28;01mwhile\u001b[39;00m \u001b[38;5;28;01mTrue\u001b[39;00m:\n\u001b[1;32m--> 320\u001b[0m     version, status, reason \u001b[38;5;241m=\u001b[39m \u001b[38;5;28;43mself\u001b[39;49m\u001b[38;5;241;43m.\u001b[39;49m\u001b[43m_read_status\u001b[49m\u001b[43m(\u001b[49m\u001b[43m)\u001b[49m\n\u001b[0;32m    321\u001b[0m     \u001b[38;5;28;01mif\u001b[39;00m status \u001b[38;5;241m!=\u001b[39m CONTINUE:\n\u001b[0;32m    322\u001b[0m         \u001b[38;5;28;01mbreak\u001b[39;00m\n",
      "File \u001b[1;32m~\\AppData\\Local\\Programs\\Python\\Python39\\lib\\http\\client.py:281\u001b[0m, in \u001b[0;36mHTTPResponse._read_status\u001b[1;34m(self)\u001b[0m\n\u001b[0;32m    280\u001b[0m \u001b[38;5;28;01mdef\u001b[39;00m \u001b[38;5;21m_read_status\u001b[39m(\u001b[38;5;28mself\u001b[39m):\n\u001b[1;32m--> 281\u001b[0m     line \u001b[38;5;241m=\u001b[39m \u001b[38;5;28mstr\u001b[39m(\u001b[38;5;28;43mself\u001b[39;49m\u001b[38;5;241;43m.\u001b[39;49m\u001b[43mfp\u001b[49m\u001b[38;5;241;43m.\u001b[39;49m\u001b[43mreadline\u001b[49m\u001b[43m(\u001b[49m\u001b[43m_MAXLINE\u001b[49m\u001b[43m \u001b[49m\u001b[38;5;241;43m+\u001b[39;49m\u001b[43m \u001b[49m\u001b[38;5;241;43m1\u001b[39;49m\u001b[43m)\u001b[49m, \u001b[38;5;124m\"\u001b[39m\u001b[38;5;124miso-8859-1\u001b[39m\u001b[38;5;124m\"\u001b[39m)\n\u001b[0;32m    282\u001b[0m     \u001b[38;5;28;01mif\u001b[39;00m \u001b[38;5;28mlen\u001b[39m(line) \u001b[38;5;241m>\u001b[39m _MAXLINE:\n\u001b[0;32m    283\u001b[0m         \u001b[38;5;28;01mraise\u001b[39;00m LineTooLong(\u001b[38;5;124m\"\u001b[39m\u001b[38;5;124mstatus line\u001b[39m\u001b[38;5;124m\"\u001b[39m)\n",
      "File \u001b[1;32m~\\AppData\\Local\\Programs\\Python\\Python39\\lib\\socket.py:704\u001b[0m, in \u001b[0;36mSocketIO.readinto\u001b[1;34m(self, b)\u001b[0m\n\u001b[0;32m    702\u001b[0m \u001b[38;5;28;01mwhile\u001b[39;00m \u001b[38;5;28;01mTrue\u001b[39;00m:\n\u001b[0;32m    703\u001b[0m     \u001b[38;5;28;01mtry\u001b[39;00m:\n\u001b[1;32m--> 704\u001b[0m         \u001b[38;5;28;01mreturn\u001b[39;00m \u001b[38;5;28;43mself\u001b[39;49m\u001b[38;5;241;43m.\u001b[39;49m\u001b[43m_sock\u001b[49m\u001b[38;5;241;43m.\u001b[39;49m\u001b[43mrecv_into\u001b[49m\u001b[43m(\u001b[49m\u001b[43mb\u001b[49m\u001b[43m)\u001b[49m\n\u001b[0;32m    705\u001b[0m     \u001b[38;5;28;01mexcept\u001b[39;00m timeout:\n\u001b[0;32m    706\u001b[0m         \u001b[38;5;28mself\u001b[39m\u001b[38;5;241m.\u001b[39m_timeout_occurred \u001b[38;5;241m=\u001b[39m \u001b[38;5;28;01mTrue\u001b[39;00m\n",
      "File \u001b[1;32m~\\AppData\\Local\\Programs\\Python\\Python39\\lib\\ssl.py:1242\u001b[0m, in \u001b[0;36mSSLSocket.recv_into\u001b[1;34m(self, buffer, nbytes, flags)\u001b[0m\n\u001b[0;32m   1238\u001b[0m     \u001b[38;5;28;01mif\u001b[39;00m flags \u001b[38;5;241m!=\u001b[39m \u001b[38;5;241m0\u001b[39m:\n\u001b[0;32m   1239\u001b[0m         \u001b[38;5;28;01mraise\u001b[39;00m \u001b[38;5;167;01mValueError\u001b[39;00m(\n\u001b[0;32m   1240\u001b[0m           \u001b[38;5;124m\"\u001b[39m\u001b[38;5;124mnon-zero flags not allowed in calls to recv_into() on \u001b[39m\u001b[38;5;132;01m%s\u001b[39;00m\u001b[38;5;124m\"\u001b[39m \u001b[38;5;241m%\u001b[39m\n\u001b[0;32m   1241\u001b[0m           \u001b[38;5;28mself\u001b[39m\u001b[38;5;241m.\u001b[39m\u001b[38;5;18m__class__\u001b[39m)\n\u001b[1;32m-> 1242\u001b[0m     \u001b[38;5;28;01mreturn\u001b[39;00m \u001b[38;5;28;43mself\u001b[39;49m\u001b[38;5;241;43m.\u001b[39;49m\u001b[43mread\u001b[49m\u001b[43m(\u001b[49m\u001b[43mnbytes\u001b[49m\u001b[43m,\u001b[49m\u001b[43m \u001b[49m\u001b[43mbuffer\u001b[49m\u001b[43m)\u001b[49m\n\u001b[0;32m   1243\u001b[0m \u001b[38;5;28;01melse\u001b[39;00m:\n\u001b[0;32m   1244\u001b[0m     \u001b[38;5;28;01mreturn\u001b[39;00m \u001b[38;5;28msuper\u001b[39m()\u001b[38;5;241m.\u001b[39mrecv_into(buffer, nbytes, flags)\n",
      "File \u001b[1;32m~\\AppData\\Local\\Programs\\Python\\Python39\\lib\\ssl.py:1100\u001b[0m, in \u001b[0;36mSSLSocket.read\u001b[1;34m(self, len, buffer)\u001b[0m\n\u001b[0;32m   1098\u001b[0m \u001b[38;5;28;01mtry\u001b[39;00m:\n\u001b[0;32m   1099\u001b[0m     \u001b[38;5;28;01mif\u001b[39;00m buffer \u001b[38;5;129;01mis\u001b[39;00m \u001b[38;5;129;01mnot\u001b[39;00m \u001b[38;5;28;01mNone\u001b[39;00m:\n\u001b[1;32m-> 1100\u001b[0m         \u001b[38;5;28;01mreturn\u001b[39;00m \u001b[38;5;28;43mself\u001b[39;49m\u001b[38;5;241;43m.\u001b[39;49m\u001b[43m_sslobj\u001b[49m\u001b[38;5;241;43m.\u001b[39;49m\u001b[43mread\u001b[49m\u001b[43m(\u001b[49m\u001b[38;5;28;43mlen\u001b[39;49m\u001b[43m,\u001b[49m\u001b[43m \u001b[49m\u001b[43mbuffer\u001b[49m\u001b[43m)\u001b[49m\n\u001b[0;32m   1101\u001b[0m     \u001b[38;5;28;01melse\u001b[39;00m:\n\u001b[0;32m   1102\u001b[0m         \u001b[38;5;28;01mreturn\u001b[39;00m \u001b[38;5;28mself\u001b[39m\u001b[38;5;241m.\u001b[39m_sslobj\u001b[38;5;241m.\u001b[39mread(\u001b[38;5;28mlen\u001b[39m)\n",
      "\u001b[1;31mKeyboardInterrupt\u001b[0m: "
     ]
    }
   ],
   "source": [
    "unique_zip_codes = df['zip_code'].unique()\n",
    "\n",
    "chunk_size = 2000\n",
    "output_dir = \"geoprocessed_chunks\"\n",
    "os.makedirs(output_dir, exist_ok=True)\n",
    "\n",
    "# Verificar quais chunks já foram processados\n",
    "processed_chunks = {int(file.split('_')[-1].split('.')[0]) for file in os.listdir(output_dir) if file.endswith(\".csv\")}\n",
    "\n",
    "for i in range(0, len(unique_zip_codes), chunk_size):\n",
    "    chunk_index = i // chunk_size + 1  \n",
    "\n",
    "    if chunk_index in processed_chunks:\n",
    "        print(f\"Chunk {chunk_index} já processado. Pulando...\")\n",
    "        continue\n",
    "\n",
    "    chunk = unique_zip_codes[i:i+chunk_size]\n",
    "    \n",
    "    results = []\n",
    "    for zip_code in tqdm(chunk, desc=f\"Processando chunk {chunk_index}\"):\n",
    "        results.append(get_location_from_zip(zip_code))\n",
    "    \n",
    "    chunk_df = pd.DataFrame(results, columns=['zip_code', 'latitude', 'longitude', 'cidade'])\n",
    "    \n",
    "    chunk_file_name = os.path.join(output_dir, f\"processed_zip_codes_chunk_{chunk_index}.csv\")\n",
    "    chunk_df.to_csv(chunk_file_name, index=False)\n",
    "    print(f\"Chunk {chunk_index} salvo com sucesso em {chunk_file_name}\")\n",
    "    \n",
    "    "
   ]
  },
  {
   "cell_type": "markdown",
   "metadata": {},
   "source": [
    "## Merge final"
   ]
  },
  {
   "cell_type": "code",
   "execution_count": 19,
   "metadata": {},
   "outputs": [
    {
     "data": {
      "text/plain": [
       "(6000, 4)"
      ]
     },
     "execution_count": 19,
     "metadata": {},
     "output_type": "execute_result"
    }
   ],
   "source": [
    "output_dir = \"geoprocessed_chunks\"\n",
    "\n",
    "all_chunk_files = glob.glob(os.path.join(output_dir, \"processed_zip_codes_chunk_*.csv\"))\n",
    "processed_chunks_df = pd.concat([pd.read_csv(file) for file in all_chunk_files], ignore_index=True)\n",
    "processed_chunks_df.shape"
   ]
  },
  {
   "cell_type": "code",
   "execution_count": 23,
   "metadata": {},
   "outputs": [
    {
     "data": {
      "text/html": [
       "<div>\n",
       "<style scoped>\n",
       "    .dataframe tbody tr th:only-of-type {\n",
       "        vertical-align: middle;\n",
       "    }\n",
       "\n",
       "    .dataframe tbody tr th {\n",
       "        vertical-align: top;\n",
       "    }\n",
       "\n",
       "    .dataframe thead th {\n",
       "        text-align: right;\n",
       "    }\n",
       "</style>\n",
       "<table border=\"1\" class=\"dataframe\">\n",
       "  <thead>\n",
       "    <tr style=\"text-align: right;\">\n",
       "      <th></th>\n",
       "      <th>zip_code</th>\n",
       "      <th>latitude</th>\n",
       "      <th>longitude</th>\n",
       "      <th>cmte_id</th>\n",
       "      <th>amndt_ind</th>\n",
       "      <th>rpt_tp</th>\n",
       "      <th>transaction_pgi</th>\n",
       "      <th>transaction_tp</th>\n",
       "      <th>entity_tp</th>\n",
       "      <th>city</th>\n",
       "      <th>state</th>\n",
       "      <th>employer</th>\n",
       "      <th>occupation</th>\n",
       "      <th>transaction_dt</th>\n",
       "      <th>transaction_amt</th>\n",
       "      <th>file_num</th>\n",
       "    </tr>\n",
       "  </thead>\n",
       "  <tbody>\n",
       "    <tr>\n",
       "      <th>0</th>\n",
       "      <td>22303</td>\n",
       "      <td>38.792127</td>\n",
       "      <td>-77.081296</td>\n",
       "      <td>C00030718</td>\n",
       "      <td>N</td>\n",
       "      <td>M4</td>\n",
       "      <td>Desconhecido</td>\n",
       "      <td>15</td>\n",
       "      <td>IND</td>\n",
       "      <td>ALEXANDRIA</td>\n",
       "      <td>VA</td>\n",
       "      <td>COLDWELL BANKER RESIDENTIAL BK</td>\n",
       "      <td>REAL ESTATE BROKER</td>\n",
       "      <td>3092011.0</td>\n",
       "      <td>5.703782</td>\n",
       "      <td>724491.0</td>\n",
       "    </tr>\n",
       "    <tr>\n",
       "      <th>1</th>\n",
       "      <td>22303</td>\n",
       "      <td>38.792127</td>\n",
       "      <td>-77.081296</td>\n",
       "      <td>C00075820</td>\n",
       "      <td>N</td>\n",
       "      <td>M8</td>\n",
       "      <td>Desconhecido</td>\n",
       "      <td>15</td>\n",
       "      <td>IND</td>\n",
       "      <td>ALEXANDRIA</td>\n",
       "      <td>VA</td>\n",
       "      <td>INSTITUTE OF DEFENSE ANALYSES</td>\n",
       "      <td>INSTITUTE OF DEFENSE ANALYSES</td>\n",
       "      <td>7132011.0</td>\n",
       "      <td>6.907755</td>\n",
       "      <td>742738.0</td>\n",
       "    </tr>\n",
       "    <tr>\n",
       "      <th>2</th>\n",
       "      <td>22303</td>\n",
       "      <td>38.792127</td>\n",
       "      <td>-77.081296</td>\n",
       "      <td>C00287045</td>\n",
       "      <td>A</td>\n",
       "      <td>Q2</td>\n",
       "      <td>P</td>\n",
       "      <td>15</td>\n",
       "      <td>IND</td>\n",
       "      <td>ALEXANDRIA</td>\n",
       "      <td>VA</td>\n",
       "      <td>CAPTIAL STRATEGIES DC</td>\n",
       "      <td>PRINCIPAL</td>\n",
       "      <td>5312011.0</td>\n",
       "      <td>5.521461</td>\n",
       "      <td>743781.0</td>\n",
       "    </tr>\n",
       "    <tr>\n",
       "      <th>3</th>\n",
       "      <td>22303</td>\n",
       "      <td>38.792127</td>\n",
       "      <td>-77.081296</td>\n",
       "      <td>C00384818</td>\n",
       "      <td>N</td>\n",
       "      <td>M9</td>\n",
       "      <td>Desconhecido</td>\n",
       "      <td>15</td>\n",
       "      <td>IND</td>\n",
       "      <td>ALEXANDRIA</td>\n",
       "      <td>VA</td>\n",
       "      <td>CAREMARK, L.L.C</td>\n",
       "      <td>SVP GOVNMT RELATIONS CVS CMK</td>\n",
       "      <td>8122011.0</td>\n",
       "      <td>6.030685</td>\n",
       "      <td>745409.0</td>\n",
       "    </tr>\n",
       "    <tr>\n",
       "      <th>4</th>\n",
       "      <td>22303</td>\n",
       "      <td>38.792127</td>\n",
       "      <td>-77.081296</td>\n",
       "      <td>C00193433</td>\n",
       "      <td>N</td>\n",
       "      <td>YE</td>\n",
       "      <td>Desconhecido</td>\n",
       "      <td>15</td>\n",
       "      <td>IND</td>\n",
       "      <td>ALEXANDRIA</td>\n",
       "      <td>VA</td>\n",
       "      <td>FINANCIAL ADVISOR</td>\n",
       "      <td>None</td>\n",
       "      <td>12142012.0</td>\n",
       "      <td>5.521461</td>\n",
       "      <td>848470.0</td>\n",
       "    </tr>\n",
       "  </tbody>\n",
       "</table>\n",
       "</div>"
      ],
      "text/plain": [
       "  zip_code   latitude  longitude    cmte_id amndt_ind rpt_tp transaction_pgi  \\\n",
       "0    22303  38.792127 -77.081296  C00030718         N     M4    Desconhecido   \n",
       "1    22303  38.792127 -77.081296  C00075820         N     M8    Desconhecido   \n",
       "2    22303  38.792127 -77.081296  C00287045         A     Q2               P   \n",
       "3    22303  38.792127 -77.081296  C00384818         N     M9    Desconhecido   \n",
       "4    22303  38.792127 -77.081296  C00193433         N     YE    Desconhecido   \n",
       "\n",
       "  transaction_tp entity_tp        city state                        employer  \\\n",
       "0             15       IND  ALEXANDRIA    VA  COLDWELL BANKER RESIDENTIAL BK   \n",
       "1             15       IND  ALEXANDRIA    VA   INSTITUTE OF DEFENSE ANALYSES   \n",
       "2             15       IND  ALEXANDRIA    VA           CAPTIAL STRATEGIES DC   \n",
       "3             15       IND  ALEXANDRIA    VA                 CAREMARK, L.L.C   \n",
       "4             15       IND  ALEXANDRIA    VA               FINANCIAL ADVISOR   \n",
       "\n",
       "                      occupation  transaction_dt  transaction_amt  file_num  \n",
       "0             REAL ESTATE BROKER       3092011.0         5.703782  724491.0  \n",
       "1  INSTITUTE OF DEFENSE ANALYSES       7132011.0         6.907755  742738.0  \n",
       "2                      PRINCIPAL       5312011.0         5.521461  743781.0  \n",
       "3   SVP GOVNMT RELATIONS CVS CMK       8122011.0         6.030685  745409.0  \n",
       "4                           None      12142012.0         5.521461  848470.0  "
      ]
     },
     "execution_count": 23,
     "metadata": {},
     "output_type": "execute_result"
    }
   ],
   "source": [
    "merge_1 = processed_chunks_df[['zip_code', 'latitude', 'longitude']]\n",
    "amostra_teste = pd.merge(merge_1, df, on='zip_code', how='inner')\n",
    "amostra_teste.head(5)"
   ]
  },
  {
   "cell_type": "code",
   "execution_count": 24,
   "metadata": {},
   "outputs": [],
   "source": [
    "amostra_teste.to_csv(\"amostra.csv\")"
   ]
  }
 ],
 "metadata": {
  "kernelspec": {
   "display_name": ".venv",
   "language": "python",
   "name": "python3"
  },
  "language_info": {
   "codemirror_mode": {
    "name": "ipython",
    "version": 3
   },
   "file_extension": ".py",
   "mimetype": "text/x-python",
   "name": "python",
   "nbconvert_exporter": "python",
   "pygments_lexer": "ipython3",
   "version": "3.9.13"
  }
 },
 "nbformat": 4,
 "nbformat_minor": 2
}
